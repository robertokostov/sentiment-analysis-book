{
  "nbformat": 4,
  "nbformat_minor": 0,
  "metadata": {
    "colab": {
      "name": "is-code.ipynb",
      "provenance": [],
      "collapsed_sections": [
        "xBj5aWGiu6_l",
        "hpsI7BGbqcdF",
        "cUyUkoFOqiJy",
        "qhq0VFhiwnLR",
        "4PlJnLBy4CSM",
        "8bExuG7-2htJ",
        "2KZmxp1w4Q5Y",
        "CXvyQLHL2Evi",
        "CsD4Sovc46uL",
        "o7GFsn4n6jqU",
        "8hr-CMTV6lza",
        "5Lbykyvx6nrH",
        "2Q2kXbBw664E",
        "pWM3y3237p-o",
        "4JPcTqVhAgsX",
        "l1DPMvPO7tNj"
      ]
    },
    "kernelspec": {
      "name": "python3",
      "display_name": "Python 3"
    },
    "language_info": {
      "name": "python"
    }
  },
  "cells": [
    {
      "cell_type": "markdown",
      "metadata": {
        "id": "tRdpRtTSe3EH"
      },
      "source": [
        "### [Линк](https://colab.research.google.com/drive/1mguVQuMEn2mIfISPCf4I9P6rvjNAK2ub?usp=sharing) до самиот Notebook"
      ]
    },
    {
      "cell_type": "markdown",
      "metadata": {
        "id": "xBj5aWGiu6_l"
      },
      "source": [
        "### Вовед"
      ]
    },
    {
      "cell_type": "markdown",
      "metadata": {
        "id": "hpsI7BGbqcdF"
      },
      "source": [
        "#### Import на библиотеките кои се користат во кодот"
      ]
    },
    {
      "cell_type": "code",
      "metadata": {
        "id": "h7vYNpukGweH"
      },
      "source": [
        "from keras.models import Model\n",
        "from keras.layers import Dense, Input, Dropout, LSTM, Activation\n",
        "from keras.layers.embeddings import Embedding\n",
        "from sklearn.metrics import classification_report, f1_score, log_loss, precision_score, recall_score\n",
        "\n",
        "import csv\n",
        "import matplotlib.pyplot as plt\n",
        "import numpy as np\n",
        "import pandas as pd\n",
        "\n",
        "np.random.seed(1)"
      ],
      "execution_count": 1,
      "outputs": []
    },
    {
      "cell_type": "markdown",
      "metadata": {
        "id": "cUyUkoFOqiJy"
      },
      "source": [
        "#### Симнување на glove векторите за репрезентација на зборови"
      ]
    },
    {
      "cell_type": "code",
      "metadata": {
        "colab": {
          "base_uri": "https://localhost:8080/"
        },
        "id": "-dknM0a2mUvr",
        "outputId": "d1841b1d-332d-4051-c9cb-ce4f696185ad"
      },
      "source": [
        "!wget http://nlp.stanford.edu/data/glove.6B.zip\n",
        "!unzip glove*.zip"
      ],
      "execution_count": 2,
      "outputs": [
        {
          "output_type": "stream",
          "text": [
            "--2021-06-10 18:56:35--  http://nlp.stanford.edu/data/glove.6B.zip\n",
            "Resolving nlp.stanford.edu (nlp.stanford.edu)... 171.64.67.140\n",
            "Connecting to nlp.stanford.edu (nlp.stanford.edu)|171.64.67.140|:80... connected.\n",
            "HTTP request sent, awaiting response... 302 Found\n",
            "Location: https://nlp.stanford.edu/data/glove.6B.zip [following]\n",
            "--2021-06-10 18:56:35--  https://nlp.stanford.edu/data/glove.6B.zip\n",
            "Connecting to nlp.stanford.edu (nlp.stanford.edu)|171.64.67.140|:443... connected.\n",
            "HTTP request sent, awaiting response... 301 Moved Permanently\n",
            "Location: http://downloads.cs.stanford.edu/nlp/data/glove.6B.zip [following]\n",
            "--2021-06-10 18:56:36--  http://downloads.cs.stanford.edu/nlp/data/glove.6B.zip\n",
            "Resolving downloads.cs.stanford.edu (downloads.cs.stanford.edu)... 171.64.64.22\n",
            "Connecting to downloads.cs.stanford.edu (downloads.cs.stanford.edu)|171.64.64.22|:80... connected.\n",
            "HTTP request sent, awaiting response... 200 OK\n",
            "Length: 862182613 (822M) [application/zip]\n",
            "Saving to: ‘glove.6B.zip’\n",
            "\n",
            "glove.6B.zip        100%[===================>] 822.24M  5.07MB/s    in 2m 48s  \n",
            "\n",
            "2021-06-10 18:59:24 (4.90 MB/s) - ‘glove.6B.zip’ saved [862182613/862182613]\n",
            "\n",
            "Archive:  glove.6B.zip\n",
            "  inflating: glove.6B.50d.txt        \n",
            "  inflating: glove.6B.100d.txt       \n",
            "  inflating: glove.6B.200d.txt       \n",
            "  inflating: glove.6B.300d.txt       \n"
          ],
          "name": "stdout"
        }
      ]
    },
    {
      "cell_type": "markdown",
      "metadata": {
        "id": "qhq0VFhiwnLR"
      },
      "source": [
        "### Помошни функции"
      ]
    },
    {
      "cell_type": "markdown",
      "metadata": {
        "id": "4PlJnLBy4CSM"
      },
      "source": [
        "#### Исчитување на glove фајлот со вредности"
      ]
    },
    {
      "cell_type": "code",
      "metadata": {
        "id": "-qKz7uWfIjdx"
      },
      "source": [
        "def read_glove_vecs(glove_file):\n",
        "    with open(glove_file, 'r', encoding=\"utf8\") as f:\n",
        "        words = set()\n",
        "        word_to_vec_map = {}\n",
        "        for line in f:\n",
        "            line = line.strip().split()\n",
        "            curr_word = line[0]\n",
        "            words.add(curr_word)\n",
        "            word_to_vec_map[curr_word] = np.array(line[1:], dtype=np.float64)\n",
        "\n",
        "        i = 1\n",
        "        words_to_index = {}\n",
        "        index_to_words = {}\n",
        "        for w in sorted(words):\n",
        "            words_to_index[w] = i\n",
        "            index_to_words[i] = w\n",
        "            i = i + 1\n",
        "            \n",
        "    return words_to_index, index_to_words, word_to_vec_map"
      ],
      "execution_count": 3,
      "outputs": []
    },
    {
      "cell_type": "markdown",
      "metadata": {
        "id": "8bExuG7-2htJ"
      },
      "source": [
        "#### Softmax функцијата"
      ]
    },
    {
      "cell_type": "code",
      "metadata": {
        "id": "2jFMvyQJIo1L"
      },
      "source": [
        "def softmax(x):\n",
        "    e_x = np.exp(x - np.max(x))\n",
        "    \n",
        "    return e_x / e_x.sum()"
      ],
      "execution_count": 4,
      "outputs": []
    },
    {
      "cell_type": "markdown",
      "metadata": {
        "id": "2KZmxp1w4Q5Y"
      },
      "source": [
        "#### Читање на соодветните вредности од CSV train и test датотеките"
      ]
    },
    {
      "cell_type": "code",
      "metadata": {
        "id": "Z8J8vGNxIr23"
      },
      "source": [
        "def read_csv(filename):\n",
        "    phrase = []\n",
        "    emoji_ = []\n",
        "\n",
        "    with open(filename) as csvDataFile:\n",
        "        csv_reader = csv.reader(csvDataFile)\n",
        "\n",
        "        for row in csv_reader:\n",
        "            phrase.append(row[0])\n",
        "            emoji_.append(row[1])\n",
        "\n",
        "    x = np.asarray(phrase)\n",
        "    y = np.asarray(emoji_, dtype=int)\n",
        "\n",
        "    return x, y\n"
      ],
      "execution_count": 5,
      "outputs": []
    },
    {
      "cell_type": "markdown",
      "metadata": {
        "id": "CXvyQLHL2Evi"
      },
      "source": [
        "#### Излезите(бројки) ги претвора во one-hot вектори"
      ]
    },
    {
      "cell_type": "code",
      "metadata": {
        "id": "6l1ElPjaIzcP"
      },
      "source": [
        "def convert_to_one_hot(y, c):\n",
        "    y = np.eye(c)[y.reshape(-1)]\n",
        "    \n",
        "    return y"
      ],
      "execution_count": 6,
      "outputs": []
    },
    {
      "cell_type": "markdown",
      "metadata": {
        "id": "CsD4Sovc46uL"
      },
      "source": [
        "#### Предвидување на излезите при дадени елементи како влез"
      ]
    },
    {
      "cell_type": "code",
      "metadata": {
        "id": "UFMS7-IGJBrM"
      },
      "source": [
        "def predict(X, Y, W, b, word_to_vec_map):\n",
        "    m = X.shape[0]\n",
        "    pred = np.zeros((m, 1))\n",
        "\n",
        "    for j in range(m):\n",
        "        words = X[j].lower().split()\n",
        "\n",
        "        avg = np.zeros((50,))\n",
        "        for w in words:\n",
        "            avg += word_to_vec_map[w]\n",
        "        avg = avg / len(words)\n",
        "\n",
        "        z = np.dot(W, avg) + b\n",
        "        a = softmax(z)\n",
        "        pred[j] = np.argmax(a)\n",
        "\n",
        "    print(\"Accuracy: \" + str(np.mean((pred[:] == Y.reshape(Y.shape[0], 1)[:]))))\n",
        "\n",
        "    return pred"
      ],
      "execution_count": 7,
      "outputs": []
    },
    {
      "cell_type": "markdown",
      "metadata": {
        "id": "o7GFsn4n6jqU"
      },
      "source": [
        "#### Претворање на реченици дадени како влез во матрици од вредности"
      ]
    },
    {
      "cell_type": "code",
      "metadata": {
        "id": "sM3SlQUdKKKk"
      },
      "source": [
        "def sentences_to_indices(X, word_to_index, max_len):\n",
        "    m = X.shape[0] \n",
        "    x_indices = np.zeros((m, max_len))\n",
        "\n",
        "    for i in range(m):\n",
        "        sentence_words = (X[i].lower()).split()\n",
        "        j = 0\n",
        "    \n",
        "        for w in sentence_words:\n",
        "            # i-тата вредност е редниот број на реченицата, j-тата е редниот\n",
        "            # број на зборот во неа. вредноста која се поставува е таа на \n",
        "            # соодветниот збор\n",
        "            x_indices[i, j] = word_to_index[w]\n",
        "            j = j + 1\n",
        "    \n",
        "    return x_indices"
      ],
      "execution_count": 8,
      "outputs": []
    },
    {
      "cell_type": "markdown",
      "metadata": {
        "id": "8hr-CMTV6lza"
      },
      "source": [
        "#### Креирање на веќе истрениран Embedding слој со помош на glove векторите"
      ]
    },
    {
      "cell_type": "code",
      "metadata": {
        "id": "IR60_ZQIKWCc"
      },
      "source": [
        "def pretrained_embedding_layer(word_to_vec_map, word_to_index):\n",
        "    vocab_len = len(word_to_index) + 1\n",
        "    emb_dim = word_to_vec_map[\"cucumber\"].shape[0]\n",
        "    emb_matrix = np.zeros((vocab_len, emb_dim))\n",
        "\n",
        "    for word, index in word_to_index.items():\n",
        "        emb_matrix[index, :] = word_to_vec_map[word]\n",
        "\n",
        "    embedding_layer = Embedding(vocab_len, emb_dim)\n",
        "    embedding_layer.build((None,))\n",
        "    embedding_layer.set_weights([emb_matrix])\n",
        "\n",
        "    return embedding_layer"
      ],
      "execution_count": 9,
      "outputs": []
    },
    {
      "cell_type": "markdown",
      "metadata": {
        "id": "5Lbykyvx6nrH"
      },
      "source": [
        "#### Креирање на модел со соодветни предефинирани вредности"
      ]
    },
    {
      "cell_type": "code",
      "metadata": {
        "id": "2UH6KMEoKW6m"
      },
      "source": [
        "def sentiment_analysis(input_shape, word_to_vec_map, word_to_index):\n",
        "    sentence_indices = Input(shape=input_shape, dtype=np.int32)\n",
        "    embedding_layer = pretrained_embedding_layer(word_to_vec_map, word_to_index)\n",
        "    embeddings = embedding_layer(sentence_indices)\n",
        "\n",
        "    # LSTM слој со 128-димензионален hidden state\n",
        "    X = LSTM(128, return_sequences=True)(embeddings)\n",
        "    \n",
        "    # Веројатност на зачувување од 0.5\n",
        "    X = Dropout(0.5)(X)\n",
        "    \n",
        "    # Уште еден LSTM слој со 128-димензионален hidden state\n",
        "    X = LSTM(128)(X)\n",
        "\n",
        "    X = Dropout(0.5)(X)\n",
        "    X = Dense(5, activation='softmax')(X)\n",
        "    X = Activation('softmax')(X)\n",
        "\n",
        "    model = Model(sentence_indices, X)\n",
        "\n",
        "    return model"
      ],
      "execution_count": 10,
      "outputs": []
    },
    {
      "cell_type": "markdown",
      "metadata": {
        "id": "nDFhT4GJwtws"
      },
      "source": [
        "### Main дел"
      ]
    },
    {
      "cell_type": "markdown",
      "metadata": {
        "id": "2Q2kXbBw664E"
      },
      "source": [
        "#### Читање на train и test податоците, пренос на излезите како one-hot вектори, читање на векторите за репрезентација на зборови"
      ]
    },
    {
      "cell_type": "code",
      "metadata": {
        "id": "akJgOxOwrVm0"
      },
      "source": [
        "X_train, Y_train = read_csv('datasets/train_set.csv')\n",
        "X_test, Y_test = read_csv('datasets/test_set.csv')\n",
        "\n",
        "maxLen = len(max(X_train, key=len).split())\n",
        "\n",
        "Y_oh_train = convert_to_one_hot(Y_train, 5)\n",
        "Y_oh_test = convert_to_one_hot(Y_test, 5)\n",
        "\n",
        "word_to_index_, index_to_word, word_to_vec_map_ = read_glove_vecs('glove.6B.50d.txt')"
      ],
      "execution_count": 11,
      "outputs": []
    },
    {
      "cell_type": "markdown",
      "metadata": {
        "id": "pWM3y3237p-o"
      },
      "source": [
        "#### Креирање и тренирање на моделот"
      ]
    },
    {
      "cell_type": "code",
      "metadata": {
        "colab": {
          "base_uri": "https://localhost:8080/"
        },
        "id": "GEvEG5U-KZAz",
        "outputId": "2875788d-adc6-4bc5-ffe0-1bb0a76e2502"
      },
      "source": [
        "model = sentiment_analysis((maxLen,), word_to_vec_map_, word_to_index_)\n",
        "model.summary()\n",
        "model.compile(loss='categorical_crossentropy', optimizer='adam', metrics=['accuracy'])\n",
        "\n",
        "X_train_indices = sentences_to_indices(X_train, word_to_index_, maxLen)\n",
        "Y_train_oh = convert_to_one_hot(Y_train, 5)\n",
        "\n",
        "model.fit(X_train_indices, Y_train_oh, epochs=100, batch_size=32, shuffle=True)"
      ],
      "execution_count": 12,
      "outputs": [
        {
          "output_type": "stream",
          "text": [
            "Model: \"model\"\n",
            "_________________________________________________________________\n",
            "Layer (type)                 Output Shape              Param #   \n",
            "=================================================================\n",
            "input_1 (InputLayer)         [(None, 10)]              0         \n",
            "_________________________________________________________________\n",
            "embedding (Embedding)        (None, 10, 50)            20000050  \n",
            "_________________________________________________________________\n",
            "lstm (LSTM)                  (None, 10, 128)           91648     \n",
            "_________________________________________________________________\n",
            "dropout (Dropout)            (None, 10, 128)           0         \n",
            "_________________________________________________________________\n",
            "lstm_1 (LSTM)                (None, 128)               131584    \n",
            "_________________________________________________________________\n",
            "dropout_1 (Dropout)          (None, 128)               0         \n",
            "_________________________________________________________________\n",
            "dense (Dense)                (None, 5)                 645       \n",
            "_________________________________________________________________\n",
            "activation (Activation)      (None, 5)                 0         \n",
            "=================================================================\n",
            "Total params: 20,223,927\n",
            "Trainable params: 20,223,927\n",
            "Non-trainable params: 0\n",
            "_________________________________________________________________\n",
            "Epoch 1/100\n",
            "5/5 [==============================] - 21s 236ms/step - loss: 1.6077 - accuracy: 0.2362\n",
            "Epoch 2/100\n",
            "5/5 [==============================] - 1s 218ms/step - loss: 1.5747 - accuracy: 0.3385\n",
            "Epoch 3/100\n",
            "5/5 [==============================] - 1s 224ms/step - loss: 1.5560 - accuracy: 0.3526\n",
            "Epoch 4/100\n",
            "5/5 [==============================] - 1s 226ms/step - loss: 1.5360 - accuracy: 0.3647\n",
            "Epoch 5/100\n",
            "5/5 [==============================] - 1s 226ms/step - loss: 1.5411 - accuracy: 0.3419\n",
            "Epoch 6/100\n",
            "5/5 [==============================] - 1s 223ms/step - loss: 1.4935 - accuracy: 0.3855\n",
            "Epoch 7/100\n",
            "5/5 [==============================] - 1s 220ms/step - loss: 1.4544 - accuracy: 0.4995\n",
            "Epoch 8/100\n",
            "5/5 [==============================] - 1s 222ms/step - loss: 1.3927 - accuracy: 0.5995\n",
            "Epoch 9/100\n",
            "5/5 [==============================] - 1s 225ms/step - loss: 1.3332 - accuracy: 0.6278\n",
            "Epoch 10/100\n",
            "5/5 [==============================] - 1s 221ms/step - loss: 1.2991 - accuracy: 0.6548\n",
            "Epoch 11/100\n",
            "5/5 [==============================] - 1s 222ms/step - loss: 1.2444 - accuracy: 0.6628\n",
            "Epoch 12/100\n",
            "5/5 [==============================] - 1s 219ms/step - loss: 1.1899 - accuracy: 0.7189\n",
            "Epoch 13/100\n",
            "5/5 [==============================] - 1s 222ms/step - loss: 1.2341 - accuracy: 0.7030\n",
            "Epoch 14/100\n",
            "5/5 [==============================] - 1s 216ms/step - loss: 1.1315 - accuracy: 0.7639\n",
            "Epoch 15/100\n",
            "5/5 [==============================] - 1s 221ms/step - loss: 1.1487 - accuracy: 0.8020\n",
            "Epoch 16/100\n",
            "5/5 [==============================] - 1s 221ms/step - loss: 1.1457 - accuracy: 0.7602\n",
            "Epoch 17/100\n",
            "5/5 [==============================] - 1s 219ms/step - loss: 1.2081 - accuracy: 0.7107\n",
            "Epoch 18/100\n",
            "5/5 [==============================] - 1s 222ms/step - loss: 1.0634 - accuracy: 0.8598\n",
            "Epoch 19/100\n",
            "5/5 [==============================] - 1s 219ms/step - loss: 1.0930 - accuracy: 0.7981\n",
            "Epoch 20/100\n",
            "5/5 [==============================] - 1s 218ms/step - loss: 1.0401 - accuracy: 0.8834\n",
            "Epoch 21/100\n",
            "5/5 [==============================] - 1s 221ms/step - loss: 1.0645 - accuracy: 0.8398\n",
            "Epoch 22/100\n",
            "5/5 [==============================] - 1s 222ms/step - loss: 1.0286 - accuracy: 0.8897\n",
            "Epoch 23/100\n",
            "5/5 [==============================] - 1s 227ms/step - loss: 1.0272 - accuracy: 0.8797\n",
            "Epoch 24/100\n",
            "5/5 [==============================] - 1s 218ms/step - loss: 1.0076 - accuracy: 0.9166\n",
            "Epoch 25/100\n",
            "5/5 [==============================] - 1s 221ms/step - loss: 0.9790 - accuracy: 0.9299\n",
            "Epoch 26/100\n",
            "5/5 [==============================] - 1s 225ms/step - loss: 0.9571 - accuracy: 0.9594\n",
            "Epoch 27/100\n",
            "5/5 [==============================] - 1s 223ms/step - loss: 1.0027 - accuracy: 0.9119\n",
            "Epoch 28/100\n",
            "5/5 [==============================] - 1s 223ms/step - loss: 0.9698 - accuracy: 0.9353\n",
            "Epoch 29/100\n",
            "5/5 [==============================] - 1s 216ms/step - loss: 1.0097 - accuracy: 0.9096\n",
            "Epoch 30/100\n",
            "5/5 [==============================] - 1s 221ms/step - loss: 0.9704 - accuracy: 0.9378\n",
            "Epoch 31/100\n",
            "5/5 [==============================] - 1s 220ms/step - loss: 0.9903 - accuracy: 0.9100\n",
            "Epoch 32/100\n",
            "5/5 [==============================] - 1s 221ms/step - loss: 0.9688 - accuracy: 0.9434\n",
            "Epoch 33/100\n",
            "5/5 [==============================] - 1s 218ms/step - loss: 0.9672 - accuracy: 0.9296\n",
            "Epoch 34/100\n",
            "5/5 [==============================] - 1s 226ms/step - loss: 0.9705 - accuracy: 0.9272\n",
            "Epoch 35/100\n",
            "5/5 [==============================] - 1s 221ms/step - loss: 0.9473 - accuracy: 0.9553\n",
            "Epoch 36/100\n",
            "5/5 [==============================] - 1s 221ms/step - loss: 0.9511 - accuracy: 0.9564\n",
            "Epoch 37/100\n",
            "5/5 [==============================] - 1s 222ms/step - loss: 0.9549 - accuracy: 0.9489\n",
            "Epoch 38/100\n",
            "5/5 [==============================] - 1s 218ms/step - loss: 0.9384 - accuracy: 0.9696\n",
            "Epoch 39/100\n",
            "5/5 [==============================] - 1s 219ms/step - loss: 0.9315 - accuracy: 0.9757\n",
            "Epoch 40/100\n",
            "5/5 [==============================] - 1s 222ms/step - loss: 0.9368 - accuracy: 0.9687\n",
            "Epoch 41/100\n",
            "5/5 [==============================] - 1s 219ms/step - loss: 0.9537 - accuracy: 0.9513\n",
            "Epoch 42/100\n",
            "5/5 [==============================] - 1s 217ms/step - loss: 0.9447 - accuracy: 0.9600\n",
            "Epoch 43/100\n",
            "5/5 [==============================] - 1s 220ms/step - loss: 0.9420 - accuracy: 0.9626\n",
            "Epoch 44/100\n",
            "5/5 [==============================] - 1s 219ms/step - loss: 0.9528 - accuracy: 0.9513\n",
            "Epoch 45/100\n",
            "5/5 [==============================] - 1s 217ms/step - loss: 0.9372 - accuracy: 0.9687\n",
            "Epoch 46/100\n",
            "5/5 [==============================] - 1s 215ms/step - loss: 0.9491 - accuracy: 0.9557\n",
            "Epoch 47/100\n",
            "5/5 [==============================] - 1s 218ms/step - loss: 0.9477 - accuracy: 0.9566\n",
            "Epoch 48/100\n",
            "5/5 [==============================] - 1s 218ms/step - loss: 0.9343 - accuracy: 0.9731\n",
            "Epoch 49/100\n",
            "5/5 [==============================] - 1s 217ms/step - loss: 0.9318 - accuracy: 0.9739\n",
            "Epoch 50/100\n",
            "5/5 [==============================] - 1s 216ms/step - loss: 0.9478 - accuracy: 0.9557\n",
            "Epoch 51/100\n",
            "5/5 [==============================] - 1s 229ms/step - loss: 0.9376 - accuracy: 0.9665\n",
            "Epoch 52/100\n",
            "5/5 [==============================] - 1s 221ms/step - loss: 0.9502 - accuracy: 0.9531\n",
            "Epoch 53/100\n",
            "5/5 [==============================] - 1s 216ms/step - loss: 0.9521 - accuracy: 0.9505\n",
            "Epoch 54/100\n",
            "5/5 [==============================] - 1s 223ms/step - loss: 0.9318 - accuracy: 0.9731\n",
            "Epoch 55/100\n",
            "5/5 [==============================] - 1s 223ms/step - loss: 0.9325 - accuracy: 0.9726\n",
            "Epoch 56/100\n",
            "5/5 [==============================] - 1s 220ms/step - loss: 0.9412 - accuracy: 0.9626\n",
            "Epoch 57/100\n",
            "5/5 [==============================] - 1s 220ms/step - loss: 0.9472 - accuracy: 0.9553\n",
            "Epoch 58/100\n",
            "5/5 [==============================] - 1s 216ms/step - loss: 0.9479 - accuracy: 0.9566\n",
            "Epoch 59/100\n",
            "5/5 [==============================] - 1s 215ms/step - loss: 0.9430 - accuracy: 0.9635\n",
            "Epoch 60/100\n",
            "5/5 [==============================] - 1s 227ms/step - loss: 0.9384 - accuracy: 0.9670\n",
            "Epoch 61/100\n",
            "5/5 [==============================] - 1s 227ms/step - loss: 0.9320 - accuracy: 0.9735\n",
            "Epoch 62/100\n",
            "5/5 [==============================] - 1s 225ms/step - loss: 0.9354 - accuracy: 0.9652\n",
            "Epoch 63/100\n",
            "5/5 [==============================] - 1s 218ms/step - loss: 0.9296 - accuracy: 0.9769\n",
            "Epoch 64/100\n",
            "5/5 [==============================] - 1s 222ms/step - loss: 0.9318 - accuracy: 0.9708\n",
            "Epoch 65/100\n",
            "5/5 [==============================] - 1s 215ms/step - loss: 0.9271 - accuracy: 0.9842\n",
            "Epoch 66/100\n",
            "5/5 [==============================] - 1s 219ms/step - loss: 0.9289 - accuracy: 0.9751\n",
            "Epoch 67/100\n",
            "5/5 [==============================] - 1s 217ms/step - loss: 0.9258 - accuracy: 0.9807\n",
            "Epoch 68/100\n",
            "5/5 [==============================] - 1s 219ms/step - loss: 0.9254 - accuracy: 0.9863\n",
            "Epoch 69/100\n",
            "5/5 [==============================] - 1s 216ms/step - loss: 0.9265 - accuracy: 0.9828\n",
            "Epoch 70/100\n",
            "5/5 [==============================] - 1s 223ms/step - loss: 0.9177 - accuracy: 0.9906\n",
            "Epoch 71/100\n",
            "5/5 [==============================] - 1s 217ms/step - loss: 0.9167 - accuracy: 0.9906\n",
            "Epoch 72/100\n",
            "5/5 [==============================] - 1s 224ms/step - loss: 0.9203 - accuracy: 0.9889\n",
            "Epoch 73/100\n",
            "5/5 [==============================] - 1s 217ms/step - loss: 0.9203 - accuracy: 0.9880\n",
            "Epoch 74/100\n",
            "5/5 [==============================] - 1s 221ms/step - loss: 0.9176 - accuracy: 0.9880\n",
            "Epoch 75/100\n",
            "5/5 [==============================] - 1s 219ms/step - loss: 0.9248 - accuracy: 0.9828\n",
            "Epoch 76/100\n",
            "5/5 [==============================] - 1s 223ms/step - loss: 0.9223 - accuracy: 0.9841\n",
            "Epoch 77/100\n",
            "5/5 [==============================] - 1s 218ms/step - loss: 0.9222 - accuracy: 0.9824\n",
            "Epoch 78/100\n",
            "5/5 [==============================] - 1s 222ms/step - loss: 0.9270 - accuracy: 0.9785\n",
            "Epoch 79/100\n",
            "5/5 [==============================] - 1s 227ms/step - loss: 0.9332 - accuracy: 0.9732\n",
            "Epoch 80/100\n",
            "5/5 [==============================] - 1s 218ms/step - loss: 0.9323 - accuracy: 0.9732\n",
            "Epoch 81/100\n",
            "5/5 [==============================] - 1s 224ms/step - loss: 0.9153 - accuracy: 0.9923\n",
            "Epoch 82/100\n",
            "5/5 [==============================] - 1s 221ms/step - loss: 0.9121 - accuracy: 0.9936\n",
            "Epoch 83/100\n",
            "5/5 [==============================] - 1s 218ms/step - loss: 0.9220 - accuracy: 0.9828\n",
            "Epoch 84/100\n",
            "5/5 [==============================] - 1s 219ms/step - loss: 0.9167 - accuracy: 0.9889\n",
            "Epoch 85/100\n",
            "5/5 [==============================] - 1s 221ms/step - loss: 0.9315 - accuracy: 0.9732\n",
            "Epoch 86/100\n",
            "5/5 [==============================] - 1s 221ms/step - loss: 0.9119 - accuracy: 0.9936\n",
            "Epoch 87/100\n",
            "5/5 [==============================] - 1s 221ms/step - loss: 0.9152 - accuracy: 0.9906\n",
            "Epoch 88/100\n",
            "5/5 [==============================] - 1s 226ms/step - loss: 0.9218 - accuracy: 0.9837\n",
            "Epoch 89/100\n",
            "5/5 [==============================] - 1s 219ms/step - loss: 0.9168 - accuracy: 0.9889\n",
            "Epoch 90/100\n",
            "5/5 [==============================] - 1s 216ms/step - loss: 0.9167 - accuracy: 0.9889\n",
            "Epoch 91/100\n",
            "5/5 [==============================] - 1s 221ms/step - loss: 0.9148 - accuracy: 0.9906\n",
            "Epoch 92/100\n",
            "5/5 [==============================] - 1s 221ms/step - loss: 0.9243 - accuracy: 0.9811\n",
            "Epoch 93/100\n",
            "5/5 [==============================] - 1s 220ms/step - loss: 0.9320 - accuracy: 0.9732\n",
            "Epoch 94/100\n",
            "5/5 [==============================] - 1s 219ms/step - loss: 0.9224 - accuracy: 0.9828\n",
            "Epoch 95/100\n",
            "5/5 [==============================] - 1s 220ms/step - loss: 0.9322 - accuracy: 0.9732\n",
            "Epoch 96/100\n",
            "5/5 [==============================] - 1s 219ms/step - loss: 0.9321 - accuracy: 0.9732\n",
            "Epoch 97/100\n",
            "5/5 [==============================] - 1s 224ms/step - loss: 0.9173 - accuracy: 0.9880\n",
            "Epoch 98/100\n",
            "5/5 [==============================] - 1s 219ms/step - loss: 0.9270 - accuracy: 0.9785\n",
            "Epoch 99/100\n",
            "5/5 [==============================] - 1s 222ms/step - loss: 0.9129 - accuracy: 0.9923\n",
            "Epoch 100/100\n",
            "5/5 [==============================] - 1s 219ms/step - loss: 0.9219 - accuracy: 0.9837\n"
          ],
          "name": "stdout"
        },
        {
          "output_type": "execute_result",
          "data": {
            "text/plain": [
              "<keras.callbacks.History at 0x7efd3231fc10>"
            ]
          },
          "metadata": {
            "tags": []
          },
          "execution_count": 12
        }
      ]
    },
    {
      "cell_type": "markdown",
      "metadata": {
        "id": "4JPcTqVhAgsX"
      },
      "source": [
        "#### Тестирање на моделот со test податоците"
      ]
    },
    {
      "cell_type": "code",
      "metadata": {
        "colab": {
          "base_uri": "https://localhost:8080/"
        },
        "id": "z-0mnqnT_5Ww",
        "outputId": "f9dd5d0b-e270-4f54-d89a-63230c5193ba"
      },
      "source": [
        "X_test_indices = sentences_to_indices(X_test, word_to_index_, max_len=maxLen)\n",
        "Y_test_oh = convert_to_one_hot(Y_test, 5)\n",
        "\n",
        "loss, acc = model.evaluate(X_test_indices, Y_test_oh)\n",
        "print()\n",
        "print(\"Accuracy \", acc)"
      ],
      "execution_count": 13,
      "outputs": [
        {
          "output_type": "stream",
          "text": [
            "2/2 [==============================] - 1s 12ms/step - loss: 1.1112 - accuracy: 0.7857\n",
            "\n",
            "Accuracy  0.7857142686843872\n"
          ],
          "name": "stdout"
        }
      ]
    },
    {
      "cell_type": "markdown",
      "metadata": {
        "id": "l1DPMvPO7tNj"
      },
      "source": [
        "#### Преглед на влезовите кои се грешно предвидени и дополнителни метрики за евалуација"
      ]
    },
    {
      "cell_type": "code",
      "metadata": {
        "colab": {
          "base_uri": "https://localhost:8080/"
        },
        "id": "2aj86ce1oNuZ",
        "outputId": "8d192c97-f1b3-4b27-f659-310d5039e38c"
      },
      "source": [
        "y_test_oh = np.eye(5)[Y_test.reshape(-1)]\n",
        "X_test_indices = sentences_to_indices(X_test, word_to_index_, maxLen)\n",
        "pred = model.predict(X_test_indices)\n",
        "\n",
        "actual = []\n",
        "predicted = []\n",
        "\n",
        "for i in range(len(X_test)):\n",
        "    x = X_test_indices\n",
        "    num = np.argmax(pred[i])\n",
        "\n",
        "    actual.append(Y_test[i])\n",
        "    predicted.append(num)\n",
        "\n",
        "    if num != Y_test[i]:\n",
        "        print('Input: ' + str(X_test[i]))\n",
        "        print('Expected class: ' + str(Y_test[i]))\n",
        "        print('Predicted class: ' + str(num) + '\\n')\n",
        "\n",
        "precision = precision_score(actual, predicted, average='macro')\n",
        "recall = recall_score(actual, predicted, average='macro')\n",
        "f1_score = f1_score(actual, predicted, average='macro')\n",
        "loss = log_loss(actual, pred, eps=1e-15)\n",
        "matrix = classification_report(actual, predicted, labels=[0, 1, 2, 3, 4])"
      ],
      "execution_count": 14,
      "outputs": [
        {
          "output_type": "stream",
          "text": [
            "Input: he got a very nice raise\n",
            "Expected class: 2\n",
            "Predicted class: 0\n",
            "\n",
            "Input: he is a good friend\n",
            "Expected class: 2\n",
            "Predicted class: 0\n",
            "\n",
            "Input: This girl is messing with me\n",
            "Expected class: 3\n",
            "Predicted class: 0\n",
            "\n",
            "Input: work is horrible\n",
            "Expected class: 3\n",
            "Predicted class: 2\n",
            "\n",
            "Input: any suggestions for dinner\n",
            "Expected class: 4\n",
            "Predicted class: 2\n",
            "\n",
            "Input: you brighten my day\n",
            "Expected class: 2\n",
            "Predicted class: 0\n",
            "\n",
            "Input: she is a bully\n",
            "Expected class: 3\n",
            "Predicted class: 0\n",
            "\n",
            "Input: My life is so boring\n",
            "Expected class: 3\n",
            "Predicted class: 0\n",
            "\n",
            "Input: will you be my valentine\n",
            "Expected class: 2\n",
            "Predicted class: 0\n",
            "\n",
            "Input: What you did was awesome\n",
            "Expected class: 2\n",
            "Predicted class: 3\n",
            "\n",
            "Input: go away\n",
            "Expected class: 3\n",
            "Predicted class: 1\n",
            "\n",
            "Input: I did not have breakfast\n",
            "Expected class: 4\n",
            "Predicted class: 0\n",
            "\n"
          ],
          "name": "stdout"
        }
      ]
    },
    {
      "cell_type": "markdown",
      "metadata": {
        "id": "vyV_vNZ5PpaQ"
      },
      "source": [
        "#### Тестирање на моделот со влезови од корисник"
      ]
    },
    {
      "cell_type": "code",
      "metadata": {
        "colab": {
          "base_uri": "https://localhost:8080/"
        },
        "id": "Fv1e3n5WPqB4",
        "outputId": "103b9a7f-fe93-4768-b4ea-79049db57905"
      },
      "source": [
        "x_test = np.array(['very happy'])\n",
        "X_test_indices = sentences_to_indices(x_test, word_to_index_, maxLen)\n",
        "print('Input: ' + x_test[0])\n",
        "print('Predicted class: ' + str(np.argmax(model.predict(X_test_indices))) + '\\n')"
      ],
      "execution_count": 15,
      "outputs": [
        {
          "output_type": "stream",
          "text": [
            "Input: very happy\n",
            "Predicted class: 2\n",
            "\n"
          ],
          "name": "stdout"
        }
      ]
    },
    {
      "cell_type": "code",
      "metadata": {
        "colab": {
          "base_uri": "https://localhost:8080/"
        },
        "id": "4MPvk4NyX_-8",
        "outputId": "9ad80339-7cbd-4683-b20a-b651bbd5c76c"
      },
      "source": [
        "x_test = np.array(['very sad'])\n",
        "X_test_indices = sentences_to_indices(x_test, word_to_index_, maxLen)\n",
        "print('Input: ' + x_test[0])\n",
        "print('Predicted class: ' + str(np.argmax(model.predict(X_test_indices))) + '\\n')"
      ],
      "execution_count": 16,
      "outputs": [
        {
          "output_type": "stream",
          "text": [
            "Input: very sad\n",
            "Predicted class: 2\n",
            "\n"
          ],
          "name": "stdout"
        }
      ]
    },
    {
      "cell_type": "code",
      "metadata": {
        "colab": {
          "base_uri": "https://localhost:8080/"
        },
        "id": "2VWMmOOMhbsv",
        "outputId": "4bc48ff3-d165-4f65-fd45-eb7dde269a5d"
      },
      "source": [
        "x_test = np.array(['i am starving'])\n",
        "X_test_indices = sentences_to_indices(x_test, word_to_index_, maxLen)\n",
        "print('Input: ' + x_test[0])\n",
        "print('Predicted class: ' + str(np.argmax(model.predict(X_test_indices))) + '\\n')"
      ],
      "execution_count": 17,
      "outputs": [
        {
          "output_type": "stream",
          "text": [
            "Input: i am starving\n",
            "Predicted class: 4\n",
            "\n"
          ],
          "name": "stdout"
        }
      ]
    },
    {
      "cell_type": "code",
      "metadata": {
        "colab": {
          "base_uri": "https://localhost:8080/"
        },
        "id": "--XHyS-HiwAR",
        "outputId": "59c9b237-d604-4375-c576-7bb23434fcd2"
      },
      "source": [
        "x_test = np.array(['I have met the love of my life'])\n",
        "X_test_indices = sentences_to_indices(x_test, word_to_index_, maxLen)\n",
        "print('Input: ' + x_test[0])\n",
        "print('Predicted class: ' + str(np.argmax(model.predict(X_test_indices))) + '\\n')"
      ],
      "execution_count": 18,
      "outputs": [
        {
          "output_type": "stream",
          "text": [
            "Input: I have met the love of my life\n",
            "Predicted class: 2\n",
            "\n"
          ],
          "name": "stdout"
        }
      ]
    },
    {
      "cell_type": "markdown",
      "metadata": {
        "id": "mv7YmEv70eg0"
      },
      "source": [
        "#### Приказ на мерките за успешност на моделот"
      ]
    },
    {
      "cell_type": "code",
      "metadata": {
        "colab": {
          "base_uri": "https://localhost:8080/"
        },
        "id": "UtmkZ3_Y0lhA",
        "outputId": "f80f8e30-df39-4957-c72c-1fb597548bbc"
      },
      "source": [
        "print('Accuracy: {0}'.format(str(acc)))"
      ],
      "execution_count": 19,
      "outputs": [
        {
          "output_type": "stream",
          "text": [
            "Accuracy: 0.7857142686843872\n"
          ],
          "name": "stdout"
        }
      ]
    },
    {
      "cell_type": "code",
      "metadata": {
        "colab": {
          "base_uri": "https://localhost:8080/"
        },
        "id": "XG20SokF0s3j",
        "outputId": "c63fd960-5872-48e3-f957-21f7dca7c382"
      },
      "source": [
        "print('Log loss: {0}'.format(loss))"
      ],
      "execution_count": 20,
      "outputs": [
        {
          "output_type": "stream",
          "text": [
            "Log loss: 1.1112045869231224\n"
          ],
          "name": "stdout"
        }
      ]
    },
    {
      "cell_type": "code",
      "metadata": {
        "colab": {
          "base_uri": "https://localhost:8080/"
        },
        "id": "XpgvVOnS2L6k",
        "outputId": "a80bc32e-ca5b-4183-90c9-a9936b89ec65"
      },
      "source": [
        "print('Precision: {0}'.format(precision))"
      ],
      "execution_count": 21,
      "outputs": [
        {
          "output_type": "stream",
          "text": [
            "Precision: 0.8277777777777778\n"
          ],
          "name": "stdout"
        }
      ]
    },
    {
      "cell_type": "code",
      "metadata": {
        "colab": {
          "base_uri": "https://localhost:8080/"
        },
        "id": "QIVQf9uU3AE8",
        "outputId": "6a498ab0-ffb3-41b1-e0b4-424be81def73"
      },
      "source": [
        "print('Recall: {0}'.format(recall))"
      ],
      "execution_count": 22,
      "outputs": [
        {
          "output_type": "stream",
          "text": [
            "Recall: 0.8248015873015874\n"
          ],
          "name": "stdout"
        }
      ]
    },
    {
      "cell_type": "code",
      "metadata": {
        "colab": {
          "base_uri": "https://localhost:8080/"
        },
        "id": "mpE7P4v73EKj",
        "outputId": "860767cb-acf4-403b-df19-c8046ab10637"
      },
      "source": [
        "print('F1 score: {0}'.format(f1_score))"
      ],
      "execution_count": 23,
      "outputs": [
        {
          "output_type": "stream",
          "text": [
            "F1 score: 0.7968933027756556\n"
          ],
          "name": "stdout"
        }
      ]
    },
    {
      "cell_type": "code",
      "metadata": {
        "colab": {
          "base_uri": "https://localhost:8080/"
        },
        "id": "y4KuKrS01tb1",
        "outputId": "7eb785c9-73c7-4fcc-d574-c82754ae6191"
      },
      "source": [
        "print('Classification report: \\n{0}'.format(matrix))"
      ],
      "execution_count": 24,
      "outputs": [
        {
          "output_type": "stream",
          "text": [
            "Classification report: \n",
            "              precision    recall  f1-score   support\n",
            "\n",
            "           0       0.47      1.00      0.64         7\n",
            "           1       0.89      1.00      0.94         8\n",
            "           2       0.87      0.72      0.79        18\n",
            "           3       0.92      0.69      0.79        16\n",
            "           4       1.00      0.71      0.83         7\n",
            "\n",
            "    accuracy                           0.79        56\n",
            "   macro avg       0.83      0.82      0.80        56\n",
            "weighted avg       0.85      0.79      0.80        56\n",
            "\n"
          ],
          "name": "stdout"
        }
      ]
    }
  ]
}