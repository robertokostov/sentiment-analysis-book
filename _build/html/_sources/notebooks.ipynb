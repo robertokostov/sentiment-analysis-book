{
 "cells": [
  {
   "cell_type": "markdown",
   "metadata": {
    "id": "tRdpRtTSe3EH"
   },
   "source": [
    "### [Линк](https://colab.research.google.com/drive/1mguVQuMEn2mIfISPCf4I9P6rvjNAK2ub?usp=sharing) до самиот Notebook"
   ]
  },
  {
   "cell_type": "markdown",
   "metadata": {
    "id": "xBj5aWGiu6_l"
   },
   "source": [
    "### Вовед"
   ]
  },
  {
   "cell_type": "markdown",
   "metadata": {
    "id": "hpsI7BGbqcdF"
   },
   "source": [
    "##### Import на библиотеките кои се користат во кодот"
   ]
  },
  {
   "cell_type": "code",
   "execution_count": 1,
   "metadata": {
    "id": "h7vYNpukGweH"
   },
   "outputs": [],
   "source": [
    "from keras.models import Model\n",
    "from keras.layers import Dense, Input, Dropout, LSTM, Activation\n",
    "from keras.layers.embeddings import Embedding\n",
    "from sklearn.metrics import classification_report, f1_score, log_loss, precision_score, recall_score\n",
    "\n",
    "import csv\n",
    "import matplotlib.pyplot as plt\n",
    "import numpy as np\n",
    "import pandas as pd\n",
    "\n",
    "np.random.seed(1)"
   ]
  },
  {
   "cell_type": "markdown",
   "metadata": {
    "id": "cUyUkoFOqiJy"
   },
   "source": [
    "##### Симнување на glove векторите за репрезентација на зборови"
   ]
  },
  {
   "cell_type": "code",
   "execution_count": 2,
   "metadata": {
    "colab": {
     "base_uri": "https://localhost:8080/"
    },
    "id": "-dknM0a2mUvr",
    "outputId": "59ff08d9-0b93-4bae-a44f-939764609e3c"
   },
   "outputs": [
    {
     "name": "stdout",
     "output_type": "stream",
     "text": [
      "--2021-06-10 16:41:41--  http://nlp.stanford.edu/data/glove.6B.zip\n",
      "Resolving nlp.stanford.edu (nlp.stanford.edu)... 171.64.67.140\n",
      "Connecting to nlp.stanford.edu (nlp.stanford.edu)|171.64.67.140|:80... connected.\n",
      "HTTP request sent, awaiting response... 302 Found\n",
      "Location: https://nlp.stanford.edu/data/glove.6B.zip [following]\n",
      "--2021-06-10 16:41:42--  https://nlp.stanford.edu/data/glove.6B.zip\n",
      "Loaded CA certificate '/etc/ssl/certs/ca-certificates.crt'\n",
      "Connecting to nlp.stanford.edu (nlp.stanford.edu)|171.64.67.140|:443... connected.\n",
      "HTTP request sent, awaiting response... 301 Moved Permanently\n",
      "Location: http://downloads.cs.stanford.edu/nlp/data/glove.6B.zip [following]\n",
      "--2021-06-10 16:41:43--  http://downloads.cs.stanford.edu/nlp/data/glove.6B.zip\n",
      "Resolving downloads.cs.stanford.edu (downloads.cs.stanford.edu)... 171.64.64.22\n",
      "Connecting to downloads.cs.stanford.edu (downloads.cs.stanford.edu)|171.64.64.22|:80... connected.\n",
      "HTTP request sent, awaiting response... 200 OK\n",
      "Length: 862182613 (822M) [application/zip]\n",
      "Saving to: 'glove.6B.zip'\n",
      "\n",
      "glove.6B.zip        100%[===================>] 822.24M  5.27MB/s    in 4m 35s  \n",
      "\n",
      "2021-06-10 16:46:19 (2.99 MB/s) - 'glove.6B.zip' saved [862182613/862182613]\n",
      "\n",
      "Archive:  glove.6B.zip\n",
      "  inflating: glove.6B.50d.txt        \n",
      "  inflating: glove.6B.100d.txt       \n",
      "  inflating: glove.6B.200d.txt       \n",
      "  inflating: glove.6B.300d.txt       \n"
     ]
    }
   ],
   "source": [
    "!wget http://nlp.stanford.edu/data/glove.6B.zip\n",
    "!unzip glove*.zip"
   ]
  },
  {
   "cell_type": "markdown",
   "metadata": {
    "id": "qhq0VFhiwnLR"
   },
   "source": [
    "### Помошни функции"
   ]
  },
  {
   "cell_type": "markdown",
   "metadata": {
    "id": "4PlJnLBy4CSM"
   },
   "source": [
    "##### Исчитување на glove фајлот со вредности"
   ]
  },
  {
   "cell_type": "code",
   "execution_count": 3,
   "metadata": {
    "id": "-qKz7uWfIjdx"
   },
   "outputs": [],
   "source": [
    "def read_glove_vecs(glove_file):\n",
    "    with open(glove_file, 'r', encoding=\"utf8\") as f:\n",
    "        words = set()\n",
    "        word_to_vec_map = {}\n",
    "        for line in f:\n",
    "            line = line.strip().split()\n",
    "            curr_word = line[0]\n",
    "            words.add(curr_word)\n",
    "            word_to_vec_map[curr_word] = np.array(line[1:], dtype=np.float64)\n",
    "\n",
    "        i = 1\n",
    "        words_to_index = {}\n",
    "        index_to_words = {}\n",
    "        for w in sorted(words):\n",
    "            words_to_index[w] = i\n",
    "            index_to_words[i] = w\n",
    "            i = i + 1\n",
    "            \n",
    "    return words_to_index, index_to_words, word_to_vec_map"
   ]
  },
  {
   "cell_type": "markdown",
   "metadata": {
    "id": "8bExuG7-2htJ"
   },
   "source": [
    "##### Softmax функцијата"
   ]
  },
  {
   "cell_type": "code",
   "execution_count": 4,
   "metadata": {
    "id": "2jFMvyQJIo1L"
   },
   "outputs": [],
   "source": [
    "def softmax(x):\n",
    "    e_x = np.exp(x - np.max(x))\n",
    "    \n",
    "    return e_x / e_x.sum()"
   ]
  },
  {
   "cell_type": "markdown",
   "metadata": {
    "id": "2KZmxp1w4Q5Y"
   },
   "source": [
    "##### Читање на соодветните вредности од CSV train и test датотеките"
   ]
  },
  {
   "cell_type": "code",
   "execution_count": 5,
   "metadata": {
    "id": "Z8J8vGNxIr23"
   },
   "outputs": [],
   "source": [
    "def read_csv(filename):\n",
    "    phrase = []\n",
    "    emoji_ = []\n",
    "\n",
    "    with open(filename) as csvDataFile:\n",
    "        csv_reader = csv.reader(csvDataFile)\n",
    "\n",
    "        for row in csv_reader:\n",
    "            phrase.append(row[0])\n",
    "            emoji_.append(row[1])\n",
    "\n",
    "    x = np.asarray(phrase)\n",
    "    y = np.asarray(emoji_, dtype=int)\n",
    "\n",
    "    return x, y\n"
   ]
  },
  {
   "cell_type": "markdown",
   "metadata": {
    "id": "CXvyQLHL2Evi"
   },
   "source": [
    "##### Излезите(бројки) ги претвора во one-hot вектори"
   ]
  },
  {
   "cell_type": "code",
   "execution_count": 6,
   "metadata": {
    "id": "6l1ElPjaIzcP"
   },
   "outputs": [],
   "source": [
    "def convert_to_one_hot(y, c):\n",
    "    y = np.eye(c)[y.reshape(-1)]\n",
    "    \n",
    "    return y"
   ]
  },
  {
   "cell_type": "markdown",
   "metadata": {
    "id": "CsD4Sovc46uL"
   },
   "source": [
    "##### Предвидување на излезите при дадени елементи како влез"
   ]
  },
  {
   "cell_type": "code",
   "execution_count": 7,
   "metadata": {
    "id": "UFMS7-IGJBrM"
   },
   "outputs": [],
   "source": [
    "def predict(X, Y, W, b, word_to_vec_map):\n",
    "    m = X.shape[0]\n",
    "    pred = np.zeros((m, 1))\n",
    "\n",
    "    for j in range(m):\n",
    "        words = X[j].lower().split()\n",
    "\n",
    "        avg = np.zeros((50,))\n",
    "        for w in words:\n",
    "            avg += word_to_vec_map[w]\n",
    "        avg = avg / len(words)\n",
    "\n",
    "        z = np.dot(W, avg) + b\n",
    "        a = softmax(z)\n",
    "        pred[j] = np.argmax(a)\n",
    "\n",
    "    print(\"Accuracy: \" + str(np.mean((pred[:] == Y.reshape(Y.shape[0], 1)[:]))))\n",
    "\n",
    "    return pred"
   ]
  },
  {
   "cell_type": "markdown",
   "metadata": {
    "id": "o7GFsn4n6jqU"
   },
   "source": [
    "##### Претворање на реченици дадени како влез во матрици од вредности"
   ]
  },
  {
   "cell_type": "code",
   "execution_count": 8,
   "metadata": {
    "id": "sM3SlQUdKKKk"
   },
   "outputs": [],
   "source": [
    "def sentences_to_indices(X, word_to_index, max_len):\n",
    "    m = X.shape[0] \n",
    "    x_indices = np.zeros((m, max_len))\n",
    "\n",
    "    for i in range(m):\n",
    "        sentence_words = (X[i].lower()).split()\n",
    "        j = 0\n",
    "    \n",
    "        for w in sentence_words:\n",
    "            # i-тата вредност е редниот број на реченицата, j-тата е редниот\n",
    "            # број на зборот во неа. вредноста која се поставува е таа на \n",
    "            # соодветниот збор\n",
    "            x_indices[i, j] = word_to_index[w]\n",
    "            j = j + 1\n",
    "    \n",
    "    return x_indices"
   ]
  },
  {
   "cell_type": "markdown",
   "metadata": {
    "id": "8hr-CMTV6lza"
   },
   "source": [
    "##### Креирање на веќе истрениран Embedding слој со помош на glove векторите"
   ]
  },
  {
   "cell_type": "code",
   "execution_count": 9,
   "metadata": {
    "id": "IR60_ZQIKWCc"
   },
   "outputs": [],
   "source": [
    "def pretrained_embedding_layer(word_to_vec_map, word_to_index):\n",
    "    vocab_len = len(word_to_index) + 1\n",
    "    emb_dim = word_to_vec_map[\"cucumber\"].shape[0]\n",
    "    emb_matrix = np.zeros((vocab_len, emb_dim))\n",
    "\n",
    "    for word, index in word_to_index.items():\n",
    "        emb_matrix[index, :] = word_to_vec_map[word]\n",
    "\n",
    "    embedding_layer = Embedding(vocab_len, emb_dim)\n",
    "    embedding_layer.build((None,))\n",
    "    embedding_layer.set_weights([emb_matrix])\n",
    "\n",
    "    return embedding_layer"
   ]
  },
  {
   "cell_type": "markdown",
   "metadata": {
    "id": "5Lbykyvx6nrH"
   },
   "source": [
    "##### Креирање на модел со соодветни предефинирани вредности"
   ]
  },
  {
   "cell_type": "code",
   "execution_count": 10,
   "metadata": {
    "id": "2UH6KMEoKW6m"
   },
   "outputs": [],
   "source": [
    "def sentiment_analysis(input_shape, word_to_vec_map, word_to_index):\n",
    "    sentence_indices = Input(shape=input_shape, dtype=np.int32)\n",
    "    embedding_layer = pretrained_embedding_layer(word_to_vec_map, word_to_index)\n",
    "    embeddings = embedding_layer(sentence_indices)\n",
    "\n",
    "    # LSTM слој со 128-димензионален hidden state\n",
    "    X = LSTM(128, return_sequences=True)(embeddings)\n",
    "    \n",
    "    # Веројатност на зачувување од 0.5\n",
    "    X = Dropout(0.5)(X)\n",
    "    \n",
    "    # Уште еден LSTM слој со 128-димензионален hidden state\n",
    "    X = LSTM(128)(X)\n",
    "\n",
    "    X = Dropout(0.5)(X)\n",
    "    X = Dense(5, activation='softmax')(X)\n",
    "    X = Activation('softmax')(X)\n",
    "\n",
    "    model = Model(sentence_indices, X)\n",
    "\n",
    "    return model"
   ]
  },
  {
   "cell_type": "markdown",
   "metadata": {
    "id": "nDFhT4GJwtws"
   },
   "source": [
    "# Main дел"
   ]
  },
  {
   "cell_type": "markdown",
   "metadata": {
    "id": "2Q2kXbBw664E"
   },
   "source": [
    "##### Читање на train и test податоците, пренос на излезите како one-hot вектори, читање на векторите за репрезентација на зборови"
   ]
  },
  {
   "cell_type": "code",
   "execution_count": 11,
   "metadata": {
    "id": "akJgOxOwrVm0"
   },
   "outputs": [],
   "source": [
    "X_train, Y_train = read_csv('train_set.csv')\n",
    "X_test, Y_test = read_csv('test_set.csv')\n",
    "\n",
    "maxLen = len(max(X_train, key=len).split())\n",
    "\n",
    "Y_oh_train = convert_to_one_hot(Y_train, 5)\n",
    "Y_oh_test = convert_to_one_hot(Y_test, 5)\n",
    "\n",
    "word_to_index_, index_to_word, word_to_vec_map_ = read_glove_vecs('glove.6B.50d.txt')"
   ]
  },
  {
   "cell_type": "markdown",
   "metadata": {
    "id": "pWM3y3237p-o"
   },
   "source": [
    "##### Креирање и тренирање на моделот"
   ]
  },
  {
   "cell_type": "code",
   "execution_count": 13,
   "metadata": {
    "colab": {
     "base_uri": "https://localhost:8080/"
    },
    "id": "GEvEG5U-KZAz",
    "outputId": "7c731c98-a69b-4c05-c304-11246c2ee894"
   },
   "outputs": [
    {
     "name": "stdout",
     "output_type": "stream",
     "text": [
      "Model: \"model_1\"\n",
      "_________________________________________________________________\n",
      "Layer (type)                 Output Shape              Param #   \n",
      "=================================================================\n",
      "input_2 (InputLayer)         [(None, 10)]              0         \n",
      "_________________________________________________________________\n",
      "embedding_1 (Embedding)      (None, 10, 50)            20000050  \n",
      "_________________________________________________________________\n",
      "lstm_2 (LSTM)                (None, 10, 128)           91648     \n",
      "_________________________________________________________________\n",
      "dropout_2 (Dropout)          (None, 10, 128)           0         \n",
      "_________________________________________________________________\n",
      "lstm_3 (LSTM)                (None, 128)               131584    \n",
      "_________________________________________________________________\n",
      "dropout_3 (Dropout)          (None, 128)               0         \n",
      "_________________________________________________________________\n",
      "dense_1 (Dense)              (None, 5)                 645       \n",
      "_________________________________________________________________\n",
      "activation_1 (Activation)    (None, 5)                 0         \n",
      "=================================================================\n",
      "Total params: 20,223,927\n",
      "Trainable params: 20,223,927\n",
      "Non-trainable params: 0\n",
      "_________________________________________________________________\n",
      "Epoch 1/100\n",
      "5/5 [==============================] - 17s 249ms/step - loss: 1.6019 - accuracy: 0.2522\n",
      "Epoch 2/100\n",
      "5/5 [==============================] - 1s 237ms/step - loss: 1.5659 - accuracy: 0.3003\n",
      "Epoch 3/100\n",
      "5/5 [==============================] - 1s 284ms/step - loss: 1.5688 - accuracy: 0.2718\n",
      "Epoch 4/100\n",
      "5/5 [==============================] - 2s 299ms/step - loss: 1.5510 - accuracy: 0.2979\n",
      "Epoch 5/100\n",
      "5/5 [==============================] - 1s 294ms/step - loss: 1.5535 - accuracy: 0.2792\n",
      "Epoch 6/100\n",
      "5/5 [==============================] - 1s 249ms/step - loss: 1.5013 - accuracy: 0.4878\n",
      "Epoch 7/100\n",
      "5/5 [==============================] - 1s 248ms/step - loss: 1.4227 - accuracy: 0.5567\n",
      "Epoch 8/100\n",
      "5/5 [==============================] - 2s 337ms/step - loss: 1.4069 - accuracy: 0.5331\n",
      "Epoch 9/100\n",
      "5/5 [==============================] - 1s 253ms/step - loss: 1.3525 - accuracy: 0.5599\n",
      "Epoch 10/100\n",
      "5/5 [==============================] - 1s 256ms/step - loss: 1.2657 - accuracy: 0.6824\n",
      "Epoch 11/100\n",
      "5/5 [==============================] - 1s 303ms/step - loss: 1.2567 - accuracy: 0.6527\n",
      "Epoch 12/100\n",
      "5/5 [==============================] - 1s 264ms/step - loss: 1.2108 - accuracy: 0.7049\n",
      "Epoch 13/100\n",
      "5/5 [==============================] - 1s 303ms/step - loss: 1.3043 - accuracy: 0.5844\n",
      "Epoch 14/100\n",
      "5/5 [==============================] - 1s 277ms/step - loss: 1.2288 - accuracy: 0.6836\n",
      "Epoch 15/100\n",
      "5/5 [==============================] - 1s 292ms/step - loss: 1.1720 - accuracy: 0.7378\n",
      "Epoch 16/100\n",
      "5/5 [==============================] - 2s 346ms/step - loss: 1.1851 - accuracy: 0.7189\n",
      "Epoch 17/100\n",
      "5/5 [==============================] - 1s 305ms/step - loss: 1.1578 - accuracy: 0.7577\n",
      "Epoch 18/100\n",
      "5/5 [==============================] - 2s 265ms/step - loss: 1.1218 - accuracy: 0.7803\n",
      "Epoch 19/100\n",
      "5/5 [==============================] - 2s 331ms/step - loss: 1.1019 - accuracy: 0.8210\n",
      "Epoch 20/100\n",
      "5/5 [==============================] - 2s 360ms/step - loss: 1.0850 - accuracy: 0.8259\n",
      "Epoch 21/100\n",
      "5/5 [==============================] - 1s 264ms/step - loss: 1.0573 - accuracy: 0.8739\n",
      "Epoch 22/100\n",
      "5/5 [==============================] - 1s 264ms/step - loss: 1.0214 - accuracy: 0.9019\n",
      "Epoch 23/100\n",
      "5/5 [==============================] - 1s 281ms/step - loss: 1.0199 - accuracy: 0.8810\n",
      "Epoch 24/100\n",
      "5/5 [==============================] - 1s 286ms/step - loss: 0.9956 - accuracy: 0.9218\n",
      "Epoch 25/100\n",
      "5/5 [==============================] - 2s 284ms/step - loss: 0.9820 - accuracy: 0.9270\n",
      "Epoch 26/100\n",
      "5/5 [==============================] - 2s 330ms/step - loss: 1.0604 - accuracy: 0.8387\n",
      "Epoch 27/100\n",
      "5/5 [==============================] - 2s 333ms/step - loss: 0.9550 - accuracy: 0.9636\n",
      "Epoch 28/100\n",
      "5/5 [==============================] - 1s 266ms/step - loss: 0.9640 - accuracy: 0.9412\n",
      "Epoch 29/100\n",
      "5/5 [==============================] - 1s 281ms/step - loss: 0.9468 - accuracy: 0.9658\n",
      "Epoch 30/100\n",
      "5/5 [==============================] - 2s 313ms/step - loss: 1.0135 - accuracy: 0.8964\n",
      "Epoch 31/100\n",
      "5/5 [==============================] - 1s 263ms/step - loss: 1.0858 - accuracy: 0.8309\n",
      "Epoch 32/100\n",
      "5/5 [==============================] - 1s 285ms/step - loss: 1.0424 - accuracy: 0.8621\n",
      "Epoch 33/100\n",
      "5/5 [==============================] - 1s 284ms/step - loss: 1.0034 - accuracy: 0.8971\n",
      "Epoch 34/100\n",
      "5/5 [==============================] - 1s 290ms/step - loss: 0.9840 - accuracy: 0.9304\n",
      "Epoch 35/100\n",
      "5/5 [==============================] - 2s 319ms/step - loss: 0.9573 - accuracy: 0.9558\n",
      "Epoch 36/100\n",
      "5/5 [==============================] - 2s 301ms/step - loss: 0.9433 - accuracy: 0.9748\n",
      "Epoch 37/100\n",
      "5/5 [==============================] - 1s 279ms/step - loss: 0.9520 - accuracy: 0.9572\n",
      "Epoch 38/100\n",
      "5/5 [==============================] - 1s 286ms/step - loss: 0.9540 - accuracy: 0.9541\n",
      "Epoch 39/100\n",
      "5/5 [==============================] - 2s 298ms/step - loss: 0.9612 - accuracy: 0.9435\n",
      "Epoch 40/100\n",
      "5/5 [==============================] - 1s 299ms/step - loss: 0.9378 - accuracy: 0.9731\n",
      "Epoch 41/100\n",
      "5/5 [==============================] - 2s 310ms/step - loss: 0.9447 - accuracy: 0.9652\n",
      "Epoch 42/100\n",
      "5/5 [==============================] - 1s 265ms/step - loss: 0.9368 - accuracy: 0.9721\n",
      "Epoch 43/100\n",
      "5/5 [==============================] - 1s 301ms/step - loss: 0.9357 - accuracy: 0.9751\n",
      "Epoch 44/100\n",
      "5/5 [==============================] - 1s 297ms/step - loss: 0.9420 - accuracy: 0.9694\n",
      "Epoch 45/100\n",
      "5/5 [==============================] - 1s 281ms/step - loss: 0.9307 - accuracy: 0.9790\n",
      "Epoch 46/100\n",
      "5/5 [==============================] - 1s 273ms/step - loss: 0.9311 - accuracy: 0.9751\n",
      "Epoch 47/100\n",
      "5/5 [==============================] - 1s 287ms/step - loss: 0.9398 - accuracy: 0.9665\n",
      "Epoch 48/100\n",
      "5/5 [==============================] - 1s 289ms/step - loss: 0.9317 - accuracy: 0.9743\n",
      "Epoch 49/100\n",
      "5/5 [==============================] - 1s 279ms/step - loss: 0.9316 - accuracy: 0.9743\n",
      "Epoch 50/100\n",
      "5/5 [==============================] - 1s 284ms/step - loss: 0.9386 - accuracy: 0.9665\n",
      "Epoch 51/100\n",
      "5/5 [==============================] - 2s 298ms/step - loss: 0.9393 - accuracy: 0.9656\n",
      "Epoch 52/100\n",
      "5/5 [==============================] - 2s 333ms/step - loss: 0.9239 - accuracy: 0.9817\n",
      "Epoch 53/100\n",
      "5/5 [==============================] - 2s 327ms/step - loss: 0.9339 - accuracy: 0.9708\n",
      "Epoch 54/100\n",
      "5/5 [==============================] - 1s 298ms/step - loss: 0.9216 - accuracy: 0.9842\n",
      "Epoch 55/100\n",
      "5/5 [==============================] - 1s 291ms/step - loss: 0.9276 - accuracy: 0.9798\n",
      "Epoch 56/100\n",
      "5/5 [==============================] - 1s 282ms/step - loss: 0.9376 - accuracy: 0.9677\n",
      "Epoch 57/100\n",
      "5/5 [==============================] - 2s 317ms/step - loss: 0.9349 - accuracy: 0.9703\n",
      "Epoch 58/100\n",
      "5/5 [==============================] - 1s 311ms/step - loss: 0.9280 - accuracy: 0.9772\n",
      "Epoch 59/100\n",
      "5/5 [==============================] - 1s 288ms/step - loss: 0.9243 - accuracy: 0.9807\n",
      "Epoch 60/100\n",
      "5/5 [==============================] - 2s 321ms/step - loss: 0.9304 - accuracy: 0.9746\n",
      "Epoch 61/100\n",
      "5/5 [==============================] - 2s 337ms/step - loss: 0.9306 - accuracy: 0.9746\n",
      "Epoch 62/100\n",
      "5/5 [==============================] - 2s 296ms/step - loss: 0.9249 - accuracy: 0.9798\n",
      "Epoch 63/100\n",
      "5/5 [==============================] - 1s 293ms/step - loss: 0.9344 - accuracy: 0.9703\n",
      "Epoch 64/100\n",
      "5/5 [==============================] - 2s 312ms/step - loss: 0.9224 - accuracy: 0.9824\n",
      "Epoch 65/100\n",
      "5/5 [==============================] - 2s 311ms/step - loss: 0.9258 - accuracy: 0.9790\n",
      "Epoch 66/100\n",
      "5/5 [==============================] - 2s 321ms/step - loss: 0.9245 - accuracy: 0.9798\n",
      "Epoch 67/100\n",
      "5/5 [==============================] - 2s 307ms/step - loss: 0.9208 - accuracy: 0.9833\n",
      "Epoch 68/100\n"
     ]
    },
    {
     "name": "stdout",
     "output_type": "stream",
     "text": [
      "5/5 [==============================] - 1s 276ms/step - loss: 0.9308 - accuracy: 0.9729\n",
      "Epoch 69/100\n",
      "5/5 [==============================] - 2s 339ms/step - loss: 0.9271 - accuracy: 0.9772\n",
      "Epoch 70/100\n",
      "5/5 [==============================] - 1s 270ms/step - loss: 0.9201 - accuracy: 0.9842\n",
      "Epoch 71/100\n",
      "5/5 [==============================] - 1s 301ms/step - loss: 0.9212 - accuracy: 0.9863\n",
      "Epoch 72/100\n",
      "5/5 [==============================] - 1s 269ms/step - loss: 0.9311 - accuracy: 0.9811\n",
      "Epoch 73/100\n",
      "5/5 [==============================] - 1s 281ms/step - loss: 0.9320 - accuracy: 0.9785\n",
      "Epoch 74/100\n",
      "5/5 [==============================] - 2s 313ms/step - loss: 0.9267 - accuracy: 0.9785\n",
      "Epoch 75/100\n",
      "5/5 [==============================] - 1s 284ms/step - loss: 0.9183 - accuracy: 0.9880\n",
      "Epoch 76/100\n",
      "5/5 [==============================] - 2s 309ms/step - loss: 0.9183 - accuracy: 0.9863\n",
      "Epoch 77/100\n",
      "5/5 [==============================] - 1s 301ms/step - loss: 0.9209 - accuracy: 0.9837\n",
      "Epoch 78/100\n",
      "5/5 [==============================] - 1s 276ms/step - loss: 0.9204 - accuracy: 0.9828\n",
      "Epoch 79/100\n",
      "5/5 [==============================] - 2s 326ms/step - loss: 0.9195 - accuracy: 0.9828\n",
      "Epoch 80/100\n",
      "5/5 [==============================] - 1s 279ms/step - loss: 0.9103 - accuracy: 0.9949\n",
      "Epoch 81/100\n",
      "5/5 [==============================] - 2s 308ms/step - loss: 1.0610 - accuracy: 0.8344\n",
      "Epoch 82/100\n",
      "5/5 [==============================] - 2s 320ms/step - loss: 1.0569 - accuracy: 0.8350\n",
      "Epoch 83/100\n",
      "5/5 [==============================] - 1s 286ms/step - loss: 1.0669 - accuracy: 0.8437\n",
      "Epoch 84/100\n",
      "5/5 [==============================] - 1s 273ms/step - loss: 0.9868 - accuracy: 0.9201\n",
      "Epoch 85/100\n",
      "5/5 [==============================] - 1s 284ms/step - loss: 0.9525 - accuracy: 0.9631\n",
      "Epoch 86/100\n",
      "5/5 [==============================] - 1s 292ms/step - loss: 0.9506 - accuracy: 0.9473\n",
      "Epoch 87/100\n",
      "5/5 [==============================] - 1s 267ms/step - loss: 0.9581 - accuracy: 0.9475\n",
      "Epoch 88/100\n",
      "5/5 [==============================] - 1s 272ms/step - loss: 0.9368 - accuracy: 0.9691\n",
      "Epoch 89/100\n",
      "5/5 [==============================] - 1s 289ms/step - loss: 0.9134 - accuracy: 0.9962\n",
      "Epoch 90/100\n",
      "5/5 [==============================] - 1s 298ms/step - loss: 0.9115 - accuracy: 0.9962\n",
      "Epoch 91/100\n",
      "5/5 [==============================] - 1s 279ms/step - loss: 0.9145 - accuracy: 0.9918\n",
      "Epoch 92/100\n",
      "5/5 [==============================] - 1s 269ms/step - loss: 0.9114 - accuracy: 0.9944\n",
      "Epoch 93/100\n",
      "5/5 [==============================] - 1s 292ms/step - loss: 0.9107 - accuracy: 0.9962\n",
      "Epoch 94/100\n",
      "5/5 [==============================] - 2s 321ms/step - loss: 0.9097 - accuracy: 0.9962\n",
      "Epoch 95/100\n",
      "5/5 [==============================] - 1s 276ms/step - loss: 0.9196 - accuracy: 0.9866\n",
      "Epoch 96/100\n",
      "5/5 [==============================] - 1s 291ms/step - loss: 0.9190 - accuracy: 0.9866\n",
      "Epoch 97/100\n",
      "5/5 [==============================] - 2s 327ms/step - loss: 0.9106 - accuracy: 0.9944\n",
      "Epoch 98/100\n",
      "5/5 [==============================] - 2s 301ms/step - loss: 0.9095 - accuracy: 0.9962\n",
      "Epoch 99/100\n",
      "5/5 [==============================] - 1s 286ms/step - loss: 0.9107 - accuracy: 0.9944\n",
      "Epoch 100/100\n",
      "5/5 [==============================] - 2s 322ms/step - loss: 0.9189 - accuracy: 0.9866\n"
     ]
    }
   ],
   "source": [
    "model = sentiment_analysis((maxLen,), word_to_vec_map_, word_to_index_)\n",
    "model.summary()\n",
    "model.compile(loss='categorical_crossentropy', optimizer='adam', metrics=['accuracy'])\n",
    "\n",
    "X_train_indices = sentences_to_indices(X_train, word_to_index_, maxLen)\n",
    "Y_train_oh = convert_to_one_hot(Y_train, 5)\n",
    "\n",
    "model.fit(X_train_indices, Y_train_oh, epochs=100, batch_size=32, shuffle=True);"
   ]
  },
  {
   "cell_type": "markdown",
   "metadata": {
    "id": "4JPcTqVhAgsX"
   },
   "source": [
    "##### Тестирање на моделот со test податоците"
   ]
  },
  {
   "cell_type": "code",
   "execution_count": 14,
   "metadata": {
    "colab": {
     "base_uri": "https://localhost:8080/"
    },
    "id": "z-0mnqnT_5Ww",
    "outputId": "e578f199-9c35-4eed-b465-d9bf021a057d"
   },
   "outputs": [
    {
     "name": "stdout",
     "output_type": "stream",
     "text": [
      "2/2 [==============================] - 1s 7ms/step - loss: 1.1055 - accuracy: 0.8036\n",
      "\n",
      "Accuracy  0.8035714030265808\n"
     ]
    }
   ],
   "source": [
    "X_test_indices = sentences_to_indices(X_test, word_to_index_, max_len=maxLen)\n",
    "Y_test_oh = convert_to_one_hot(Y_test, 5)\n",
    "\n",
    "loss, acc = model.evaluate(X_test_indices, Y_test_oh)\n",
    "print()\n",
    "print(\"Accuracy \", acc)"
   ]
  },
  {
   "cell_type": "markdown",
   "metadata": {
    "id": "l1DPMvPO7tNj"
   },
   "source": [
    "##### Преглед на влезовите кои се грешно предвидени и дополнителни метрики за евалуација"
   ]
  },
  {
   "cell_type": "code",
   "execution_count": 15,
   "metadata": {
    "colab": {
     "base_uri": "https://localhost:8080/"
    },
    "id": "2aj86ce1oNuZ",
    "outputId": "8436155e-d0b6-49e2-b069-ac105ebc8b3d"
   },
   "outputs": [
    {
     "name": "stdout",
     "output_type": "stream",
     "text": [
      "Input: he got a very nice raise\n",
      "Expected class: 2\n",
      "Predicted class: 0\n",
      "\n",
      "Input: she got me a nice present\n",
      "Expected class: 2\n",
      "Predicted class: 0\n",
      "\n",
      "Input: work is hard\n",
      "Expected class: 3\n",
      "Predicted class: 2\n",
      "\n",
      "Input: This girl is messing with me\n",
      "Expected class: 3\n",
      "Predicted class: 0\n",
      "\n",
      "Input: any suggestions for dinner\n",
      "Expected class: 4\n",
      "Predicted class: 2\n",
      "\n",
      "Input: you brighten my day\n",
      "Expected class: 2\n",
      "Predicted class: 0\n",
      "\n",
      "Input: she is a bully\n",
      "Expected class: 3\n",
      "Predicted class: 0\n",
      "\n",
      "Input: My life is so boring\n",
      "Expected class: 3\n",
      "Predicted class: 0\n",
      "\n",
      "Input: will you be my valentine\n",
      "Expected class: 2\n",
      "Predicted class: 0\n",
      "\n",
      "Input: I do not want to joke\n",
      "Expected class: 3\n",
      "Predicted class: 0\n",
      "\n",
      "Input: go away\n",
      "Expected class: 3\n",
      "Predicted class: 1\n",
      "\n"
     ]
    }
   ],
   "source": [
    "y_test_oh = np.eye(5)[Y_test.reshape(-1)]\n",
    "X_test_indices = sentences_to_indices(X_test, word_to_index_, maxLen)\n",
    "pred = model.predict(X_test_indices)\n",
    "\n",
    "actual = []\n",
    "predicted = []\n",
    "\n",
    "for i in range(len(X_test)):\n",
    "    x = X_test_indices\n",
    "    num = np.argmax(pred[i])\n",
    "\n",
    "    actual.append(Y_test[i])\n",
    "    predicted.append(num)\n",
    "\n",
    "    if num != Y_test[i]:\n",
    "        print('Input: ' + str(X_test[i]))\n",
    "        print('Expected class: ' + str(Y_test[i]))\n",
    "        print('Predicted class: ' + str(num) + '\\n')\n",
    "\n",
    "precision = precision_score(actual, predicted, average='macro')\n",
    "recall = recall_score(actual, predicted, average='macro')\n",
    "f1_score = f1_score(actual, predicted, average='macro')\n",
    "loss = log_loss(actual, pred, eps=1e-15)\n",
    "matrix = classification_report(actual, predicted, labels=[0, 1, 2, 3, 4])"
   ]
  },
  {
   "cell_type": "markdown",
   "metadata": {
    "id": "vyV_vNZ5PpaQ"
   },
   "source": [
    "##### Тестирање на моделот со влезови од корисник"
   ]
  },
  {
   "cell_type": "code",
   "execution_count": 26,
   "metadata": {
    "colab": {
     "base_uri": "https://localhost:8080/"
    },
    "id": "Fv1e3n5WPqB4",
    "outputId": "5422dee7-1ac5-4c31-8838-31c4174fe4ed"
   },
   "outputs": [
    {
     "name": "stdout",
     "output_type": "stream",
     "text": [
      "Input: very happy\n",
      "Predicted class: 2\n",
      "\n"
     ]
    }
   ],
   "source": [
    "x_test = np.array(['very happy'])\n",
    "X_test_indices = sentences_to_indices(x_test, word_to_index_, maxLen)\n",
    "print('Input: ' + x_test[0])\n",
    "print('Predicted class: ' + str(np.argmax(model.predict(X_test_indices))) + '\\n')"
   ]
  },
  {
   "cell_type": "code",
   "execution_count": 27,
   "metadata": {
    "colab": {
     "base_uri": "https://localhost:8080/"
    },
    "id": "4MPvk4NyX_-8",
    "outputId": "34df68f0-32b8-4645-90f8-f40946dabc21"
   },
   "outputs": [
    {
     "name": "stdout",
     "output_type": "stream",
     "text": [
      "Input: very sad\n",
      "Predicted class: 2\n",
      "\n"
     ]
    }
   ],
   "source": [
    "x_test = np.array(['very sad'])\n",
    "X_test_indices = sentences_to_indices(x_test, word_to_index_, maxLen)\n",
    "print('Input: ' + x_test[0])\n",
    "print('Predicted class: ' + str(np.argmax(model.predict(X_test_indices))) + '\\n')"
   ]
  },
  {
   "cell_type": "code",
   "execution_count": 28,
   "metadata": {
    "colab": {
     "base_uri": "https://localhost:8080/"
    },
    "id": "2VWMmOOMhbsv",
    "outputId": "703f5acd-d5bf-45ff-92af-d631adca3820"
   },
   "outputs": [
    {
     "name": "stdout",
     "output_type": "stream",
     "text": [
      "Input: i am starving\n",
      "Predicted class: 3\n",
      "\n"
     ]
    }
   ],
   "source": [
    "x_test = np.array(['i am starving'])\n",
    "X_test_indices = sentences_to_indices(x_test, word_to_index_, maxLen)\n",
    "print('Input: ' + x_test[0])\n",
    "print('Predicted class: ' + str(np.argmax(model.predict(X_test_indices))) + '\\n')"
   ]
  },
  {
   "cell_type": "code",
   "execution_count": 29,
   "metadata": {
    "colab": {
     "base_uri": "https://localhost:8080/"
    },
    "id": "--XHyS-HiwAR",
    "outputId": "1b0413e7-4b42-403f-871a-8dc88da9c662"
   },
   "outputs": [
    {
     "name": "stdout",
     "output_type": "stream",
     "text": [
      "Input: I have met the love of my life\n",
      "Predicted class: 2\n",
      "\n"
     ]
    }
   ],
   "source": [
    "x_test = np.array(['I have met the love of my life'])\n",
    "X_test_indices = sentences_to_indices(x_test, word_to_index_, maxLen)\n",
    "print('Input: ' + x_test[0])\n",
    "print('Predicted class: ' + str(np.argmax(model.predict(X_test_indices))) + '\\n')"
   ]
  },
  {
   "cell_type": "markdown",
   "metadata": {
    "id": "mv7YmEv70eg0"
   },
   "source": [
    "##### Приказ на мерките за успешност на моделот"
   ]
  },
  {
   "cell_type": "code",
   "execution_count": 20,
   "metadata": {
    "colab": {
     "base_uri": "https://localhost:8080/"
    },
    "id": "UtmkZ3_Y0lhA",
    "outputId": "67f1c5c0-38bf-454a-fe13-bb7916a0bc73"
   },
   "outputs": [
    {
     "name": "stdout",
     "output_type": "stream",
     "text": [
      "Accuracy: 0.8035714030265808\n"
     ]
    }
   ],
   "source": [
    "print('Accuracy: {0}'.format(str(acc)))"
   ]
  },
  {
   "cell_type": "code",
   "execution_count": 21,
   "metadata": {
    "colab": {
     "base_uri": "https://localhost:8080/"
    },
    "id": "XG20SokF0s3j",
    "outputId": "6e2aa439-fbc5-4ad9-dea3-54b13d5b3f93"
   },
   "outputs": [
    {
     "name": "stdout",
     "output_type": "stream",
     "text": [
      "Log loss: 1.1054936317460877\n"
     ]
    }
   ],
   "source": [
    "print('Log loss: {0}'.format(loss))"
   ]
  },
  {
   "cell_type": "code",
   "execution_count": 22,
   "metadata": {
    "colab": {
     "base_uri": "https://localhost:8080/"
    },
    "id": "XpgvVOnS2L6k",
    "outputId": "424d6c4b-3842-4bac-b30e-dc2c6be226df"
   },
   "outputs": [
    {
     "name": "stdout",
     "output_type": "stream",
     "text": [
      "Precision: 0.8461111111111113\n"
     ]
    }
   ],
   "source": [
    "print('Precision: {0}'.format(precision))"
   ]
  },
  {
   "cell_type": "code",
   "execution_count": 23,
   "metadata": {
    "colab": {
     "base_uri": "https://localhost:8080/"
    },
    "id": "QIVQf9uU3AE8",
    "outputId": "bbe66fa7-ed48-4007-9941-3b0cd476c2c3"
   },
   "outputs": [
    {
     "name": "stdout",
     "output_type": "stream",
     "text": [
      "Recall: 0.8519841269841268\n"
     ]
    }
   ],
   "source": [
    "print('Recall: {0}'.format(recall))"
   ]
  },
  {
   "cell_type": "code",
   "execution_count": 24,
   "metadata": {
    "colab": {
     "base_uri": "https://localhost:8080/"
    },
    "id": "mpE7P4v73EKj",
    "outputId": "d4d5aa1a-f9e8-469f-fc40-7f65f4414f99"
   },
   "outputs": [
    {
     "name": "stdout",
     "output_type": "stream",
     "text": [
      "F1 score: 0.8186754422048541\n"
     ]
    }
   ],
   "source": [
    "print('F1 score: {0}'.format(f1_score))"
   ]
  },
  {
   "cell_type": "code",
   "execution_count": 25,
   "metadata": {
    "colab": {
     "base_uri": "https://localhost:8080/"
    },
    "id": "y4KuKrS01tb1",
    "outputId": "c0ab78a4-8b80-410e-86b3-fe96188349d7"
   },
   "outputs": [
    {
     "name": "stdout",
     "output_type": "stream",
     "text": [
      "Classification report: \n",
      "              precision    recall  f1-score   support\n",
      "\n",
      "           0       0.47      1.00      0.64         7\n",
      "           1       0.89      1.00      0.94         8\n",
      "           2       0.88      0.78      0.82        18\n",
      "           3       1.00      0.62      0.77        16\n",
      "           4       1.00      0.86      0.92         7\n",
      "\n",
      "    accuracy                           0.80        56\n",
      "   macro avg       0.85      0.85      0.82        56\n",
      "weighted avg       0.88      0.80      0.81        56\n",
      "\n"
     ]
    }
   ],
   "source": [
    "print('Classification report: \\n{0}'.format(matrix))"
   ]
  }
 ],
 "metadata": {
  "colab": {
   "collapsed_sections": [
    "hpsI7BGbqcdF",
    "4PlJnLBy4CSM",
    "8bExuG7-2htJ",
    "2KZmxp1w4Q5Y",
    "CXvyQLHL2Evi",
    "CsD4Sovc46uL",
    "o7GFsn4n6jqU",
    "8hr-CMTV6lza",
    "5Lbykyvx6nrH",
    "2Q2kXbBw664E",
    "pWM3y3237p-o",
    "4JPcTqVhAgsX",
    "l1DPMvPO7tNj"
   ],
   "name": "is-code.ipynb",
   "provenance": []
  },
  "kernelspec": {
   "display_name": "IS",
   "language": "python",
   "name": "is"
  },
  "language_info": {
   "codemirror_mode": {
    "name": "ipython",
    "version": 3
   },
   "file_extension": ".py",
   "mimetype": "text/x-python",
   "name": "python",
   "nbconvert_exporter": "python",
   "pygments_lexer": "ipython3",
   "version": "3.9.5"
  }
 },
 "nbformat": 4,
 "nbformat_minor": 1
}
