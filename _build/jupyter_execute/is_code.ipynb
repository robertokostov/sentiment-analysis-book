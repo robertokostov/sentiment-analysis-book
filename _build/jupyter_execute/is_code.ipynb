{
 "cells": [
  {
   "cell_type": "markdown",
   "metadata": {
    "id": "tRdpRtTSe3EH"
   },
   "source": [
    "### [Линк](https://colab.research.google.com/drive/1mguVQuMEn2mIfISPCf4I9P6rvjNAK2ub?usp=sharing) до самиот Notebook"
   ]
  },
  {
   "cell_type": "markdown",
   "metadata": {
    "id": "xBj5aWGiu6_l"
   },
   "source": [
    "### Вовед"
   ]
  },
  {
   "cell_type": "markdown",
   "metadata": {
    "id": "hpsI7BGbqcdF"
   },
   "source": [
    "##### Import на библиотеките кои се користат во кодот"
   ]
  },
  {
   "cell_type": "code",
   "execution_count": 1,
   "metadata": {
    "id": "h7vYNpukGweH"
   },
   "outputs": [],
   "source": [
    "from keras.models import Model\n",
    "from keras.layers import Dense, Input, Dropout, LSTM, Activation\n",
    "from keras.layers.embeddings import Embedding\n",
    "from sklearn.metrics import classification_report, f1_score, log_loss, precision_score, recall_score\n",
    "\n",
    "import csv\n",
    "import matplotlib.pyplot as plt\n",
    "import numpy as np\n",
    "import pandas as pd\n",
    "\n",
    "np.random.seed(1)"
   ]
  },
  {
   "cell_type": "markdown",
   "metadata": {
    "id": "cUyUkoFOqiJy"
   },
   "source": [
    "##### Симнување на glove векторите за репрезентација на зборови"
   ]
  },
  {
   "cell_type": "code",
   "execution_count": 2,
   "metadata": {
    "colab": {
     "base_uri": "https://localhost:8080/"
    },
    "id": "-dknM0a2mUvr",
    "outputId": "119172b3-e707-4145-d9aa-5a884d96b42a"
   },
   "outputs": [
    {
     "name": "stdout",
     "output_type": "stream",
     "text": [
      "--2021-06-08 22:10:30--  http://nlp.stanford.edu/data/glove.6B.zip\r\n",
      "Resolving nlp.stanford.edu (nlp.stanford.edu)... "
     ]
    },
    {
     "name": "stdout",
     "output_type": "stream",
     "text": [
      "171.64.67.140\r\n",
      "Connecting to nlp.stanford.edu (nlp.stanford.edu)|171.64.67.140|:80... "
     ]
    },
    {
     "name": "stdout",
     "output_type": "stream",
     "text": [
      "connected.\r\n",
      "HTTP request sent, awaiting response... "
     ]
    },
    {
     "name": "stdout",
     "output_type": "stream",
     "text": [
      "302 Found\r\n",
      "Location: https://nlp.stanford.edu/data/glove.6B.zip [following]\r\n",
      "--2021-06-08 22:10:30--  https://nlp.stanford.edu/data/glove.6B.zip\r\n"
     ]
    },
    {
     "name": "stdout",
     "output_type": "stream",
     "text": [
      "Loaded CA certificate '/etc/ssl/certs/ca-certificates.crt'\r\n",
      "Connecting to nlp.stanford.edu (nlp.stanford.edu)|171.64.67.140|:443... "
     ]
    },
    {
     "name": "stdout",
     "output_type": "stream",
     "text": [
      "connected.\r\n"
     ]
    },
    {
     "name": "stdout",
     "output_type": "stream",
     "text": [
      "HTTP request sent, awaiting response... "
     ]
    },
    {
     "name": "stdout",
     "output_type": "stream",
     "text": [
      "301 Moved Permanently\r\n",
      "Location: http://downloads.cs.stanford.edu/nlp/data/glove.6B.zip [following]\r\n",
      "--2021-06-08 22:10:31--  http://downloads.cs.stanford.edu/nlp/data/glove.6B.zip\r\n",
      "Resolving downloads.cs.stanford.edu (downloads.cs.stanford.edu)... "
     ]
    },
    {
     "name": "stdout",
     "output_type": "stream",
     "text": [
      "171.64.64.22\r\n",
      "Connecting to downloads.cs.stanford.edu (downloads.cs.stanford.edu)|171.64.64.22|:80... "
     ]
    },
    {
     "name": "stdout",
     "output_type": "stream",
     "text": [
      "connected.\r\n",
      "HTTP request sent, awaiting response... "
     ]
    },
    {
     "name": "stdout",
     "output_type": "stream",
     "text": [
      "200 OK\r\n",
      "Length: 862182613 (822M) [application/zip]\r\n",
      "Saving to: 'glove.6B.zip.3'\r\n",
      "\r\n",
      "\r",
      "glove.6B.zip.3        0%[                    ]       0  --.-KB/s               "
     ]
    },
    {
     "name": "stdout",
     "output_type": "stream",
     "text": [
      "\r",
      "glove.6B.zip.3        0%[                    ]  43.58K   116KB/s               "
     ]
    },
    {
     "name": "stdout",
     "output_type": "stream",
     "text": [
      "\r",
      "glove.6B.zip.3        0%[                    ] 132.66K   230KB/s               "
     ]
    },
    {
     "name": "stdout",
     "output_type": "stream",
     "text": [
      "\r",
      "glove.6B.zip.3        0%[                    ] 295.28K   380KB/s               "
     ]
    },
    {
     "name": "stdout",
     "output_type": "stream",
     "text": [
      "\r",
      "glove.6B.zip.3        0%[                    ] 580.44K   593KB/s               "
     ]
    },
    {
     "name": "stdout",
     "output_type": "stream",
     "text": [
      "\r",
      "glove.6B.zip.3        0%[                    ]   1.02M   888KB/s               "
     ]
    },
    {
     "name": "stdout",
     "output_type": "stream",
     "text": [
      "\r",
      "glove.6B.zip.3        0%[                    ]   1.44M  1.01MB/s               "
     ]
    },
    {
     "name": "stdout",
     "output_type": "stream",
     "text": [
      "\r",
      "glove.6B.zip.3        0%[                    ]   2.93M  1.80MB/s               "
     ]
    },
    {
     "name": "stdout",
     "output_type": "stream",
     "text": [
      "\r",
      "glove.6B.zip.3        0%[                    ]   3.47M  1.73MB/s               "
     ]
    },
    {
     "name": "stdout",
     "output_type": "stream",
     "text": [
      "\r",
      "glove.6B.zip.3        0%[                    ]   4.98M  2.24MB/s               "
     ]
    },
    {
     "name": "stdout",
     "output_type": "stream",
     "text": [
      "\r",
      "glove.6B.zip.3        0%[                    ]   5.71M  2.35MB/s               "
     ]
    },
    {
     "name": "stdout",
     "output_type": "stream",
     "text": [
      "\r",
      "glove.6B.zip.3        0%[                    ]   6.49M  2.47MB/s               "
     ]
    },
    {
     "name": "stdout",
     "output_type": "stream",
     "text": [
      "\r",
      "glove.6B.zip.3        0%[                    ]   7.20M  2.54MB/s               "
     ]
    },
    {
     "name": "stdout",
     "output_type": "stream",
     "text": [
      "\r",
      "glove.6B.zip.3        0%[                    ]   7.98M  2.63MB/s    eta 5m 10s "
     ]
    },
    {
     "name": "stdout",
     "output_type": "stream",
     "text": [
      "\r",
      "glove.6B.zip.3        1%[                    ]   8.75M  2.71MB/s    eta 5m 10s "
     ]
    },
    {
     "name": "stdout",
     "output_type": "stream",
     "text": [
      "\r",
      "glove.6B.zip.3        1%[                    ]   9.57M  2.79MB/s    eta 5m 10s "
     ]
    },
    {
     "name": "stdout",
     "output_type": "stream",
     "text": [
      "\r",
      "glove.6B.zip.3        1%[                    ]  10.38M  2.86MB/s    eta 5m 10s "
     ]
    },
    {
     "name": "stdout",
     "output_type": "stream",
     "text": [
      "\r",
      "glove.6B.zip.3        1%[                    ]  11.22M  3.07MB/s    eta 5m 10s "
     ]
    },
    {
     "name": "stdout",
     "output_type": "stream",
     "text": [
      "\r",
      "glove.6B.zip.3        1%[                    ]  12.09M  3.45MB/s    eta 4m 31s "
     ]
    },
    {
     "name": "stdout",
     "output_type": "stream",
     "text": [
      "\r",
      "glove.6B.zip.3        1%[                    ]  12.93M  3.66MB/s    eta 4m 31s "
     ]
    },
    {
     "name": "stdout",
     "output_type": "stream",
     "text": [
      "\r",
      "glove.6B.zip.3        1%[                    ]  13.79M  3.84MB/s    eta 4m 31s "
     ]
    },
    {
     "name": "stdout",
     "output_type": "stream",
     "text": [
      "\r",
      "glove.6B.zip.3        1%[                    ]  14.66M  4.10MB/s    eta 4m 31s "
     ]
    },
    {
     "name": "stdout",
     "output_type": "stream",
     "text": [
      "\r",
      "glove.6B.zip.3        1%[                    ]  15.45M  3.93MB/s    eta 4m 31s "
     ]
    },
    {
     "name": "stdout",
     "output_type": "stream",
     "text": [
      "\r",
      "glove.6B.zip.3        1%[                    ]  16.33M  4.21MB/s    eta 4m 10s "
     ]
    },
    {
     "name": "stdout",
     "output_type": "stream",
     "text": [
      "\r",
      "glove.6B.zip.3        2%[                    ]  17.22M  3.99MB/s    eta 4m 10s "
     ]
    },
    {
     "name": "stdout",
     "output_type": "stream",
     "text": [
      "\r",
      "glove.6B.zip.3        2%[                    ]  18.05M  3.98MB/s    eta 4m 10s "
     ]
    },
    {
     "name": "stdout",
     "output_type": "stream",
     "text": [
      "\r",
      "glove.6B.zip.3        2%[                    ]  18.73M  3.96MB/s    eta 4m 10s "
     ]
    },
    {
     "name": "stdout",
     "output_type": "stream",
     "text": [
      "\r",
      "glove.6B.zip.3        2%[                    ]  19.54M  4.01MB/s    eta 4m 10s "
     ]
    },
    {
     "name": "stdout",
     "output_type": "stream",
     "text": [
      "\r",
      "glove.6B.zip.3        2%[                    ]  20.45M  4.03MB/s    eta 3m 58s "
     ]
    },
    {
     "name": "stdout",
     "output_type": "stream",
     "text": [
      "\r",
      "glove.6B.zip.3        2%[                    ]  21.32M  4.12MB/s    eta 3m 58s "
     ]
    },
    {
     "name": "stdout",
     "output_type": "stream",
     "text": [
      "\r",
      "glove.6B.zip.3        2%[                    ]  22.19M  4.13MB/s    eta 3m 58s "
     ]
    },
    {
     "name": "stdout",
     "output_type": "stream",
     "text": [
      "\r",
      "glove.6B.zip.3        2%[                    ]  23.10M  4.15MB/s    eta 3m 58s "
     ]
    },
    {
     "name": "stdout",
     "output_type": "stream",
     "text": [
      "\r",
      "glove.6B.zip.3        2%[                    ]  23.95M  4.20MB/s    eta 3m 58s "
     ]
    },
    {
     "name": "stdout",
     "output_type": "stream",
     "text": [
      "\r",
      "glove.6B.zip.3        2%[                    ]  24.37M  4.03MB/s    eta 3m 52s "
     ]
    },
    {
     "name": "stdout",
     "output_type": "stream",
     "text": [
      "\r",
      "glove.6B.zip.3        3%[                    ]  25.25M  4.04MB/s    eta 3m 52s "
     ]
    },
    {
     "name": "stdout",
     "output_type": "stream",
     "text": [
      "\r",
      "glove.6B.zip.3        3%[                    ]  26.00M  4.03MB/s    eta 3m 52s "
     ]
    },
    {
     "name": "stdout",
     "output_type": "stream",
     "text": [
      "\r",
      "glove.6B.zip.3        3%[                    ]  26.74M  3.99MB/s    eta 3m 52s "
     ]
    },
    {
     "name": "stdout",
     "output_type": "stream",
     "text": [
      "\r",
      "glove.6B.zip.3        3%[                    ]  27.59M  3.97MB/s    eta 3m 52s "
     ]
    },
    {
     "name": "stdout",
     "output_type": "stream",
     "text": [
      "\r",
      "glove.6B.zip.3        3%[                    ]  28.48M  3.99MB/s    eta 3m 46s "
     ]
    },
    {
     "name": "stdout",
     "output_type": "stream",
     "text": [
      "\r",
      "glove.6B.zip.3        3%[                    ]  29.38M  4.01MB/s    eta 3m 46s "
     ]
    },
    {
     "name": "stdout",
     "output_type": "stream",
     "text": [
      "\r",
      "glove.6B.zip.3        3%[                    ]  30.28M  4.02MB/s    eta 3m 46s "
     ]
    },
    {
     "name": "stdout",
     "output_type": "stream",
     "text": [
      "\r",
      "glove.6B.zip.3        3%[                    ]  30.98M  3.95MB/s    eta 3m 46s "
     ]
    },
    {
     "name": "stdout",
     "output_type": "stream",
     "text": [
      "\r",
      "glove.6B.zip.3        3%[                    ]  31.64M  3.91MB/s    eta 3m 46s "
     ]
    },
    {
     "name": "stdout",
     "output_type": "stream",
     "text": [
      "\r",
      "glove.6B.zip.3        3%[                    ]  32.27M  3.80MB/s    eta 3m 44s "
     ]
    },
    {
     "name": "stdout",
     "output_type": "stream",
     "text": [
      "\r",
      "glove.6B.zip.3        4%[                    ]  32.96M  3.79MB/s    eta 3m 44s "
     ]
    },
    {
     "name": "stdout",
     "output_type": "stream",
     "text": [
      "\r",
      "glove.6B.zip.3        4%[                    ]  33.81M  3.75MB/s    eta 3m 44s "
     ]
    },
    {
     "name": "stdout",
     "output_type": "stream",
     "text": [
      "\r",
      "glove.6B.zip.3        4%[                    ]  34.70M  3.81MB/s    eta 3m 44s "
     ]
    },
    {
     "name": "stdout",
     "output_type": "stream",
     "text": [
      "\r",
      "glove.6B.zip.3        4%[                    ]  35.48M  3.83MB/s    eta 3m 44s "
     ]
    },
    {
     "name": "stdout",
     "output_type": "stream",
     "text": [
      "\r",
      "glove.6B.zip.3        4%[                    ]  36.12M  3.82MB/s    eta 3m 41s "
     ]
    },
    {
     "name": "stdout",
     "output_type": "stream",
     "text": [
      "\r",
      "glove.6B.zip.3        4%[                    ]  36.90M  3.77MB/s    eta 3m 41s "
     ]
    },
    {
     "name": "stdout",
     "output_type": "stream",
     "text": [
      "\r",
      "glove.6B.zip.3        4%[                    ]  37.53M  3.76MB/s    eta 3m 41s "
     ]
    },
    {
     "name": "stdout",
     "output_type": "stream",
     "text": [
      "\r",
      "glove.6B.zip.3        4%[                    ]  38.03M  3.66MB/s    eta 3m 41s "
     ]
    },
    {
     "name": "stdout",
     "output_type": "stream",
     "text": [
      "\r",
      "glove.6B.zip.3        4%[                    ]  38.69M  3.59MB/s    eta 3m 41s "
     ]
    },
    {
     "name": "stdout",
     "output_type": "stream",
     "text": [
      "\r",
      "glove.6B.zip.3        4%[                    ]  39.36M  3.55MB/s    eta 3m 42s "
     ]
    },
    {
     "name": "stdout",
     "output_type": "stream",
     "text": [
      "\r",
      "glove.6B.zip.3        4%[                    ]  40.05M  3.52MB/s    eta 3m 42s "
     ]
    },
    {
     "name": "stdout",
     "output_type": "stream",
     "text": [
      "\r",
      "glove.6B.zip.3        4%[                    ]  40.71M  3.43MB/s    eta 3m 42s "
     ]
    },
    {
     "name": "stdout",
     "output_type": "stream",
     "text": [
      "\r",
      "glove.6B.zip.3        5%[>                   ]  41.53M  3.45MB/s    eta 3m 42s "
     ]
    },
    {
     "name": "stdout",
     "output_type": "stream",
     "text": [
      "\r",
      "glove.6B.zip.3        5%[>                   ]  42.45M  3.51MB/s    eta 3m 42s "
     ]
    },
    {
     "name": "stdout",
     "output_type": "stream",
     "text": [
      "\r",
      "glove.6B.zip.3        5%[>                   ]  43.19M  3.56MB/s    eta 3m 40s "
     ]
    },
    {
     "name": "stdout",
     "output_type": "stream",
     "text": [
      "\r",
      "glove.6B.zip.3        5%[>                   ]  43.70M  3.51MB/s    eta 3m 40s "
     ]
    },
    {
     "name": "stdout",
     "output_type": "stream",
     "text": [
      "\r",
      "glove.6B.zip.3        5%[>                   ]  44.28M  3.44MB/s    eta 3m 40s "
     ]
    },
    {
     "name": "stdout",
     "output_type": "stream",
     "text": [
      "\r",
      "glove.6B.zip.3        5%[>                   ]  45.15M  3.44MB/s    eta 3m 40s "
     ]
    },
    {
     "name": "stdout",
     "output_type": "stream",
     "text": [
      "\r",
      "glove.6B.zip.3        5%[>                   ]  46.01M  3.50MB/s    eta 3m 40s "
     ]
    },
    {
     "name": "stdout",
     "output_type": "stream",
     "text": [
      "\r",
      "glove.6B.zip.3        5%[>                   ]  46.69M  3.45MB/s    eta 3m 40s "
     ]
    },
    {
     "name": "stdout",
     "output_type": "stream",
     "text": [
      "\r",
      "glove.6B.zip.3        5%[>                   ]  47.64M  3.51MB/s    eta 3m 40s "
     ]
    },
    {
     "name": "stdout",
     "output_type": "stream",
     "text": [
      "\r",
      "glove.6B.zip.3        5%[>                   ]  48.61M  3.61MB/s    eta 3m 40s "
     ]
    },
    {
     "name": "stdout",
     "output_type": "stream",
     "text": [
      "\r",
      "glove.6B.zip.3        6%[>                   ]  49.43M  3.71MB/s    eta 3m 40s "
     ]
    },
    {
     "name": "stdout",
     "output_type": "stream",
     "text": [
      "\r",
      "glove.6B.zip.3        6%[>                   ]  49.86M  3.62MB/s    eta 3m 40s "
     ]
    },
    {
     "name": "stdout",
     "output_type": "stream",
     "text": [
      "\r",
      "glove.6B.zip.3        6%[>                   ]  50.22M  3.41MB/s    eta 3m 41s "
     ]
    },
    {
     "name": "stdout",
     "output_type": "stream",
     "text": [
      "\r",
      "glove.6B.zip.3        6%[>                   ]  51.59M  3.62MB/s    eta 3m 41s "
     ]
    },
    {
     "name": "stdout",
     "output_type": "stream",
     "text": [
      "\r",
      "glove.6B.zip.3        6%[>                   ]  52.26M  3.62MB/s    eta 3m 41s "
     ]
    },
    {
     "name": "stdout",
     "output_type": "stream",
     "text": [
      "\r",
      "glove.6B.zip.3        6%[>                   ]  52.96M  3.65MB/s    eta 3m 41s "
     ]
    },
    {
     "name": "stdout",
     "output_type": "stream",
     "text": [
      "\r",
      "glove.6B.zip.3        6%[>                   ]  53.68M  3.61MB/s    eta 3m 41s "
     ]
    },
    {
     "name": "stdout",
     "output_type": "stream",
     "text": [
      "\r",
      "glove.6B.zip.3        6%[>                   ]  54.42M  3.54MB/s    eta 3m 37s "
     ]
    },
    {
     "name": "stdout",
     "output_type": "stream",
     "text": [
      "\r",
      "glove.6B.zip.3        6%[>                   ]  55.10M  3.53MB/s    eta 3m 37s "
     ]
    },
    {
     "name": "stdout",
     "output_type": "stream",
     "text": [
      "\r",
      "glove.6B.zip.3        6%[>                   ]  55.72M  3.54MB/s    eta 3m 37s "
     ]
    },
    {
     "name": "stdout",
     "output_type": "stream",
     "text": [
      "\r",
      "glove.6B.zip.3        6%[>                   ]  56.42M  3.58MB/s    eta 3m 37s "
     ]
    },
    {
     "name": "stdout",
     "output_type": "stream",
     "text": [
      "\r",
      "glove.6B.zip.3        6%[>                   ]  57.25M  3.60MB/s    eta 3m 37s "
     ]
    },
    {
     "name": "stdout",
     "output_type": "stream",
     "text": [
      "\r",
      "glove.6B.zip.3        7%[>                   ]  58.08M  3.67MB/s    eta 3m 35s "
     ]
    },
    {
     "name": "stdout",
     "output_type": "stream",
     "text": [
      "\r",
      "glove.6B.zip.3        7%[>                   ]  58.92M  3.63MB/s    eta 3m 35s "
     ]
    },
    {
     "name": "stdout",
     "output_type": "stream",
     "text": [
      "\r",
      "glove.6B.zip.3        7%[>                   ]  59.68M  3.59MB/s    eta 3m 35s "
     ]
    },
    {
     "name": "stdout",
     "output_type": "stream",
     "text": [
      "\r",
      "glove.6B.zip.3        7%[>                   ]  60.28M  3.48MB/s    eta 3m 35s "
     ]
    },
    {
     "name": "stdout",
     "output_type": "stream",
     "text": [
      "\r",
      "glove.6B.zip.3        7%[>                   ]  60.90M  3.41MB/s    eta 3m 35s "
     ]
    },
    {
     "name": "stdout",
     "output_type": "stream",
     "text": [
      "\r",
      "glove.6B.zip.3        7%[>                   ]  61.17M  3.31MB/s    eta 3m 37s "
     ]
    },
    {
     "name": "stdout",
     "output_type": "stream",
     "text": [
      "\r",
      "glove.6B.zip.3        7%[>                   ]  61.47M  3.39MB/s    eta 3m 37s "
     ]
    },
    {
     "name": "stdout",
     "output_type": "stream",
     "text": [
      "\r",
      "glove.6B.zip.3        7%[>                   ]  62.00M  3.14MB/s    eta 3m 37s "
     ]
    },
    {
     "name": "stdout",
     "output_type": "stream",
     "text": [
      "\r",
      "glove.6B.zip.3        7%[>                   ]  62.67M  3.07MB/s    eta 3m 37s "
     ]
    },
    {
     "name": "stdout",
     "output_type": "stream",
     "text": [
      "\r",
      "glove.6B.zip.3        7%[>                   ]  62.71M  2.73MB/s    eta 3m 44s "
     ]
    },
    {
     "name": "stdout",
     "output_type": "stream",
     "text": [
      "\r",
      "glove.6B.zip.3        7%[>                   ]  63.21M  2.68MB/s    eta 3m 44s "
     ]
    },
    {
     "name": "stdout",
     "output_type": "stream",
     "text": [
      "\r",
      "glove.6B.zip.3        7%[>                   ]  63.54M  2.60MB/s    eta 3m 44s "
     ]
    },
    {
     "name": "stdout",
     "output_type": "stream",
     "text": [
      "\r",
      "glove.6B.zip.3        7%[>                   ]  64.03M  2.56MB/s    eta 3m 44s "
     ]
    },
    {
     "name": "stdout",
     "output_type": "stream",
     "text": [
      "\r",
      "glove.6B.zip.3        7%[>                   ]  64.04M  2.32MB/s    eta 3m 44s "
     ]
    },
    {
     "name": "stdout",
     "output_type": "stream",
     "text": [
      "\r",
      "glove.6B.zip.3        7%[>                   ]  65.01M  2.38MB/s    eta 3m 49s "
     ]
    },
    {
     "name": "stdout",
     "output_type": "stream",
     "text": [
      "\r",
      "glove.6B.zip.3        7%[>                   ]  65.38M  2.32MB/s    eta 3m 49s "
     ]
    },
    {
     "name": "stdout",
     "output_type": "stream",
     "text": [
      "\r",
      "glove.6B.zip.3        8%[>                   ]  65.80M  2.20MB/s    eta 3m 49s "
     ]
    },
    {
     "name": "stdout",
     "output_type": "stream",
     "text": [
      "\r",
      "glove.6B.zip.3        8%[>                   ]  66.26M  2.11MB/s    eta 3m 49s "
     ]
    },
    {
     "name": "stdout",
     "output_type": "stream",
     "text": [
      "\r",
      "glove.6B.zip.3        8%[>                   ]  66.75M  2.02MB/s    eta 3m 49s "
     ]
    },
    {
     "name": "stdout",
     "output_type": "stream",
     "text": [
      "\r",
      "glove.6B.zip.3        8%[>                   ]  67.23M  1.97MB/s    eta 3m 52s "
     ]
    },
    {
     "name": "stdout",
     "output_type": "stream",
     "text": [
      "\r",
      "glove.6B.zip.3        8%[>                   ]  67.76M  1.93MB/s    eta 3m 52s "
     ]
    },
    {
     "name": "stdout",
     "output_type": "stream",
     "text": [
      "\r",
      "glove.6B.zip.3        8%[>                   ]  68.22M  1.93MB/s    eta 3m 52s "
     ]
    },
    {
     "name": "stdout",
     "output_type": "stream",
     "text": [
      "\r",
      "glove.6B.zip.3        8%[>                   ]  68.70M  1.98MB/s    eta 3m 52s "
     ]
    },
    {
     "name": "stdout",
     "output_type": "stream",
     "text": [
      "\r",
      "glove.6B.zip.3        8%[>                   ]  69.12M  2.02MB/s    eta 3m 52s "
     ]
    },
    {
     "name": "stdout",
     "output_type": "stream",
     "text": [
      "\r",
      "glove.6B.zip.3        8%[>                   ]  69.60M  1.99MB/s    eta 3m 54s "
     ]
    },
    {
     "name": "stdout",
     "output_type": "stream",
     "text": [
      "\r",
      "glove.6B.zip.3        8%[>                   ]  70.13M  1.99MB/s    eta 3m 54s "
     ]
    },
    {
     "name": "stdout",
     "output_type": "stream",
     "text": [
      "\r",
      "glove.6B.zip.3        8%[>                   ]  70.66M  2.22MB/s    eta 3m 54s "
     ]
    },
    {
     "name": "stdout",
     "output_type": "stream",
     "text": [
      "\r",
      "glove.6B.zip.3        8%[>                   ]  71.21M  2.32MB/s    eta 3m 54s "
     ]
    },
    {
     "name": "stdout",
     "output_type": "stream",
     "text": [
      "\r",
      "glove.6B.zip.3        8%[>                   ]  71.79M  2.30MB/s    eta 3m 54s "
     ]
    },
    {
     "name": "stdout",
     "output_type": "stream",
     "text": [
      "\r",
      "glove.6B.zip.3        8%[>                   ]  72.36M  2.35MB/s    eta 3m 56s "
     ]
    },
    {
     "name": "stdout",
     "output_type": "stream",
     "text": [
      "\r",
      "glove.6B.zip.3        8%[>                   ]  72.94M  2.39MB/s    eta 3m 56s "
     ]
    },
    {
     "name": "stdout",
     "output_type": "stream",
     "text": [
      "\r",
      "glove.6B.zip.3        8%[>                   ]  73.51M  2.45MB/s    eta 3m 56s "
     ]
    },
    {
     "name": "stdout",
     "output_type": "stream",
     "text": [
      "\r",
      "glove.6B.zip.3        9%[>                   ]  74.08M  2.50MB/s    eta 3m 56s "
     ]
    },
    {
     "name": "stdout",
     "output_type": "stream",
     "text": [
      "\r",
      "glove.6B.zip.3        9%[>                   ]  74.64M  2.53MB/s    eta 3m 56s "
     ]
    },
    {
     "name": "stdout",
     "output_type": "stream",
     "text": [
      "\r",
      "glove.6B.zip.3        9%[>                   ]  75.19M  2.53MB/s    eta 3m 56s "
     ]
    },
    {
     "name": "stdout",
     "output_type": "stream",
     "text": [
      "\r",
      "glove.6B.zip.3        9%[>                   ]  75.78M  2.56MB/s    eta 3m 56s "
     ]
    },
    {
     "name": "stdout",
     "output_type": "stream",
     "text": [
      "\r",
      "glove.6B.zip.3        9%[>                   ]  76.33M  2.60MB/s    eta 3m 56s "
     ]
    },
    {
     "name": "stdout",
     "output_type": "stream",
     "text": [
      "\r",
      "glove.6B.zip.3        9%[>                   ]  76.88M  2.58MB/s    eta 3m 56s "
     ]
    },
    {
     "name": "stdout",
     "output_type": "stream",
     "text": [
      "\r",
      "glove.6B.zip.3        9%[>                   ]  77.44M  2.64MB/s    eta 3m 56s "
     ]
    },
    {
     "name": "stdout",
     "output_type": "stream",
     "text": [
      "\r",
      "glove.6B.zip.3        9%[>                   ]  77.98M  2.61MB/s    eta 3m 57s "
     ]
    },
    {
     "name": "stdout",
     "output_type": "stream",
     "text": [
      "\r",
      "glove.6B.zip.3        9%[>                   ]  78.55M  2.63MB/s    eta 3m 57s "
     ]
    },
    {
     "name": "stdout",
     "output_type": "stream",
     "text": [
      "\r",
      "glove.6B.zip.3        9%[>                   ]  79.10M  2.66MB/s    eta 3m 57s "
     ]
    },
    {
     "name": "stdout",
     "output_type": "stream",
     "text": [
      "\r",
      "glove.6B.zip.3        9%[>                   ]  79.67M  2.66MB/s    eta 3m 57s "
     ]
    },
    {
     "name": "stdout",
     "output_type": "stream",
     "text": [
      "\r",
      "glove.6B.zip.3        9%[>                   ]  80.23M  2.64MB/s    eta 3m 57s "
     ]
    },
    {
     "name": "stdout",
     "output_type": "stream",
     "text": [
      "\r",
      "glove.6B.zip.3        9%[>                   ]  80.77M  2.69MB/s    eta 3m 57s "
     ]
    },
    {
     "name": "stdout",
     "output_type": "stream",
     "text": [
      "\r",
      "glove.6B.zip.3        9%[>                   ]  81.34M  2.66MB/s    eta 3m 57s "
     ]
    },
    {
     "name": "stdout",
     "output_type": "stream",
     "text": [
      "\r",
      "glove.6B.zip.3        9%[>                   ]  81.89M  2.71MB/s    eta 3m 57s "
     ]
    },
    {
     "name": "stdout",
     "output_type": "stream",
     "text": [
      "\r",
      "glove.6B.zip.3       10%[=>                  ]  82.44M  2.70MB/s    eta 3m 57s "
     ]
    },
    {
     "name": "stdout",
     "output_type": "stream",
     "text": [
      "\r",
      "glove.6B.zip.3       10%[=>                  ]  83.00M  2.69MB/s    eta 3m 57s "
     ]
    },
    {
     "name": "stdout",
     "output_type": "stream",
     "text": [
      "\r",
      "glove.6B.zip.3       10%[=>                  ]  83.59M  2.71MB/s    eta 3m 57s "
     ]
    },
    {
     "name": "stdout",
     "output_type": "stream",
     "text": [
      "\r",
      "glove.6B.zip.3       10%[=>                  ]  84.16M  2.71MB/s    eta 3m 57s "
     ]
    },
    {
     "name": "stdout",
     "output_type": "stream",
     "text": [
      "\r",
      "glove.6B.zip.3       10%[=>                  ]  84.71M  2.74MB/s    eta 3m 57s "
     ]
    },
    {
     "name": "stdout",
     "output_type": "stream",
     "text": [
      "\r",
      "glove.6B.zip.3       10%[=>                  ]  85.27M  2.72MB/s    eta 3m 57s "
     ]
    },
    {
     "name": "stdout",
     "output_type": "stream",
     "text": [
      "\r",
      "glove.6B.zip.3       10%[=>                  ]  85.83M  2.75MB/s    eta 3m 57s "
     ]
    },
    {
     "name": "stdout",
     "output_type": "stream",
     "text": [
      "\r",
      "glove.6B.zip.3       10%[=>                  ]  86.39M  2.76MB/s    eta 3m 57s "
     ]
    },
    {
     "name": "stdout",
     "output_type": "stream",
     "text": [
      "^C\r\n"
     ]
    },
    {
     "name": "stdout",
     "output_type": "stream",
     "text": [
      "fish: Unknown command: unzip\r\n",
      "fish: \r\n",
      "unzip glove*.zip\r\n",
      "^\r\n"
     ]
    }
   ],
   "source": [
    "!wget http://nlp.stanford.edu/data/glove.6B.zip\n",
    "!unzip glove*.zip"
   ]
  },
  {
   "cell_type": "markdown",
   "metadata": {
    "id": "qhq0VFhiwnLR"
   },
   "source": [
    "### Помошни функции"
   ]
  },
  {
   "cell_type": "markdown",
   "metadata": {
    "id": "4PlJnLBy4CSM"
   },
   "source": [
    "##### Исчитување на glove фајлот со вредности"
   ]
  },
  {
   "cell_type": "code",
   "execution_count": 3,
   "metadata": {
    "id": "-qKz7uWfIjdx"
   },
   "outputs": [],
   "source": [
    "def read_glove_vecs(glove_file):\n",
    "    with open(glove_file, 'r', encoding=\"utf8\") as f:\n",
    "        words = set()\n",
    "        word_to_vec_map = {}\n",
    "        for line in f:\n",
    "            line = line.strip().split()\n",
    "            curr_word = line[0]\n",
    "            words.add(curr_word)\n",
    "            word_to_vec_map[curr_word] = np.array(line[1:], dtype=np.float64)\n",
    "\n",
    "        i = 1\n",
    "        words_to_index = {}\n",
    "        index_to_words = {}\n",
    "        for w in sorted(words):\n",
    "            words_to_index[w] = i\n",
    "            index_to_words[i] = w\n",
    "            i = i + 1\n",
    "            \n",
    "    return words_to_index, index_to_words, word_to_vec_map"
   ]
  },
  {
   "cell_type": "markdown",
   "metadata": {
    "id": "8bExuG7-2htJ"
   },
   "source": [
    "##### Softmax функцијата"
   ]
  },
  {
   "cell_type": "code",
   "execution_count": 4,
   "metadata": {
    "id": "2jFMvyQJIo1L"
   },
   "outputs": [],
   "source": [
    "def softmax(x):\n",
    "    e_x = np.exp(x - np.max(x))\n",
    "    \n",
    "    return e_x / e_x.sum()"
   ]
  },
  {
   "cell_type": "markdown",
   "metadata": {
    "id": "2KZmxp1w4Q5Y"
   },
   "source": [
    "##### Читање на соодветните вредности од CSV train и test датотеките"
   ]
  },
  {
   "cell_type": "code",
   "execution_count": 5,
   "metadata": {
    "id": "Z8J8vGNxIr23"
   },
   "outputs": [],
   "source": [
    "def read_csv(filename):\n",
    "    phrase = []\n",
    "    emoji_ = []\n",
    "\n",
    "    with open(filename) as csvDataFile:\n",
    "        csv_reader = csv.reader(csvDataFile)\n",
    "\n",
    "        for row in csv_reader:\n",
    "            phrase.append(row[0])\n",
    "            emoji_.append(row[1])\n",
    "\n",
    "    x = np.asarray(phrase)\n",
    "    y = np.asarray(emoji_, dtype=int)\n",
    "\n",
    "    return x, y\n"
   ]
  },
  {
   "cell_type": "markdown",
   "metadata": {
    "id": "CXvyQLHL2Evi"
   },
   "source": [
    "##### Излезите(бројки) ги претвора во one-hot вектори"
   ]
  },
  {
   "cell_type": "code",
   "execution_count": 6,
   "metadata": {
    "id": "6l1ElPjaIzcP"
   },
   "outputs": [],
   "source": [
    "def convert_to_one_hot(y, c):\n",
    "    y = np.eye(c)[y.reshape(-1)]\n",
    "    \n",
    "    return y"
   ]
  },
  {
   "cell_type": "markdown",
   "metadata": {
    "id": "CsD4Sovc46uL"
   },
   "source": [
    "##### Предвидување на излезите при дадени елементи како влез"
   ]
  },
  {
   "cell_type": "code",
   "execution_count": 7,
   "metadata": {
    "id": "UFMS7-IGJBrM"
   },
   "outputs": [],
   "source": [
    "def predict(X, Y, W, b, word_to_vec_map):\n",
    "    m = X.shape[0]\n",
    "    pred = np.zeros((m, 1))\n",
    "\n",
    "    for j in range(m):\n",
    "        words = X[j].lower().split()\n",
    "\n",
    "        avg = np.zeros((50,))\n",
    "        for w in words:\n",
    "            avg += word_to_vec_map[w]\n",
    "        avg = avg / len(words)\n",
    "\n",
    "        z = np.dot(W, avg) + b\n",
    "        a = softmax(z)\n",
    "        pred[j] = np.argmax(a)\n",
    "\n",
    "    print(\"Accuracy: \" + str(np.mean((pred[:] == Y.reshape(Y.shape[0], 1)[:]))))\n",
    "\n",
    "    return pred"
   ]
  },
  {
   "cell_type": "markdown",
   "metadata": {
    "id": "o7GFsn4n6jqU"
   },
   "source": [
    "##### Претворање на реченици дадени како влез во матрици од вредности"
   ]
  },
  {
   "cell_type": "code",
   "execution_count": 8,
   "metadata": {
    "id": "sM3SlQUdKKKk"
   },
   "outputs": [],
   "source": [
    "def sentences_to_indices(X, word_to_index, max_len):\n",
    "    m = X.shape[0] \n",
    "    x_indices = np.zeros((m, max_len))\n",
    "\n",
    "    for i in range(m):\n",
    "        sentence_words = (X[i].lower()).split()\n",
    "        j = 0\n",
    "    \n",
    "        for w in sentence_words:\n",
    "            # i-тата вредност е редниот број на реченицата, j-тата е редниот\n",
    "            # број на зборот во неа. вредноста која се поставува е таа на \n",
    "            # соодветниот збор\n",
    "            x_indices[i, j] = word_to_index[w]\n",
    "            j = j + 1\n",
    "    \n",
    "    return x_indices"
   ]
  },
  {
   "cell_type": "markdown",
   "metadata": {
    "id": "8hr-CMTV6lza"
   },
   "source": [
    "##### Креирање на веќе истрениран Embedding слој со помош на glove векторите"
   ]
  },
  {
   "cell_type": "code",
   "execution_count": 9,
   "metadata": {
    "id": "IR60_ZQIKWCc"
   },
   "outputs": [],
   "source": [
    "def pretrained_embedding_layer(word_to_vec_map, word_to_index):\n",
    "    vocab_len = len(word_to_index) + 1\n",
    "    emb_dim = word_to_vec_map[\"cucumber\"].shape[0]\n",
    "    emb_matrix = np.zeros((vocab_len, emb_dim))\n",
    "\n",
    "    for word, index in word_to_index.items():\n",
    "        emb_matrix[index, :] = word_to_vec_map[word]\n",
    "\n",
    "    embedding_layer = Embedding(vocab_len, emb_dim)\n",
    "    embedding_layer.build((None,))\n",
    "    embedding_layer.set_weights([emb_matrix])\n",
    "\n",
    "    return embedding_layer"
   ]
  },
  {
   "cell_type": "markdown",
   "metadata": {
    "id": "5Lbykyvx6nrH"
   },
   "source": [
    "##### Креирање на модел со соодветни предефинирани вредности"
   ]
  },
  {
   "cell_type": "code",
   "execution_count": 10,
   "metadata": {
    "id": "2UH6KMEoKW6m"
   },
   "outputs": [],
   "source": [
    "def sentiment_analysis(input_shape, word_to_vec_map, word_to_index):\n",
    "    sentence_indices = Input(shape=input_shape, dtype=np.int32)\n",
    "    embedding_layer = pretrained_embedding_layer(word_to_vec_map, word_to_index)\n",
    "    embeddings = embedding_layer(sentence_indices)\n",
    "\n",
    "    # LSTM слој со 128-димензионален hidden state\n",
    "    X = LSTM(128, return_sequences=True)(embeddings)\n",
    "    \n",
    "    # Веројатност на зачувување од 0.5\n",
    "    X = Dropout(0.5)(X)\n",
    "    \n",
    "    # Уште еден LSTM слој со 128-димензионален hidden state\n",
    "    X = LSTM(128)(X)\n",
    "\n",
    "    X = Dropout(0.5)(X)\n",
    "    X = Dense(5, activation='softmax')(X)\n",
    "    X = Activation('softmax')(X)\n",
    "\n",
    "    model = Model(sentence_indices, X)\n",
    "\n",
    "    return model"
   ]
  },
  {
   "cell_type": "markdown",
   "metadata": {
    "id": "nDFhT4GJwtws"
   },
   "source": [
    "# Main дел"
   ]
  },
  {
   "cell_type": "markdown",
   "metadata": {
    "id": "2Q2kXbBw664E"
   },
   "source": [
    "##### Читање на train и test податоците, пренос на излезите како one-hot вектори, читање на векторите за репрезентација на зборови"
   ]
  },
  {
   "cell_type": "code",
   "execution_count": 11,
   "metadata": {
    "id": "akJgOxOwrVm0"
   },
   "outputs": [],
   "source": [
    "X_train, Y_train = read_csv('train_set.csv')\n",
    "X_test, Y_test = read_csv('test_set.csv')\n",
    "\n",
    "maxLen = len(max(X_train, key=len).split())\n",
    "\n",
    "Y_oh_train = convert_to_one_hot(Y_train, 5)\n",
    "Y_oh_test = convert_to_one_hot(Y_test, 5)\n",
    "\n",
    "word_to_index_, index_to_word, word_to_vec_map_ = read_glove_vecs('glove.6B.50d.txt')"
   ]
  },
  {
   "cell_type": "markdown",
   "metadata": {
    "id": "pWM3y3237p-o"
   },
   "source": [
    "##### Креирање и тренирање на моделот"
   ]
  },
  {
   "cell_type": "code",
   "execution_count": 12,
   "metadata": {
    "colab": {
     "base_uri": "https://localhost:8080/"
    },
    "id": "GEvEG5U-KZAz",
    "outputId": "6a97588b-1175-413d-8e5f-dd31ff3e5bdd"
   },
   "outputs": [
    {
     "name": "stdout",
     "output_type": "stream",
     "text": [
      "Model: \"model\"\n",
      "_________________________________________________________________\n",
      "Layer (type)                 Output Shape              Param #   \n",
      "=================================================================\n",
      "input_1 (InputLayer)         [(None, 10)]              0         \n",
      "_________________________________________________________________\n",
      "embedding (Embedding)        (None, 10, 50)            20000050  \n",
      "_________________________________________________________________\n",
      "lstm (LSTM)                  (None, 10, 128)           91648     \n",
      "_________________________________________________________________\n",
      "dropout (Dropout)            (None, 10, 128)           0         \n",
      "_________________________________________________________________\n",
      "lstm_1 (LSTM)                (None, 128)               131584    \n",
      "_________________________________________________________________\n",
      "dropout_1 (Dropout)          (None, 128)               0         \n",
      "_________________________________________________________________\n",
      "dense (Dense)                (None, 5)                 645       \n",
      "_________________________________________________________________\n",
      "activation (Activation)      (None, 5)                 0         \n",
      "=================================================================\n",
      "Total params: 20,223,927\n",
      "Trainable params: 20,223,927\n",
      "Non-trainable params: 0\n",
      "_________________________________________________________________\n",
      "Epoch 1/100\n",
      "5/5 [==============================] - 22s 247ms/step - loss: 1.6068 - accuracy: 0.2405\n",
      "Epoch 2/100\n",
      "5/5 [==============================] - 1s 223ms/step - loss: 1.5801 - accuracy: 0.3253\n",
      "Epoch 3/100\n",
      "5/5 [==============================] - 1s 223ms/step - loss: 1.5603 - accuracy: 0.3423\n",
      "Epoch 4/100\n",
      "5/5 [==============================] - 1s 229ms/step - loss: 1.5586 - accuracy: 0.3679\n",
      "Epoch 5/100\n",
      "5/5 [==============================] - 1s 229ms/step - loss: 1.5276 - accuracy: 0.3892\n",
      "Epoch 6/100\n",
      "5/5 [==============================] - 1s 228ms/step - loss: 1.4928 - accuracy: 0.4540\n",
      "Epoch 7/100\n",
      "5/5 [==============================] - 1s 225ms/step - loss: 1.4430 - accuracy: 0.4576\n",
      "Epoch 8/100\n",
      "5/5 [==============================] - 1s 230ms/step - loss: 1.4150 - accuracy: 0.4706\n",
      "Epoch 9/100\n",
      "5/5 [==============================] - 1s 229ms/step - loss: 1.3631 - accuracy: 0.5575\n",
      "Epoch 10/100\n",
      "5/5 [==============================] - 1s 224ms/step - loss: 1.2943 - accuracy: 0.6050\n",
      "Epoch 11/100\n",
      "5/5 [==============================] - 1s 232ms/step - loss: 1.2990 - accuracy: 0.6444\n",
      "Epoch 12/100\n",
      "5/5 [==============================] - 1s 230ms/step - loss: 1.2296 - accuracy: 0.7113\n",
      "Epoch 13/100\n",
      "5/5 [==============================] - 1s 231ms/step - loss: 1.2074 - accuracy: 0.7088\n",
      "Epoch 14/100\n",
      "5/5 [==============================] - 1s 224ms/step - loss: 1.1629 - accuracy: 0.7612\n",
      "Epoch 15/100\n",
      "5/5 [==============================] - 1s 227ms/step - loss: 1.1650 - accuracy: 0.7219\n",
      "Epoch 16/100\n",
      "5/5 [==============================] - 1s 234ms/step - loss: 1.1446 - accuracy: 0.7474\n",
      "Epoch 17/100\n",
      "5/5 [==============================] - 1s 230ms/step - loss: 1.1470 - accuracy: 0.7747\n",
      "Epoch 18/100\n",
      "5/5 [==============================] - 1s 224ms/step - loss: 1.1361 - accuracy: 0.7765\n",
      "Epoch 19/100\n",
      "5/5 [==============================] - 1s 225ms/step - loss: 1.0577 - accuracy: 0.8764\n",
      "Epoch 20/100\n",
      "5/5 [==============================] - 1s 224ms/step - loss: 1.0417 - accuracy: 0.9214\n",
      "Epoch 21/100\n",
      "5/5 [==============================] - 1s 225ms/step - loss: 1.0217 - accuracy: 0.8886\n",
      "Epoch 22/100\n",
      "5/5 [==============================] - 1s 228ms/step - loss: 1.0050 - accuracy: 0.9072\n",
      "Epoch 23/100\n",
      "5/5 [==============================] - 1s 235ms/step - loss: 0.9812 - accuracy: 0.9456\n",
      "Epoch 24/100\n",
      "5/5 [==============================] - 1s 224ms/step - loss: 0.9859 - accuracy: 0.9300\n",
      "Epoch 25/100\n",
      "5/5 [==============================] - 1s 233ms/step - loss: 0.9672 - accuracy: 0.9482\n",
      "Epoch 26/100\n",
      "5/5 [==============================] - 1s 224ms/step - loss: 0.9677 - accuracy: 0.9451\n",
      "Epoch 27/100\n",
      "5/5 [==============================] - 1s 226ms/step - loss: 0.9625 - accuracy: 0.9562\n",
      "Epoch 28/100\n",
      "5/5 [==============================] - 1s 226ms/step - loss: 0.9646 - accuracy: 0.9437\n",
      "Epoch 29/100\n",
      "5/5 [==============================] - 1s 222ms/step - loss: 0.9823 - accuracy: 0.9206\n",
      "Epoch 30/100\n",
      "5/5 [==============================] - 1s 224ms/step - loss: 0.9828 - accuracy: 0.9442\n",
      "Epoch 31/100\n",
      "5/5 [==============================] - 1s 225ms/step - loss: 0.9915 - accuracy: 0.9176\n",
      "Epoch 32/100\n",
      "5/5 [==============================] - 1s 227ms/step - loss: 0.9485 - accuracy: 0.9557\n",
      "Epoch 33/100\n",
      "5/5 [==============================] - 1s 229ms/step - loss: 0.9593 - accuracy: 0.9472\n",
      "Epoch 34/100\n",
      "5/5 [==============================] - 1s 228ms/step - loss: 0.9495 - accuracy: 0.9648\n",
      "Epoch 35/100\n",
      "5/5 [==============================] - 1s 234ms/step - loss: 0.9477 - accuracy: 0.9600\n",
      "Epoch 36/100\n",
      "5/5 [==============================] - 1s 230ms/step - loss: 0.9393 - accuracy: 0.9683\n",
      "Epoch 37/100\n",
      "5/5 [==============================] - 1s 230ms/step - loss: 0.9428 - accuracy: 0.9665\n",
      "Epoch 38/100\n",
      "5/5 [==============================] - 1s 243ms/step - loss: 0.9456 - accuracy: 0.9505\n",
      "Epoch 39/100\n",
      "5/5 [==============================] - 1s 230ms/step - loss: 0.9398 - accuracy: 0.9621\n",
      "Epoch 40/100\n",
      "5/5 [==============================] - 1s 227ms/step - loss: 0.9389 - accuracy: 0.9639\n",
      "Epoch 41/100\n",
      "5/5 [==============================] - 1s 229ms/step - loss: 0.9340 - accuracy: 0.9746\n",
      "Epoch 42/100\n",
      "5/5 [==============================] - 1s 235ms/step - loss: 0.9254 - accuracy: 0.9798\n",
      "Epoch 43/100\n",
      "5/5 [==============================] - 1s 230ms/step - loss: 0.9261 - accuracy: 0.9850\n",
      "Epoch 44/100\n",
      "5/5 [==============================] - 1s 237ms/step - loss: 0.9618 - accuracy: 0.9472\n",
      "Epoch 45/100\n",
      "5/5 [==============================] - 1s 240ms/step - loss: 0.9382 - accuracy: 0.9626\n",
      "Epoch 46/100\n",
      "5/5 [==============================] - 1s 233ms/step - loss: 0.9849 - accuracy: 0.9088\n",
      "Epoch 47/100\n",
      "5/5 [==============================] - 1s 229ms/step - loss: 0.9233 - accuracy: 0.9842\n",
      "Epoch 48/100\n",
      "5/5 [==============================] - 1s 224ms/step - loss: 0.9438 - accuracy: 0.9600\n",
      "Epoch 49/100\n",
      "5/5 [==============================] - 1s 224ms/step - loss: 0.9225 - accuracy: 0.9824\n",
      "Epoch 50/100\n",
      "5/5 [==============================] - 1s 230ms/step - loss: 0.9252 - accuracy: 0.9772\n",
      "Epoch 51/100\n",
      "5/5 [==============================] - 1s 237ms/step - loss: 0.9165 - accuracy: 0.9906\n",
      "Epoch 52/100\n",
      "5/5 [==============================] - 1s 226ms/step - loss: 0.9313 - accuracy: 0.9732\n",
      "Epoch 53/100\n",
      "5/5 [==============================] - 1s 232ms/step - loss: 0.9309 - accuracy: 0.9732\n",
      "Epoch 54/100\n",
      "5/5 [==============================] - 1s 235ms/step - loss: 0.9212 - accuracy: 0.9811\n",
      "Epoch 55/100\n",
      "5/5 [==============================] - 1s 225ms/step - loss: 0.9160 - accuracy: 0.9880\n",
      "Epoch 56/100\n",
      "5/5 [==============================] - 1s 236ms/step - loss: 0.9267 - accuracy: 0.9732\n",
      "Epoch 57/100\n",
      "5/5 [==============================] - 1s 232ms/step - loss: 0.9117 - accuracy: 0.9962\n",
      "Epoch 58/100\n",
      "5/5 [==============================] - 1s 232ms/step - loss: 0.9111 - accuracy: 0.9944\n",
      "Epoch 59/100\n",
      "5/5 [==============================] - 1s 231ms/step - loss: 0.9126 - accuracy: 0.9944\n",
      "Epoch 60/100\n",
      "5/5 [==============================] - 1s 241ms/step - loss: 0.9119 - accuracy: 0.9944\n",
      "Epoch 61/100\n",
      "5/5 [==============================] - 1s 229ms/step - loss: 0.9184 - accuracy: 0.9866\n",
      "Epoch 62/100\n",
      "5/5 [==============================] - 1s 227ms/step - loss: 0.9139 - accuracy: 0.9918\n",
      "Epoch 63/100\n",
      "5/5 [==============================] - 1s 232ms/step - loss: 0.9092 - accuracy: 0.9962\n",
      "Epoch 64/100\n",
      "5/5 [==============================] - 1s 234ms/step - loss: 0.9107 - accuracy: 0.9944\n",
      "Epoch 65/100\n",
      "5/5 [==============================] - 1s 230ms/step - loss: 0.9088 - accuracy: 0.9962\n",
      "Epoch 66/100\n",
      "5/5 [==============================] - 1s 228ms/step - loss: 0.9135 - accuracy: 0.9918\n",
      "Epoch 67/100\n",
      "5/5 [==============================] - 1s 225ms/step - loss: 0.9111 - accuracy: 0.9944\n",
      "Epoch 68/100\n",
      "5/5 [==============================] - 1s 227ms/step - loss: 0.9132 - accuracy: 0.9918\n",
      "Epoch 69/100\n",
      "5/5 [==============================] - 1s 234ms/step - loss: 0.9178 - accuracy: 0.9866\n",
      "Epoch 70/100\n",
      "5/5 [==============================] - 1s 223ms/step - loss: 0.9077 - accuracy: 0.9975\n",
      "Epoch 71/100\n",
      "5/5 [==============================] - 1s 224ms/step - loss: 0.9124 - accuracy: 0.9944\n",
      "Epoch 72/100\n",
      "5/5 [==============================] - 1s 229ms/step - loss: 0.9190 - accuracy: 0.9866\n",
      "Epoch 73/100\n",
      "5/5 [==============================] - 1s 228ms/step - loss: 0.9186 - accuracy: 0.9866\n",
      "Epoch 74/100\n",
      "5/5 [==============================] - 1s 227ms/step - loss: 0.9108 - accuracy: 0.9944\n",
      "Epoch 75/100\n",
      "5/5 [==============================] - 1s 240ms/step - loss: 0.9204 - accuracy: 0.9866\n",
      "Epoch 76/100\n",
      "5/5 [==============================] - 1s 229ms/step - loss: 0.9185 - accuracy: 0.9866\n",
      "Epoch 77/100\n",
      "5/5 [==============================] - 1s 240ms/step - loss: 0.9191 - accuracy: 0.9866\n",
      "Epoch 78/100\n",
      "5/5 [==============================] - 1s 239ms/step - loss: 0.9142 - accuracy: 0.9918\n",
      "Epoch 79/100\n",
      "5/5 [==============================] - 1s 241ms/step - loss: 0.9110 - accuracy: 0.9944\n",
      "Epoch 80/100\n",
      "5/5 [==============================] - 1s 224ms/step - loss: 0.9109 - accuracy: 0.9944\n",
      "Epoch 81/100\n",
      "5/5 [==============================] - 1s 223ms/step - loss: 0.9134 - accuracy: 0.9918\n",
      "Epoch 82/100\n",
      "5/5 [==============================] - 1s 224ms/step - loss: 0.9090 - accuracy: 0.9962\n",
      "Epoch 83/100\n",
      "5/5 [==============================] - 1s 227ms/step - loss: 0.9132 - accuracy: 0.9918\n",
      "Epoch 84/100\n",
      "5/5 [==============================] - 1s 229ms/step - loss: 0.9090 - accuracy: 0.9962\n",
      "Epoch 85/100\n",
      "5/5 [==============================] - 1s 231ms/step - loss: 0.9133 - accuracy: 0.9918\n",
      "Epoch 86/100\n",
      "5/5 [==============================] - 1s 232ms/step - loss: 0.9091 - accuracy: 0.9962\n",
      "Epoch 87/100\n",
      "5/5 [==============================] - 1s 238ms/step - loss: 0.9131 - accuracy: 0.9918\n",
      "Epoch 88/100\n",
      "5/5 [==============================] - 1s 239ms/step - loss: 0.9107 - accuracy: 0.9944\n",
      "Epoch 89/100\n",
      "5/5 [==============================] - 1s 239ms/step - loss: 0.9174 - accuracy: 0.9866\n",
      "Epoch 90/100\n",
      "5/5 [==============================] - 1s 241ms/step - loss: 0.9087 - accuracy: 0.9962\n",
      "Epoch 91/100\n",
      "5/5 [==============================] - 1s 228ms/step - loss: 0.9177 - accuracy: 0.9866\n",
      "Epoch 92/100\n",
      "5/5 [==============================] - 1s 232ms/step - loss: 0.9185 - accuracy: 0.9866\n",
      "Epoch 93/100\n",
      "5/5 [==============================] - 1s 237ms/step - loss: 0.9175 - accuracy: 0.9866\n",
      "Epoch 94/100\n",
      "5/5 [==============================] - 1s 228ms/step - loss: 0.9128 - accuracy: 0.9918\n",
      "Epoch 95/100\n",
      "5/5 [==============================] - 1s 226ms/step - loss: 0.9179 - accuracy: 0.9866\n",
      "Epoch 96/100\n",
      "5/5 [==============================] - 1s 234ms/step - loss: 0.9133 - accuracy: 0.9918\n",
      "Epoch 97/100\n",
      "5/5 [==============================] - 1s 223ms/step - loss: 0.9077 - accuracy: 0.9975\n",
      "Epoch 98/100\n",
      "5/5 [==============================] - 1s 224ms/step - loss: 0.9076 - accuracy: 0.9975\n",
      "Epoch 99/100\n",
      "5/5 [==============================] - 1s 227ms/step - loss: 0.9091 - accuracy: 0.9962\n",
      "Epoch 100/100\n",
      "5/5 [==============================] - 1s 225ms/step - loss: 0.9133 - accuracy: 0.9918\n"
     ]
    },
    {
     "data": {
      "text/plain": [
       "<keras.callbacks.History at 0x7f2fe2956190>"
      ]
     },
     "execution_count": 12,
     "metadata": {
      "tags": []
     },
     "output_type": "execute_result"
    }
   ],
   "source": [
    "model = sentiment_analysis((maxLen,), word_to_vec_map_, word_to_index_)\n",
    "model.summary()\n",
    "model.compile(loss='categorical_crossentropy', optimizer='adam', metrics=['accuracy'])\n",
    "\n",
    "X_train_indices = sentences_to_indices(X_train, word_to_index_, maxLen)\n",
    "Y_train_oh = convert_to_one_hot(Y_train, 5)\n",
    "\n",
    "model.fit(X_train_indices, Y_train_oh, epochs=100, batch_size=32, shuffle=True)"
   ]
  },
  {
   "cell_type": "markdown",
   "metadata": {
    "id": "4JPcTqVhAgsX"
   },
   "source": [
    "##### Тестирање на моделот со test податоците"
   ]
  },
  {
   "cell_type": "code",
   "execution_count": 13,
   "metadata": {
    "colab": {
     "base_uri": "https://localhost:8080/"
    },
    "id": "z-0mnqnT_5Ww",
    "outputId": "0ab6039f-25d3-485f-c4da-003e53f53359"
   },
   "outputs": [
    {
     "name": "stdout",
     "output_type": "stream",
     "text": [
      "2/2 [==============================] - 1s 16ms/step - loss: 1.1351 - accuracy: 0.7679\n",
      "\n",
      "Accuracy  0.7678571343421936\n"
     ]
    }
   ],
   "source": [
    "X_test_indices = sentences_to_indices(X_test, word_to_index_, max_len=maxLen)\n",
    "Y_test_oh = convert_to_one_hot(Y_test, 5)\n",
    "\n",
    "loss, acc = model.evaluate(X_test_indices, Y_test_oh)\n",
    "print()\n",
    "print(\"Accuracy \", acc)"
   ]
  },
  {
   "cell_type": "markdown",
   "metadata": {
    "id": "l1DPMvPO7tNj"
   },
   "source": [
    "##### Преглед на влезовите кои се грешно предвидени и дополнителни метрики за евалуација"
   ]
  },
  {
   "cell_type": "code",
   "execution_count": 14,
   "metadata": {
    "colab": {
     "base_uri": "https://localhost:8080/"
    },
    "id": "2aj86ce1oNuZ",
    "outputId": "2a1bd0e5-001d-4081-c173-79786e20f457"
   },
   "outputs": [
    {
     "name": "stdout",
     "output_type": "stream",
     "text": [
      "Input: he got a very nice raise\n",
      "Expected class: 2\n",
      "Predicted class: 0\n",
      "\n",
      "Input: she got me a nice present\n",
      "Expected class: 2\n",
      "Predicted class: 0\n",
      "\n",
      "Input: he is a good friend\n",
      "Expected class: 2\n",
      "Predicted class: 0\n",
      "\n",
      "Input: Stop making this joke ha ha ha\n",
      "Expected class: 2\n",
      "Predicted class: 3\n",
      "\n",
      "Input: any suggestions for dinner\n",
      "Expected class: 4\n",
      "Predicted class: 2\n",
      "\n",
      "Input: you brighten my day\n",
      "Expected class: 2\n",
      "Predicted class: 0\n",
      "\n",
      "Input: she is a bully\n",
      "Expected class: 3\n",
      "Predicted class: 0\n",
      "\n",
      "Input: will you be my valentine\n",
      "Expected class: 2\n",
      "Predicted class: 3\n",
      "\n",
      "Input: he can pitch really well\n",
      "Expected class: 1\n",
      "Predicted class: 3\n",
      "\n",
      "Input: See you at the restaurant\n",
      "Expected class: 4\n",
      "Predicted class: 1\n",
      "\n",
      "Input: What you did was awesome\n",
      "Expected class: 2\n",
      "Predicted class: 3\n",
      "\n",
      "Input: go away\n",
      "Expected class: 3\n",
      "Predicted class: 1\n",
      "\n",
      "Input: I did not have breakfast\n",
      "Expected class: 4\n",
      "Predicted class: 0\n",
      "\n"
     ]
    }
   ],
   "source": [
    "y_test_oh = np.eye(5)[Y_test.reshape(-1)]\n",
    "X_test_indices = sentences_to_indices(X_test, word_to_index_, maxLen)\n",
    "pred = model.predict(X_test_indices)\n",
    "\n",
    "actual = []\n",
    "predicted = []\n",
    "\n",
    "for i in range(len(X_test)):\n",
    "    x = X_test_indices\n",
    "    num = np.argmax(pred[i])\n",
    "\n",
    "    actual.append(Y_test[i])\n",
    "    predicted.append(num)\n",
    "\n",
    "    if num != Y_test[i]:\n",
    "        print('Input: ' + str(X_test[i]))\n",
    "        print('Expected class: ' + str(Y_test[i]))\n",
    "        print('Predicted class: ' + str(num) + '\\n')\n",
    "\n",
    "precision = precision_score(actual, predicted, average='macro')\n",
    "recall = recall_score(actual, predicted, average='macro')\n",
    "f1_score = f1_score(actual, predicted, average='macro')\n",
    "loss = log_loss(actual, pred, eps=1e-15)\n",
    "matrix = classification_report(actual, predicted, labels=[0, 1, 2, 3, 4])"
   ]
  },
  {
   "cell_type": "markdown",
   "metadata": {
    "id": "vyV_vNZ5PpaQ"
   },
   "source": [
    "##### Тестирање на моделот со влезови од корисник"
   ]
  },
  {
   "cell_type": "code",
   "execution_count": 15,
   "metadata": {
    "colab": {
     "base_uri": "https://localhost:8080/"
    },
    "id": "Fv1e3n5WPqB4",
    "outputId": "517efc40-f96e-4480-9051-797bc5af5a41"
   },
   "outputs": [
    {
     "name": "stdout",
     "output_type": "stream",
     "text": [
      "Input: very happy\n",
      "Predicted class: 2\n",
      "\n"
     ]
    }
   ],
   "source": [
    "x_test = np.array(['very happy'])\n",
    "X_test_indices = sentences_to_indices(x_test, word_to_index_, maxLen)\n",
    "print('Input: ' + x_test[0])\n",
    "print('Predicted class: ' + str(np.argmax(model.predict(X_test_indices))) + '\\n')"
   ]
  },
  {
   "cell_type": "code",
   "execution_count": 16,
   "metadata": {
    "colab": {
     "base_uri": "https://localhost:8080/"
    },
    "id": "4MPvk4NyX_-8",
    "outputId": "ed13d846-db1b-45b8-b5ac-e81e78626313"
   },
   "outputs": [
    {
     "name": "stdout",
     "output_type": "stream",
     "text": [
      "Input: very sad\n",
      "Predicted class: 3\n",
      "\n"
     ]
    }
   ],
   "source": [
    "x_test = np.array(['very sad'])\n",
    "X_test_indices = sentences_to_indices(x_test, word_to_index_, maxLen)\n",
    "print('Input: ' + x_test[0])\n",
    "print('Predicted class: ' + str(np.argmax(model.predict(X_test_indices))) + '\\n')"
   ]
  },
  {
   "cell_type": "code",
   "execution_count": 17,
   "metadata": {
    "colab": {
     "base_uri": "https://localhost:8080/"
    },
    "id": "2VWMmOOMhbsv",
    "outputId": "bd33edd0-99a3-412d-b08e-f2a4539255dc"
   },
   "outputs": [
    {
     "name": "stdout",
     "output_type": "stream",
     "text": [
      "Input: i am starving\n",
      "Predicted class: 0\n",
      "\n"
     ]
    }
   ],
   "source": [
    "x_test = np.array(['i am starving'])\n",
    "X_test_indices = sentences_to_indices(x_test, word_to_index_, maxLen)\n",
    "print('Input: ' + x_test[0])\n",
    "print('Predicted class: ' + str(np.argmax(model.predict(X_test_indices))) + '\\n')"
   ]
  },
  {
   "cell_type": "code",
   "execution_count": 18,
   "metadata": {
    "colab": {
     "base_uri": "https://localhost:8080/"
    },
    "id": "--XHyS-HiwAR",
    "outputId": "3dce4ec8-c123-4ed8-fe3e-81293fb6f38c"
   },
   "outputs": [
    {
     "name": "stdout",
     "output_type": "stream",
     "text": [
      "Input: I have met the love of my life\n",
      "Predicted class: 0\n",
      "\n"
     ]
    }
   ],
   "source": [
    "x_test = np.array(['I have met the love of my life'])\n",
    "X_test_indices = sentences_to_indices(x_test, word_to_index_, maxLen)\n",
    "print('Input: ' + x_test[0])\n",
    "print('Predicted class: ' + str(np.argmax(model.predict(X_test_indices))) + '\\n')"
   ]
  },
  {
   "cell_type": "markdown",
   "metadata": {
    "id": "mv7YmEv70eg0"
   },
   "source": [
    "##### Приказ на мерките за успешност на моделот"
   ]
  },
  {
   "cell_type": "code",
   "execution_count": 19,
   "metadata": {
    "colab": {
     "base_uri": "https://localhost:8080/"
    },
    "id": "UtmkZ3_Y0lhA",
    "outputId": "f046fb58-a7be-479a-bc54-11bc8ff22390"
   },
   "outputs": [
    {
     "name": "stdout",
     "output_type": "stream",
     "text": [
      "Accuracy: 0.7678571343421936\n"
     ]
    }
   ],
   "source": [
    "print('Accuracy: {0}'.format(str(acc)))"
   ]
  },
  {
   "cell_type": "code",
   "execution_count": 20,
   "metadata": {
    "colab": {
     "base_uri": "https://localhost:8080/"
    },
    "id": "XG20SokF0s3j",
    "outputId": "8d61899c-9070-4e56-88c6-821e5c2f1700"
   },
   "outputs": [
    {
     "name": "stdout",
     "output_type": "stream",
     "text": [
      "Log loss: 1.1351069776075227\n"
     ]
    }
   ],
   "source": [
    "print('Log loss: {0}'.format(loss))"
   ]
  },
  {
   "cell_type": "code",
   "execution_count": 21,
   "metadata": {
    "colab": {
     "base_uri": "https://localhost:8080/"
    },
    "id": "XpgvVOnS2L6k",
    "outputId": "a353ecf8-282b-48fe-ca0b-3e228547a953"
   },
   "outputs": [
    {
     "name": "stdout",
     "output_type": "stream",
     "text": [
      "Precision: 0.8021367521367522\n"
     ]
    }
   ],
   "source": [
    "print('Precision: {0}'.format(precision))"
   ]
  },
  {
   "cell_type": "code",
   "execution_count": 22,
   "metadata": {
    "colab": {
     "base_uri": "https://localhost:8080/"
    },
    "id": "QIVQf9uU3AE8",
    "outputId": "71fd2c1f-345e-4d5b-dfd9-7a84eb5e11ec"
   },
   "outputs": [
    {
     "name": "stdout",
     "output_type": "stream",
     "text": [
      "Recall: 0.7865079365079366\n"
     ]
    }
   ],
   "source": [
    "print('Recall: {0}'.format(recall))"
   ]
  },
  {
   "cell_type": "code",
   "execution_count": 23,
   "metadata": {
    "colab": {
     "base_uri": "https://localhost:8080/"
    },
    "id": "mpE7P4v73EKj",
    "outputId": "ce60a352-1c6b-4470-9dc7-6399348141be"
   },
   "outputs": [
    {
     "name": "stdout",
     "output_type": "stream",
     "text": [
      "F1 score: 0.7615329768270944\n"
     ]
    }
   ],
   "source": [
    "print('F1 score: {0}'.format(f1_score))"
   ]
  },
  {
   "cell_type": "code",
   "execution_count": 24,
   "metadata": {
    "colab": {
     "base_uri": "https://localhost:8080/"
    },
    "id": "y4KuKrS01tb1",
    "outputId": "870f9c69-d73b-492d-da9b-9f13f4a8a1bf"
   },
   "outputs": [
    {
     "name": "stdout",
     "output_type": "stream",
     "text": [
      "Classification report: \n",
      "              precision    recall  f1-score   support\n",
      "\n",
      "           0       0.54      1.00      0.70         7\n",
      "           1       0.78      0.88      0.82         8\n",
      "           2       0.92      0.61      0.73        18\n",
      "           3       0.78      0.88      0.82        16\n",
      "           4       1.00      0.57      0.73         7\n",
      "\n",
      "    accuracy                           0.77        56\n",
      "   macro avg       0.80      0.79      0.76        56\n",
      "weighted avg       0.82      0.77      0.77        56\n",
      "\n"
     ]
    }
   ],
   "source": [
    "print('Classification report: \\n{0}'.format(matrix))"
   ]
  }
 ],
 "metadata": {
  "colab": {
   "collapsed_sections": [
    "xBj5aWGiu6_l",
    "hpsI7BGbqcdF",
    "cUyUkoFOqiJy",
    "qhq0VFhiwnLR",
    "4PlJnLBy4CSM",
    "8bExuG7-2htJ",
    "2KZmxp1w4Q5Y",
    "CXvyQLHL2Evi",
    "CsD4Sovc46uL",
    "o7GFsn4n6jqU",
    "8hr-CMTV6lza",
    "5Lbykyvx6nrH",
    "2Q2kXbBw664E",
    "pWM3y3237p-o",
    "4JPcTqVhAgsX",
    "l1DPMvPO7tNj",
    "vyV_vNZ5PpaQ"
   ],
   "name": "is-code.ipynb",
   "provenance": [],
   "toc_visible": true
  },
  "kernelspec": {
   "display_name": "Python 3",
   "name": "python3"
  },
  "language_info": {
   "codemirror_mode": {
    "name": "ipython",
    "version": 3
   },
   "file_extension": ".py",
   "mimetype": "text/x-python",
   "name": "python",
   "nbconvert_exporter": "python",
   "pygments_lexer": "ipython3",
   "version": "3.9.5"
  }
 },
 "nbformat": 4,
 "nbformat_minor": 0
}