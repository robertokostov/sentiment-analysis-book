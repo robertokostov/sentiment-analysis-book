{
 "cells": [
  {
   "cell_type": "markdown",
   "metadata": {
    "id": "tRdpRtTSe3EH"
   },
   "source": [
    "### [Линк](https://colab.research.google.com/drive/1mguVQuMEn2mIfISPCf4I9P6rvjNAK2ub?usp=sharing) до самиот Notebook"
   ]
  },
  {
   "cell_type": "markdown",
   "metadata": {
    "id": "xBj5aWGiu6_l"
   },
   "source": [
    "### Вовед"
   ]
  },
  {
   "cell_type": "markdown",
   "metadata": {
    "id": "hpsI7BGbqcdF"
   },
   "source": [
    "#### Import на библиотеките кои се користат во кодот"
   ]
  },
  {
   "cell_type": "code",
   "execution_count": 1,
   "metadata": {
    "id": "h7vYNpukGweH"
   },
   "outputs": [],
   "source": [
    "from keras.models import Model\n",
    "from keras.layers import Dense, Input, Dropout, LSTM, Activation\n",
    "from keras.layers.embeddings import Embedding\n",
    "from sklearn.metrics import classification_report, f1_score, log_loss, precision_score, recall_score\n",
    "\n",
    "import csv\n",
    "import matplotlib.pyplot as plt\n",
    "import numpy as np\n",
    "import pandas as pd\n",
    "\n",
    "np.random.seed(1)"
   ]
  },
  {
   "cell_type": "markdown",
   "metadata": {
    "id": "cUyUkoFOqiJy"
   },
   "source": [
    "#### Симнување на glove векторите за репрезентација на зборови"
   ]
  },
  {
   "cell_type": "code",
   "execution_count": 2,
   "metadata": {
    "colab": {
     "base_uri": "https://localhost:8080/"
    },
    "id": "-dknM0a2mUvr",
    "outputId": "d1841b1d-332d-4051-c9cb-ce4f696185ad"
   },
   "outputs": [
    {
     "name": "stdout",
     "output_type": "stream",
     "text": [
      "--2021-06-10 21:04:38--  http://nlp.stanford.edu/data/glove.6B.zip\r\n",
      "Resolving nlp.stanford.edu (nlp.stanford.edu)... "
     ]
    },
    {
     "name": "stdout",
     "output_type": "stream",
     "text": [
      "171.64.67.140\r\n",
      "Connecting to nlp.stanford.edu (nlp.stanford.edu)|171.64.67.140|:80... "
     ]
    },
    {
     "name": "stdout",
     "output_type": "stream",
     "text": [
      "connected.\r\n",
      "HTTP request sent, awaiting response... "
     ]
    },
    {
     "name": "stdout",
     "output_type": "stream",
     "text": [
      "302 Found\r\n",
      "Location: https://nlp.stanford.edu/data/glove.6B.zip [following]\r\n",
      "--2021-06-10 21:04:38--  https://nlp.stanford.edu/data/glove.6B.zip\r\n"
     ]
    },
    {
     "name": "stdout",
     "output_type": "stream",
     "text": [
      "Loaded CA certificate '/etc/ssl/certs/ca-certificates.crt'\r\n",
      "Connecting to nlp.stanford.edu (nlp.stanford.edu)|171.64.67.140|:443... "
     ]
    },
    {
     "name": "stdout",
     "output_type": "stream",
     "text": [
      "connected.\r\n"
     ]
    },
    {
     "name": "stdout",
     "output_type": "stream",
     "text": [
      "HTTP request sent, awaiting response... "
     ]
    },
    {
     "name": "stdout",
     "output_type": "stream",
     "text": [
      "301 Moved Permanently\r\n",
      "Location: http://downloads.cs.stanford.edu/nlp/data/glove.6B.zip [following]\r\n",
      "--2021-06-10 21:04:39--  http://downloads.cs.stanford.edu/nlp/data/glove.6B.zip\r\n",
      "Resolving downloads.cs.stanford.edu (downloads.cs.stanford.edu)... "
     ]
    },
    {
     "name": "stdout",
     "output_type": "stream",
     "text": [
      "171.64.64.22\r\n",
      "Connecting to downloads.cs.stanford.edu (downloads.cs.stanford.edu)|171.64.64.22|:80... "
     ]
    },
    {
     "name": "stdout",
     "output_type": "stream",
     "text": [
      "connected.\r\n",
      "HTTP request sent, awaiting response... "
     ]
    },
    {
     "name": "stdout",
     "output_type": "stream",
     "text": [
      "200 OK\r\n",
      "Length: 862182613 (822M) [application/zip]\r\n",
      "Saving to: 'glove.6B.zip'\r\n",
      "\r\n",
      "\r",
      "glove.6B.zip          0%[                    ]       0  --.-KB/s               "
     ]
    },
    {
     "name": "stdout",
     "output_type": "stream",
     "text": [
      "\r",
      "glove.6B.zip          0%[                    ]  43.58K   112KB/s               "
     ]
    },
    {
     "name": "stdout",
     "output_type": "stream",
     "text": [
      "\r",
      "glove.6B.zip          0%[                    ] 102.97K   165KB/s               "
     ]
    },
    {
     "name": "stdout",
     "output_type": "stream",
     "text": [
      "\r",
      "glove.6B.zip          0%[                    ] 270.76K   329KB/s               "
     ]
    },
    {
     "name": "stdout",
     "output_type": "stream",
     "text": [
      "\r",
      "glove.6B.zip          0%[                    ] 456.00K   445KB/s               "
     ]
    },
    {
     "name": "stdout",
     "output_type": "stream",
     "text": [
      "\r",
      "glove.6B.zip          0%[                    ] 828.34K   676KB/s               "
     ]
    },
    {
     "name": "stdout",
     "output_type": "stream",
     "text": [
      "\r",
      "glove.6B.zip          0%[                    ]   1.56M   835KB/s               "
     ]
    },
    {
     "name": "stdout",
     "output_type": "stream",
     "text": [
      "\r",
      "glove.6B.zip          0%[                    ]   2.73M  1.26MB/s               "
     ]
    },
    {
     "name": "stdout",
     "output_type": "stream",
     "text": [
      "\r",
      "glove.6B.zip          0%[                    ]   3.66M  1.55MB/s               "
     ]
    },
    {
     "name": "stdout",
     "output_type": "stream",
     "text": [
      "\r",
      "glove.6B.zip          0%[                    ]   4.06M  1.53MB/s               "
     ]
    },
    {
     "name": "stdout",
     "output_type": "stream",
     "text": [
      "\r",
      "glove.6B.zip          0%[                    ]   5.57M  1.95MB/s               "
     ]
    },
    {
     "name": "stdout",
     "output_type": "stream",
     "text": [
      "\r",
      "glove.6B.zip          0%[                    ]   6.39M  2.09MB/s    eta 6m 30s "
     ]
    },
    {
     "name": "stdout",
     "output_type": "stream",
     "text": [
      "\r",
      "glove.6B.zip          0%[                    ]   7.21M  2.21MB/s    eta 6m 30s "
     ]
    },
    {
     "name": "stdout",
     "output_type": "stream",
     "text": [
      "\r",
      "glove.6B.zip          0%[                    ]   8.06M  2.33MB/s    eta 6m 30s "
     ]
    },
    {
     "name": "stdout",
     "output_type": "stream",
     "text": [
      "\r",
      "glove.6B.zip          1%[                    ]   8.92M  2.44MB/s    eta 6m 30s "
     ]
    },
    {
     "name": "stdout",
     "output_type": "stream",
     "text": [
      "\r",
      "glove.6B.zip          1%[                    ]   9.79M  2.54MB/s    eta 6m 30s "
     ]
    },
    {
     "name": "stdout",
     "output_type": "stream",
     "text": [
      "\r",
      "glove.6B.zip          1%[                    ]  10.66M  2.63MB/s    eta 5m 9s  "
     ]
    },
    {
     "name": "stdout",
     "output_type": "stream",
     "text": [
      "\r",
      "glove.6B.zip          1%[                    ]  11.52M  2.71MB/s    eta 5m 9s  "
     ]
    },
    {
     "name": "stdout",
     "output_type": "stream",
     "text": [
      "\r",
      "glove.6B.zip          1%[                    ]  12.42M  2.90MB/s    eta 5m 9s  "
     ]
    },
    {
     "name": "stdout",
     "output_type": "stream",
     "text": [
      "\r",
      "glove.6B.zip          1%[                    ]  13.32M  3.24MB/s    eta 5m 9s  "
     ]
    },
    {
     "name": "stdout",
     "output_type": "stream",
     "text": [
      "\r",
      "glove.6B.zip          1%[                    ]  14.22M  3.42MB/s    eta 5m 9s  "
     ]
    },
    {
     "name": "stdout",
     "output_type": "stream",
     "text": [
      "\r",
      "glove.6B.zip          1%[                    ]  15.15M  3.64MB/s    eta 4m 30s "
     ]
    },
    {
     "name": "stdout",
     "output_type": "stream",
     "text": [
      "\r",
      "glove.6B.zip          1%[                    ]  16.09M  4.33MB/s    eta 4m 30s "
     ]
    },
    {
     "name": "stdout",
     "output_type": "stream",
     "text": [
      "\r",
      "glove.6B.zip          2%[                    ]  17.02M  4.32MB/s    eta 4m 30s "
     ]
    },
    {
     "name": "stdout",
     "output_type": "stream",
     "text": [
      "\r",
      "glove.6B.zip          2%[                    ]  17.94M  4.30MB/s    eta 4m 30s "
     ]
    },
    {
     "name": "stdout",
     "output_type": "stream",
     "text": [
      "\r",
      "glove.6B.zip          2%[                    ]  18.84M  4.59MB/s    eta 4m 30s "
     ]
    },
    {
     "name": "stdout",
     "output_type": "stream",
     "text": [
      "\r",
      "glove.6B.zip          2%[                    ]  19.78M  4.38MB/s    eta 4m 6s  "
     ]
    },
    {
     "name": "stdout",
     "output_type": "stream",
     "text": [
      "\r",
      "glove.6B.zip          2%[                    ]  20.69M  4.43MB/s    eta 4m 6s  "
     ]
    },
    {
     "name": "stdout",
     "output_type": "stream",
     "text": [
      "\r",
      "glove.6B.zip          2%[                    ]  21.61M  4.46MB/s    eta 4m 6s  "
     ]
    },
    {
     "name": "stdout",
     "output_type": "stream",
     "text": [
      "\r",
      "glove.6B.zip          2%[                    ]  22.57M  4.48MB/s    eta 4m 6s  "
     ]
    },
    {
     "name": "stdout",
     "output_type": "stream",
     "text": [
      "\r",
      "glove.6B.zip          2%[                    ]  23.49M  4.51MB/s    eta 4m 6s  "
     ]
    },
    {
     "name": "stdout",
     "output_type": "stream",
     "text": [
      "\r",
      "glove.6B.zip          2%[                    ]  24.45M  4.55MB/s    eta 3m 51s "
     ]
    },
    {
     "name": "stdout",
     "output_type": "stream",
     "text": [
      "\r",
      "glove.6B.zip          3%[                    ]  25.40M  4.58MB/s    eta 3m 51s "
     ]
    },
    {
     "name": "stdout",
     "output_type": "stream",
     "text": [
      "\r",
      "glove.6B.zip          3%[                    ]  25.91M  4.44MB/s    eta 3m 51s "
     ]
    },
    {
     "name": "stdout",
     "output_type": "stream",
     "text": [
      "\r",
      "glove.6B.zip          3%[                    ]  26.56M  4.31MB/s    eta 3m 51s "
     ]
    },
    {
     "name": "stdout",
     "output_type": "stream",
     "text": [
      "\r",
      "glove.6B.zip          3%[                    ]  28.08M  4.50MB/s    eta 3m 51s "
     ]
    },
    {
     "name": "stdout",
     "output_type": "stream",
     "text": [
      "\r",
      "glove.6B.zip          3%[                    ]  28.79M  4.42MB/s    eta 3m 45s "
     ]
    },
    {
     "name": "stdout",
     "output_type": "stream",
     "text": [
      "\r",
      "glove.6B.zip          3%[                    ]  29.51M  4.36MB/s    eta 3m 45s "
     ]
    },
    {
     "name": "stdout",
     "output_type": "stream",
     "text": [
      "\r",
      "glove.6B.zip          3%[                    ]  30.16M  4.31MB/s    eta 3m 45s "
     ]
    },
    {
     "name": "stdout",
     "output_type": "stream",
     "text": [
      "\r",
      "glove.6B.zip          3%[                    ]  30.86M  4.24MB/s    eta 3m 45s "
     ]
    },
    {
     "name": "stdout",
     "output_type": "stream",
     "text": [
      "\r",
      "glove.6B.zip          3%[                    ]  31.61M  4.26MB/s    eta 3m 45s "
     ]
    },
    {
     "name": "stdout",
     "output_type": "stream",
     "text": [
      "\r",
      "glove.6B.zip          3%[                    ]  32.36M  4.18MB/s    eta 3m 44s "
     ]
    },
    {
     "name": "stdout",
     "output_type": "stream",
     "text": [
      "\r",
      "glove.6B.zip          4%[                    ]  33.12M  4.09MB/s    eta 3m 44s "
     ]
    },
    {
     "name": "stdout",
     "output_type": "stream",
     "text": [
      "\r",
      "glove.6B.zip          4%[                    ]  33.88M  4.08MB/s    eta 3m 44s "
     ]
    },
    {
     "name": "stdout",
     "output_type": "stream",
     "text": [
      "\r",
      "glove.6B.zip          4%[                    ]  34.62M  4.03MB/s    eta 3m 44s "
     ]
    },
    {
     "name": "stdout",
     "output_type": "stream",
     "text": [
      "\r",
      "glove.6B.zip          4%[                    ]  35.14M  3.88MB/s    eta 3m 44s "
     ]
    },
    {
     "name": "stdout",
     "output_type": "stream",
     "text": [
      "\r",
      "glove.6B.zip          4%[                    ]  35.86M  3.80MB/s    eta 3m 43s "
     ]
    },
    {
     "name": "stdout",
     "output_type": "stream",
     "text": [
      "\r",
      "glove.6B.zip          4%[                    ]  36.63M  3.81MB/s    eta 3m 43s "
     ]
    },
    {
     "name": "stdout",
     "output_type": "stream",
     "text": [
      "\r",
      "glove.6B.zip          4%[                    ]  37.44M  3.79MB/s    eta 3m 43s "
     ]
    },
    {
     "name": "stdout",
     "output_type": "stream",
     "text": [
      "\r",
      "glove.6B.zip          4%[                    ]  38.26M  3.74MB/s    eta 3m 43s "
     ]
    },
    {
     "name": "stdout",
     "output_type": "stream",
     "text": [
      "\r",
      "glove.6B.zip          4%[                    ]  39.03M  3.69MB/s    eta 3m 43s "
     ]
    },
    {
     "name": "stdout",
     "output_type": "stream",
     "text": [
      "\r",
      "glove.6B.zip          4%[                    ]  39.78M  3.79MB/s    eta 3m 40s "
     ]
    },
    {
     "name": "stdout",
     "output_type": "stream",
     "text": [
      "\r",
      "glove.6B.zip          4%[                    ]  40.53M  3.68MB/s    eta 3m 40s "
     ]
    },
    {
     "name": "stdout",
     "output_type": "stream",
     "text": [
      "\r",
      "glove.6B.zip          5%[>                   ]  41.23M  3.68MB/s    eta 3m 40s "
     ]
    },
    {
     "name": "stdout",
     "output_type": "stream",
     "text": [
      "\r",
      "glove.6B.zip          5%[>                   ]  42.04M  3.71MB/s    eta 3m 40s "
     ]
    },
    {
     "name": "stdout",
     "output_type": "stream",
     "text": [
      "\r",
      "glove.6B.zip          5%[>                   ]  42.84M  3.74MB/s    eta 3m 40s "
     ]
    },
    {
     "name": "stdout",
     "output_type": "stream",
     "text": [
      "\r",
      "glove.6B.zip          5%[>                   ]  43.64M  3.72MB/s    eta 3m 37s "
     ]
    },
    {
     "name": "stdout",
     "output_type": "stream",
     "text": [
      "\r",
      "glove.6B.zip          5%[>                   ]  44.44M  3.76MB/s    eta 3m 37s "
     ]
    },
    {
     "name": "stdout",
     "output_type": "stream",
     "text": [
      "\r",
      "glove.6B.zip          5%[>                   ]  45.27M  3.82MB/s    eta 3m 37s "
     ]
    },
    {
     "name": "stdout",
     "output_type": "stream",
     "text": [
      "\r",
      "glove.6B.zip          5%[>                   ]  46.08M  3.83MB/s    eta 3m 37s "
     ]
    },
    {
     "name": "stdout",
     "output_type": "stream",
     "text": [
      "\r",
      "glove.6B.zip          5%[>                   ]  46.40M  3.68MB/s    eta 3m 37s "
     ]
    },
    {
     "name": "stdout",
     "output_type": "stream",
     "text": [
      "\r",
      "glove.6B.zip          5%[>                   ]  47.21M  3.60MB/s    eta 3m 38s "
     ]
    },
    {
     "name": "stdout",
     "output_type": "stream",
     "text": [
      "\r",
      "glove.6B.zip          5%[>                   ]  48.01M  3.53MB/s    eta 3m 38s "
     ]
    },
    {
     "name": "stdout",
     "output_type": "stream",
     "text": [
      "\r",
      "glove.6B.zip          5%[>                   ]  48.82M  3.51MB/s    eta 3m 38s "
     ]
    },
    {
     "name": "stdout",
     "output_type": "stream",
     "text": [
      "\r",
      "glove.6B.zip          6%[>                   ]  49.62M  3.52MB/s    eta 3m 38s "
     ]
    },
    {
     "name": "stdout",
     "output_type": "stream",
     "text": [
      "\r",
      "glove.6B.zip          6%[>                   ]  50.43M  3.44MB/s    eta 3m 41s "
     ]
    },
    {
     "name": "stdout",
     "output_type": "stream",
     "text": [
      "\r",
      "glove.6B.zip          6%[>                   ]  51.24M  3.44MB/s    eta 3m 41s "
     ]
    },
    {
     "name": "stdout",
     "output_type": "stream",
     "text": [
      "\r",
      "glove.6B.zip          6%[>                   ]  52.04M  3.43MB/s    eta 3m 41s "
     ]
    },
    {
     "name": "stdout",
     "output_type": "stream",
     "text": [
      "\r",
      "glove.6B.zip          6%[>                   ]  52.85M  3.35MB/s    eta 3m 41s "
     ]
    },
    {
     "name": "stdout",
     "output_type": "stream",
     "text": [
      "\r",
      "glove.6B.zip          6%[>                   ]  53.66M  3.34MB/s    eta 3m 41s "
     ]
    },
    {
     "name": "stdout",
     "output_type": "stream",
     "text": [
      "\r",
      "glove.6B.zip          6%[>                   ]  54.48M  3.32MB/s    eta 3m 39s "
     ]
    },
    {
     "name": "stdout",
     "output_type": "stream",
     "text": [
      "\r",
      "glove.6B.zip          6%[>                   ]  55.30M  3.38MB/s    eta 3m 39s "
     ]
    },
    {
     "name": "stdout",
     "output_type": "stream",
     "text": [
      "\r",
      "glove.6B.zip          6%[>                   ]  56.15M  3.39MB/s    eta 3m 39s "
     ]
    },
    {
     "name": "stdout",
     "output_type": "stream",
     "text": [
      "\r",
      "glove.6B.zip          6%[>                   ]  56.97M  3.39MB/s    eta 3m 39s "
     ]
    },
    {
     "name": "stdout",
     "output_type": "stream",
     "text": [
      "\r",
      "glove.6B.zip          7%[>                   ]  57.83M  3.41MB/s    eta 3m 39s "
     ]
    },
    {
     "name": "stdout",
     "output_type": "stream",
     "text": [
      "\r",
      "glove.6B.zip          7%[>                   ]  58.67M  3.45MB/s    eta 3m 36s "
     ]
    },
    {
     "name": "stdout",
     "output_type": "stream",
     "text": [
      "\r",
      "glove.6B.zip          7%[>                   ]  59.49M  3.50MB/s    eta 3m 36s "
     ]
    },
    {
     "name": "stdout",
     "output_type": "stream",
     "text": [
      "\r",
      "glove.6B.zip          7%[>                   ]  60.34M  3.50MB/s    eta 3m 36s "
     ]
    },
    {
     "name": "stdout",
     "output_type": "stream",
     "text": [
      "\r",
      "glove.6B.zip          7%[>                   ]  61.17M  3.47MB/s    eta 3m 36s "
     ]
    },
    {
     "name": "stdout",
     "output_type": "stream",
     "text": [
      "\r",
      "glove.6B.zip          7%[>                   ]  62.01M  3.57MB/s    eta 3m 36s "
     ]
    },
    {
     "name": "stdout",
     "output_type": "stream",
     "text": [
      "\r",
      "glove.6B.zip          7%[>                   ]  62.85M  3.67MB/s    eta 3m 32s "
     ]
    },
    {
     "name": "stdout",
     "output_type": "stream",
     "text": [
      "\r",
      "glove.6B.zip          7%[>                   ]  63.68M  3.86MB/s    eta 3m 32s "
     ]
    },
    {
     "name": "stdout",
     "output_type": "stream",
     "text": [
      "\r",
      "glove.6B.zip          7%[>                   ]  64.52M  3.87MB/s    eta 3m 32s "
     ]
    },
    {
     "name": "stdout",
     "output_type": "stream",
     "text": [
      "\r",
      "glove.6B.zip          7%[>                   ]  65.37M  3.99MB/s    eta 3m 32s "
     ]
    },
    {
     "name": "stdout",
     "output_type": "stream",
     "text": [
      "\r",
      "glove.6B.zip          8%[>                   ]  66.22M  4.02MB/s    eta 3m 32s "
     ]
    },
    {
     "name": "stdout",
     "output_type": "stream",
     "text": [
      "\r",
      "glove.6B.zip          8%[>                   ]  67.09M  4.16MB/s    eta 3m 29s "
     ]
    },
    {
     "name": "stdout",
     "output_type": "stream",
     "text": [
      "\r",
      "glove.6B.zip          8%[>                   ]  67.97M  4.19MB/s    eta 3m 29s "
     ]
    },
    {
     "name": "stdout",
     "output_type": "stream",
     "text": [
      "\r",
      "glove.6B.zip          8%[>                   ]  68.86M  4.20MB/s    eta 3m 29s "
     ]
    },
    {
     "name": "stdout",
     "output_type": "stream",
     "text": [
      "\r",
      "glove.6B.zip          8%[>                   ]  69.50M  4.15MB/s    eta 3m 29s "
     ]
    },
    {
     "name": "stdout",
     "output_type": "stream",
     "text": [
      "\r",
      "glove.6B.zip          8%[>                   ]  70.17M  4.09MB/s    eta 3m 29s "
     ]
    },
    {
     "name": "stdout",
     "output_type": "stream",
     "text": [
      "\r",
      "glove.6B.zip          8%[>                   ]  70.59M  3.84MB/s    eta 3m 29s "
     ]
    },
    {
     "name": "stdout",
     "output_type": "stream",
     "text": [
      "\r",
      "glove.6B.zip          8%[>                   ]  72.05M  4.03MB/s    eta 3m 29s "
     ]
    },
    {
     "name": "stdout",
     "output_type": "stream",
     "text": [
      "\r",
      "glove.6B.zip          8%[>                   ]  72.67M  3.91MB/s    eta 3m 29s "
     ]
    },
    {
     "name": "stdout",
     "output_type": "stream",
     "text": [
      "\r",
      "glove.6B.zip          8%[>                   ]  73.36M  3.93MB/s    eta 3m 29s "
     ]
    },
    {
     "name": "stdout",
     "output_type": "stream",
     "text": [
      "\r",
      "glove.6B.zip          9%[>                   ]  74.03M  3.86MB/s    eta 3m 29s "
     ]
    },
    {
     "name": "stdout",
     "output_type": "stream",
     "text": [
      "\r",
      "glove.6B.zip          9%[>                   ]  74.74M  3.82MB/s    eta 3m 27s "
     ]
    },
    {
     "name": "stdout",
     "output_type": "stream",
     "text": [
      "\r",
      "glove.6B.zip          9%[>                   ]  75.46M  3.78MB/s    eta 3m 27s "
     ]
    },
    {
     "name": "stdout",
     "output_type": "stream",
     "text": [
      "\r",
      "glove.6B.zip          9%[>                   ]  76.19M  3.75MB/s    eta 3m 27s "
     ]
    },
    {
     "name": "stdout",
     "output_type": "stream",
     "text": [
      "\r",
      "glove.6B.zip          9%[>                   ]  76.93M  3.72MB/s    eta 3m 27s "
     ]
    },
    {
     "name": "stdout",
     "output_type": "stream",
     "text": [
      "\r",
      "glove.6B.zip          9%[>                   ]  77.72M  3.72MB/s    eta 3m 27s "
     ]
    },
    {
     "name": "stdout",
     "output_type": "stream",
     "text": [
      "\r",
      "glove.6B.zip          9%[>                   ]  78.52M  3.68MB/s    eta 3m 25s "
     ]
    },
    {
     "name": "stdout",
     "output_type": "stream",
     "text": [
      "\r",
      "glove.6B.zip          9%[>                   ]  79.02M  3.55MB/s    eta 3m 25s "
     ]
    },
    {
     "name": "stdout",
     "output_type": "stream",
     "text": [
      "\r",
      "glove.6B.zip          9%[>                   ]  79.83M  3.57MB/s    eta 3m 25s "
     ]
    },
    {
     "name": "stdout",
     "output_type": "stream",
     "text": [
      "\r",
      "glove.6B.zip          9%[>                   ]  80.65M  3.66MB/s    eta 3m 25s "
     ]
    },
    {
     "name": "stdout",
     "output_type": "stream",
     "text": [
      "\r",
      "glove.6B.zip          9%[>                   ]  81.48M  3.65MB/s    eta 3m 25s "
     ]
    },
    {
     "name": "stdout",
     "output_type": "stream",
     "text": [
      "\r",
      "glove.6B.zip         10%[=>                  ]  82.31M  3.64MB/s    eta 3m 24s "
     ]
    },
    {
     "name": "stdout",
     "output_type": "stream",
     "text": [
      "\r",
      "glove.6B.zip         10%[=>                  ]  83.15M  3.87MB/s    eta 3m 24s "
     ]
    },
    {
     "name": "stdout",
     "output_type": "stream",
     "text": [
      "\r",
      "glove.6B.zip         10%[=>                  ]  84.01M  3.69MB/s    eta 3m 24s "
     ]
    },
    {
     "name": "stdout",
     "output_type": "stream",
     "text": [
      "\r",
      "glove.6B.zip         10%[=>                  ]  84.85M  3.75MB/s    eta 3m 24s "
     ]
    },
    {
     "name": "stdout",
     "output_type": "stream",
     "text": [
      "\r",
      "glove.6B.zip         10%[=>                  ]  85.71M  3.80MB/s    eta 3m 24s "
     ]
    },
    {
     "name": "stdout",
     "output_type": "stream",
     "text": [
      "\r",
      "glove.6B.zip         10%[=>                  ]  86.57M  3.88MB/s    eta 3m 22s "
     ]
    },
    {
     "name": "stdout",
     "output_type": "stream",
     "text": [
      "\r",
      "glove.6B.zip         10%[=>                  ]  87.45M  3.93MB/s    eta 3m 22s "
     ]
    },
    {
     "name": "stdout",
     "output_type": "stream",
     "text": [
      "\r",
      "glove.6B.zip         10%[=>                  ]  88.27M  3.95MB/s    eta 3m 22s "
     ]
    },
    {
     "name": "stdout",
     "output_type": "stream",
     "text": [
      "\r",
      "glove.6B.zip         10%[=>                  ]  89.13M  4.00MB/s    eta 3m 22s "
     ]
    },
    {
     "name": "stdout",
     "output_type": "stream",
     "text": [
      "\r",
      "glove.6B.zip         10%[=>                  ]  90.03M  4.06MB/s    eta 3m 22s "
     ]
    },
    {
     "name": "stdout",
     "output_type": "stream",
     "text": [
      "\r",
      "glove.6B.zip         11%[=>                  ]  90.90M  4.05MB/s    eta 3m 19s "
     ]
    },
    {
     "name": "stdout",
     "output_type": "stream",
     "text": [
      "\r",
      "glove.6B.zip         11%[=>                  ]  91.78M  4.08MB/s    eta 3m 19s "
     ]
    },
    {
     "name": "stdout",
     "output_type": "stream",
     "text": [
      "\r",
      "glove.6B.zip         11%[=>                  ]  92.66M  4.08MB/s    eta 3m 19s "
     ]
    },
    {
     "name": "stdout",
     "output_type": "stream",
     "text": [
      "\r",
      "glove.6B.zip         11%[=>                  ]  93.58M  4.17MB/s    eta 3m 19s "
     ]
    },
    {
     "name": "stdout",
     "output_type": "stream",
     "text": [
      "\r",
      "glove.6B.zip         11%[=>                  ]  94.47M  4.19MB/s    eta 3m 19s "
     ]
    },
    {
     "name": "stdout",
     "output_type": "stream",
     "text": [
      "\r",
      "glove.6B.zip         11%[=>                  ]  95.39M  4.22MB/s    eta 3m 17s "
     ]
    },
    {
     "name": "stdout",
     "output_type": "stream",
     "text": [
      "\r",
      "glove.6B.zip         11%[=>                  ]  96.30M  4.22MB/s    eta 3m 17s "
     ]
    },
    {
     "name": "stdout",
     "output_type": "stream",
     "text": [
      "\r",
      "glove.6B.zip         11%[=>                  ]  97.19M  4.21MB/s    eta 3m 17s "
     ]
    },
    {
     "name": "stdout",
     "output_type": "stream",
     "text": [
      "\r",
      "glove.6B.zip         11%[=>                  ]  98.10M  4.30MB/s    eta 3m 17s "
     ]
    },
    {
     "name": "stdout",
     "output_type": "stream",
     "text": [
      "\r",
      "glove.6B.zip         12%[=>                  ]  99.00M  4.30MB/s    eta 3m 17s "
     ]
    },
    {
     "name": "stdout",
     "output_type": "stream",
     "text": [
      "\r",
      "glove.6B.zip         12%[=>                  ]  99.89M  4.31MB/s    eta 3m 14s "
     ]
    },
    {
     "name": "stdout",
     "output_type": "stream",
     "text": [
      "\r",
      "glove.6B.zip         12%[=>                  ] 100.78M  4.32MB/s    eta 3m 14s "
     ]
    },
    {
     "name": "stdout",
     "output_type": "stream",
     "text": [
      "\r",
      "glove.6B.zip         12%[=>                  ] 101.66M  4.33MB/s    eta 3m 14s "
     ]
    },
    {
     "name": "stdout",
     "output_type": "stream",
     "text": [
      "\r",
      "glove.6B.zip         12%[=>                  ] 102.58M  4.34MB/s    eta 3m 14s "
     ]
    },
    {
     "name": "stdout",
     "output_type": "stream",
     "text": [
      "^C\r\n"
     ]
    },
    {
     "name": "stdout",
     "output_type": "stream",
     "text": [
      "Archive:  glove.6B.zip\r\n",
      "  End-of-central-directory signature not found.  Either this file is not\r\n",
      "  a zipfile, or it constitutes one disk of a multi-part archive.  In the\r\n",
      "  latter case the central directory and zipfile comment will be found on\r\n",
      "  the last disk(s) of this archive.\r\n",
      "unzip:  cannot find zipfile directory in one of glove.6B.zip or\r\n",
      "        glove.6B.zip.zip, and cannot find glove.6B.zip.ZIP, period.\r\n"
     ]
    }
   ],
   "source": [
    "!wget http://nlp.stanford.edu/data/glove.6B.zip\n",
    "!unzip glove*.zip"
   ]
  },
  {
   "cell_type": "markdown",
   "metadata": {
    "id": "qhq0VFhiwnLR"
   },
   "source": [
    "### Помошни функции"
   ]
  },
  {
   "cell_type": "markdown",
   "metadata": {
    "id": "4PlJnLBy4CSM"
   },
   "source": [
    "#### Исчитување на glove фајлот со вредности"
   ]
  },
  {
   "cell_type": "code",
   "execution_count": 3,
   "metadata": {
    "id": "-qKz7uWfIjdx"
   },
   "outputs": [],
   "source": [
    "def read_glove_vecs(glove_file):\n",
    "    with open(glove_file, 'r', encoding=\"utf8\") as f:\n",
    "        words = set()\n",
    "        word_to_vec_map = {}\n",
    "        for line in f:\n",
    "            line = line.strip().split()\n",
    "            curr_word = line[0]\n",
    "            words.add(curr_word)\n",
    "            word_to_vec_map[curr_word] = np.array(line[1:], dtype=np.float64)\n",
    "\n",
    "        i = 1\n",
    "        words_to_index = {}\n",
    "        index_to_words = {}\n",
    "        for w in sorted(words):\n",
    "            words_to_index[w] = i\n",
    "            index_to_words[i] = w\n",
    "            i = i + 1\n",
    "            \n",
    "    return words_to_index, index_to_words, word_to_vec_map"
   ]
  },
  {
   "cell_type": "markdown",
   "metadata": {
    "id": "8bExuG7-2htJ"
   },
   "source": [
    "#### Softmax функцијата"
   ]
  },
  {
   "cell_type": "code",
   "execution_count": 4,
   "metadata": {
    "id": "2jFMvyQJIo1L"
   },
   "outputs": [],
   "source": [
    "def softmax(x):\n",
    "    e_x = np.exp(x - np.max(x))\n",
    "    \n",
    "    return e_x / e_x.sum()"
   ]
  },
  {
   "cell_type": "markdown",
   "metadata": {
    "id": "2KZmxp1w4Q5Y"
   },
   "source": [
    "#### Читање на соодветните вредности од CSV train и test датотеките"
   ]
  },
  {
   "cell_type": "code",
   "execution_count": 5,
   "metadata": {
    "id": "Z8J8vGNxIr23"
   },
   "outputs": [],
   "source": [
    "def read_csv(filename):\n",
    "    phrase = []\n",
    "    emoji_ = []\n",
    "\n",
    "    with open(filename) as csvDataFile:\n",
    "        csv_reader = csv.reader(csvDataFile)\n",
    "\n",
    "        for row in csv_reader:\n",
    "            phrase.append(row[0])\n",
    "            emoji_.append(row[1])\n",
    "\n",
    "    x = np.asarray(phrase)\n",
    "    y = np.asarray(emoji_, dtype=int)\n",
    "\n",
    "    return x, y\n"
   ]
  },
  {
   "cell_type": "markdown",
   "metadata": {
    "id": "CXvyQLHL2Evi"
   },
   "source": [
    "#### Излезите(бројки) ги претвора во one-hot вектори"
   ]
  },
  {
   "cell_type": "code",
   "execution_count": 6,
   "metadata": {
    "id": "6l1ElPjaIzcP"
   },
   "outputs": [],
   "source": [
    "def convert_to_one_hot(y, c):\n",
    "    y = np.eye(c)[y.reshape(-1)]\n",
    "    \n",
    "    return y"
   ]
  },
  {
   "cell_type": "markdown",
   "metadata": {
    "id": "CsD4Sovc46uL"
   },
   "source": [
    "#### Предвидување на излезите при дадени елементи како влез"
   ]
  },
  {
   "cell_type": "code",
   "execution_count": 7,
   "metadata": {
    "id": "UFMS7-IGJBrM"
   },
   "outputs": [],
   "source": [
    "def predict(X, Y, W, b, word_to_vec_map):\n",
    "    m = X.shape[0]\n",
    "    pred = np.zeros((m, 1))\n",
    "\n",
    "    for j in range(m):\n",
    "        words = X[j].lower().split()\n",
    "\n",
    "        avg = np.zeros((50,))\n",
    "        for w in words:\n",
    "            avg += word_to_vec_map[w]\n",
    "        avg = avg / len(words)\n",
    "\n",
    "        z = np.dot(W, avg) + b\n",
    "        a = softmax(z)\n",
    "        pred[j] = np.argmax(a)\n",
    "\n",
    "    print(\"Accuracy: \" + str(np.mean((pred[:] == Y.reshape(Y.shape[0], 1)[:]))))\n",
    "\n",
    "    return pred"
   ]
  },
  {
   "cell_type": "markdown",
   "metadata": {
    "id": "o7GFsn4n6jqU"
   },
   "source": [
    "#### Претворање на реченици дадени како влез во матрици од вредности"
   ]
  },
  {
   "cell_type": "code",
   "execution_count": 8,
   "metadata": {
    "id": "sM3SlQUdKKKk"
   },
   "outputs": [],
   "source": [
    "def sentences_to_indices(X, word_to_index, max_len):\n",
    "    m = X.shape[0] \n",
    "    x_indices = np.zeros((m, max_len))\n",
    "\n",
    "    for i in range(m):\n",
    "        sentence_words = (X[i].lower()).split()\n",
    "        j = 0\n",
    "    \n",
    "        for w in sentence_words:\n",
    "            # i-тата вредност е редниот број на реченицата, j-тата е редниот\n",
    "            # број на зборот во неа. вредноста која се поставува е таа на \n",
    "            # соодветниот збор\n",
    "            x_indices[i, j] = word_to_index[w]\n",
    "            j = j + 1\n",
    "    \n",
    "    return x_indices"
   ]
  },
  {
   "cell_type": "markdown",
   "metadata": {
    "id": "8hr-CMTV6lza"
   },
   "source": [
    "#### Креирање на веќе истрениран Embedding слој со помош на glove векторите"
   ]
  },
  {
   "cell_type": "code",
   "execution_count": 9,
   "metadata": {
    "id": "IR60_ZQIKWCc"
   },
   "outputs": [],
   "source": [
    "def pretrained_embedding_layer(word_to_vec_map, word_to_index):\n",
    "    vocab_len = len(word_to_index) + 1\n",
    "    emb_dim = word_to_vec_map[\"cucumber\"].shape[0]\n",
    "    emb_matrix = np.zeros((vocab_len, emb_dim))\n",
    "\n",
    "    for word, index in word_to_index.items():\n",
    "        emb_matrix[index, :] = word_to_vec_map[word]\n",
    "\n",
    "    embedding_layer = Embedding(vocab_len, emb_dim)\n",
    "    embedding_layer.build((None,))\n",
    "    embedding_layer.set_weights([emb_matrix])\n",
    "\n",
    "    return embedding_layer"
   ]
  },
  {
   "cell_type": "markdown",
   "metadata": {
    "id": "5Lbykyvx6nrH"
   },
   "source": [
    "#### Креирање на модел со соодветни предефинирани вредности"
   ]
  },
  {
   "cell_type": "code",
   "execution_count": 10,
   "metadata": {
    "id": "2UH6KMEoKW6m"
   },
   "outputs": [],
   "source": [
    "def sentiment_analysis(input_shape, word_to_vec_map, word_to_index):\n",
    "    sentence_indices = Input(shape=input_shape, dtype=np.int32)\n",
    "    embedding_layer = pretrained_embedding_layer(word_to_vec_map, word_to_index)\n",
    "    embeddings = embedding_layer(sentence_indices)\n",
    "\n",
    "    # LSTM слој со 128-димензионален hidden state\n",
    "    X = LSTM(128, return_sequences=True)(embeddings)\n",
    "    \n",
    "    # Веројатност на зачувување од 0.5\n",
    "    X = Dropout(0.5)(X)\n",
    "    \n",
    "    # Уште еден LSTM слој со 128-димензионален hidden state\n",
    "    X = LSTM(128)(X)\n",
    "\n",
    "    X = Dropout(0.5)(X)\n",
    "    X = Dense(5, activation='softmax')(X)\n",
    "    X = Activation('softmax')(X)\n",
    "\n",
    "    model = Model(sentence_indices, X)\n",
    "\n",
    "    return model"
   ]
  },
  {
   "cell_type": "markdown",
   "metadata": {
    "id": "nDFhT4GJwtws"
   },
   "source": [
    "### Main дел"
   ]
  },
  {
   "cell_type": "markdown",
   "metadata": {
    "id": "2Q2kXbBw664E"
   },
   "source": [
    "#### Читање на train и test податоците, пренос на излезите како one-hot вектори, читање на векторите за репрезентација на зборови"
   ]
  },
  {
   "cell_type": "code",
   "execution_count": 11,
   "metadata": {
    "id": "akJgOxOwrVm0"
   },
   "outputs": [],
   "source": [
    "X_train, Y_train = read_csv('datasets/train_set.csv')\n",
    "X_test, Y_test = read_csv('datasets/test_set.csv')\n",
    "\n",
    "maxLen = len(max(X_train, key=len).split())\n",
    "\n",
    "Y_oh_train = convert_to_one_hot(Y_train, 5)\n",
    "Y_oh_test = convert_to_one_hot(Y_test, 5)\n",
    "\n",
    "word_to_index_, index_to_word, word_to_vec_map_ = read_glove_vecs('glove.6B.50d.txt')"
   ]
  },
  {
   "cell_type": "markdown",
   "metadata": {
    "id": "pWM3y3237p-o"
   },
   "source": [
    "#### Креирање и тренирање на моделот"
   ]
  },
  {
   "cell_type": "code",
   "execution_count": 12,
   "metadata": {
    "colab": {
     "base_uri": "https://localhost:8080/"
    },
    "id": "GEvEG5U-KZAz",
    "outputId": "2875788d-adc6-4bc5-ffe0-1bb0a76e2502"
   },
   "outputs": [
    {
     "name": "stdout",
     "output_type": "stream",
     "text": [
      "Model: \"model\"\n",
      "_________________________________________________________________\n",
      "Layer (type)                 Output Shape              Param #   \n",
      "=================================================================\n",
      "input_1 (InputLayer)         [(None, 10)]              0         \n",
      "_________________________________________________________________\n",
      "embedding (Embedding)        (None, 10, 50)            20000050  \n",
      "_________________________________________________________________\n",
      "lstm (LSTM)                  (None, 10, 128)           91648     \n",
      "_________________________________________________________________\n",
      "dropout (Dropout)            (None, 10, 128)           0         \n",
      "_________________________________________________________________\n",
      "lstm_1 (LSTM)                (None, 128)               131584    \n",
      "_________________________________________________________________\n",
      "dropout_1 (Dropout)          (None, 128)               0         \n",
      "_________________________________________________________________\n",
      "dense (Dense)                (None, 5)                 645       \n",
      "_________________________________________________________________\n",
      "activation (Activation)      (None, 5)                 0         \n",
      "=================================================================\n",
      "Total params: 20,223,927\n",
      "Trainable params: 20,223,927\n",
      "Non-trainable params: 0\n",
      "_________________________________________________________________\n",
      "Epoch 1/100\n",
      "5/5 [==============================] - 21s 236ms/step - loss: 1.6077 - accuracy: 0.2362\n",
      "Epoch 2/100\n",
      "5/5 [==============================] - 1s 218ms/step - loss: 1.5747 - accuracy: 0.3385\n",
      "Epoch 3/100\n",
      "5/5 [==============================] - 1s 224ms/step - loss: 1.5560 - accuracy: 0.3526\n",
      "Epoch 4/100\n",
      "5/5 [==============================] - 1s 226ms/step - loss: 1.5360 - accuracy: 0.3647\n",
      "Epoch 5/100\n",
      "5/5 [==============================] - 1s 226ms/step - loss: 1.5411 - accuracy: 0.3419\n",
      "Epoch 6/100\n",
      "5/5 [==============================] - 1s 223ms/step - loss: 1.4935 - accuracy: 0.3855\n",
      "Epoch 7/100\n",
      "5/5 [==============================] - 1s 220ms/step - loss: 1.4544 - accuracy: 0.4995\n",
      "Epoch 8/100\n",
      "5/5 [==============================] - 1s 222ms/step - loss: 1.3927 - accuracy: 0.5995\n",
      "Epoch 9/100\n",
      "5/5 [==============================] - 1s 225ms/step - loss: 1.3332 - accuracy: 0.6278\n",
      "Epoch 10/100\n",
      "5/5 [==============================] - 1s 221ms/step - loss: 1.2991 - accuracy: 0.6548\n",
      "Epoch 11/100\n",
      "5/5 [==============================] - 1s 222ms/step - loss: 1.2444 - accuracy: 0.6628\n",
      "Epoch 12/100\n",
      "5/5 [==============================] - 1s 219ms/step - loss: 1.1899 - accuracy: 0.7189\n",
      "Epoch 13/100\n",
      "5/5 [==============================] - 1s 222ms/step - loss: 1.2341 - accuracy: 0.7030\n",
      "Epoch 14/100\n",
      "5/5 [==============================] - 1s 216ms/step - loss: 1.1315 - accuracy: 0.7639\n",
      "Epoch 15/100\n",
      "5/5 [==============================] - 1s 221ms/step - loss: 1.1487 - accuracy: 0.8020\n",
      "Epoch 16/100\n",
      "5/5 [==============================] - 1s 221ms/step - loss: 1.1457 - accuracy: 0.7602\n",
      "Epoch 17/100\n",
      "5/5 [==============================] - 1s 219ms/step - loss: 1.2081 - accuracy: 0.7107\n",
      "Epoch 18/100\n",
      "5/5 [==============================] - 1s 222ms/step - loss: 1.0634 - accuracy: 0.8598\n",
      "Epoch 19/100\n",
      "5/5 [==============================] - 1s 219ms/step - loss: 1.0930 - accuracy: 0.7981\n",
      "Epoch 20/100\n",
      "5/5 [==============================] - 1s 218ms/step - loss: 1.0401 - accuracy: 0.8834\n",
      "Epoch 21/100\n",
      "5/5 [==============================] - 1s 221ms/step - loss: 1.0645 - accuracy: 0.8398\n",
      "Epoch 22/100\n",
      "5/5 [==============================] - 1s 222ms/step - loss: 1.0286 - accuracy: 0.8897\n",
      "Epoch 23/100\n",
      "5/5 [==============================] - 1s 227ms/step - loss: 1.0272 - accuracy: 0.8797\n",
      "Epoch 24/100\n",
      "5/5 [==============================] - 1s 218ms/step - loss: 1.0076 - accuracy: 0.9166\n",
      "Epoch 25/100\n",
      "5/5 [==============================] - 1s 221ms/step - loss: 0.9790 - accuracy: 0.9299\n",
      "Epoch 26/100\n",
      "5/5 [==============================] - 1s 225ms/step - loss: 0.9571 - accuracy: 0.9594\n",
      "Epoch 27/100\n",
      "5/5 [==============================] - 1s 223ms/step - loss: 1.0027 - accuracy: 0.9119\n",
      "Epoch 28/100\n",
      "5/5 [==============================] - 1s 223ms/step - loss: 0.9698 - accuracy: 0.9353\n",
      "Epoch 29/100\n",
      "5/5 [==============================] - 1s 216ms/step - loss: 1.0097 - accuracy: 0.9096\n",
      "Epoch 30/100\n",
      "5/5 [==============================] - 1s 221ms/step - loss: 0.9704 - accuracy: 0.9378\n",
      "Epoch 31/100\n",
      "5/5 [==============================] - 1s 220ms/step - loss: 0.9903 - accuracy: 0.9100\n",
      "Epoch 32/100\n",
      "5/5 [==============================] - 1s 221ms/step - loss: 0.9688 - accuracy: 0.9434\n",
      "Epoch 33/100\n",
      "5/5 [==============================] - 1s 218ms/step - loss: 0.9672 - accuracy: 0.9296\n",
      "Epoch 34/100\n",
      "5/5 [==============================] - 1s 226ms/step - loss: 0.9705 - accuracy: 0.9272\n",
      "Epoch 35/100\n",
      "5/5 [==============================] - 1s 221ms/step - loss: 0.9473 - accuracy: 0.9553\n",
      "Epoch 36/100\n",
      "5/5 [==============================] - 1s 221ms/step - loss: 0.9511 - accuracy: 0.9564\n",
      "Epoch 37/100\n",
      "5/5 [==============================] - 1s 222ms/step - loss: 0.9549 - accuracy: 0.9489\n",
      "Epoch 38/100\n",
      "5/5 [==============================] - 1s 218ms/step - loss: 0.9384 - accuracy: 0.9696\n",
      "Epoch 39/100\n",
      "5/5 [==============================] - 1s 219ms/step - loss: 0.9315 - accuracy: 0.9757\n",
      "Epoch 40/100\n",
      "5/5 [==============================] - 1s 222ms/step - loss: 0.9368 - accuracy: 0.9687\n",
      "Epoch 41/100\n",
      "5/5 [==============================] - 1s 219ms/step - loss: 0.9537 - accuracy: 0.9513\n",
      "Epoch 42/100\n",
      "5/5 [==============================] - 1s 217ms/step - loss: 0.9447 - accuracy: 0.9600\n",
      "Epoch 43/100\n",
      "5/5 [==============================] - 1s 220ms/step - loss: 0.9420 - accuracy: 0.9626\n",
      "Epoch 44/100\n",
      "5/5 [==============================] - 1s 219ms/step - loss: 0.9528 - accuracy: 0.9513\n",
      "Epoch 45/100\n",
      "5/5 [==============================] - 1s 217ms/step - loss: 0.9372 - accuracy: 0.9687\n",
      "Epoch 46/100\n",
      "5/5 [==============================] - 1s 215ms/step - loss: 0.9491 - accuracy: 0.9557\n",
      "Epoch 47/100\n",
      "5/5 [==============================] - 1s 218ms/step - loss: 0.9477 - accuracy: 0.9566\n",
      "Epoch 48/100\n",
      "5/5 [==============================] - 1s 218ms/step - loss: 0.9343 - accuracy: 0.9731\n",
      "Epoch 49/100\n",
      "5/5 [==============================] - 1s 217ms/step - loss: 0.9318 - accuracy: 0.9739\n",
      "Epoch 50/100\n",
      "5/5 [==============================] - 1s 216ms/step - loss: 0.9478 - accuracy: 0.9557\n",
      "Epoch 51/100\n",
      "5/5 [==============================] - 1s 229ms/step - loss: 0.9376 - accuracy: 0.9665\n",
      "Epoch 52/100\n",
      "5/5 [==============================] - 1s 221ms/step - loss: 0.9502 - accuracy: 0.9531\n",
      "Epoch 53/100\n",
      "5/5 [==============================] - 1s 216ms/step - loss: 0.9521 - accuracy: 0.9505\n",
      "Epoch 54/100\n",
      "5/5 [==============================] - 1s 223ms/step - loss: 0.9318 - accuracy: 0.9731\n",
      "Epoch 55/100\n",
      "5/5 [==============================] - 1s 223ms/step - loss: 0.9325 - accuracy: 0.9726\n",
      "Epoch 56/100\n",
      "5/5 [==============================] - 1s 220ms/step - loss: 0.9412 - accuracy: 0.9626\n",
      "Epoch 57/100\n",
      "5/5 [==============================] - 1s 220ms/step - loss: 0.9472 - accuracy: 0.9553\n",
      "Epoch 58/100\n",
      "5/5 [==============================] - 1s 216ms/step - loss: 0.9479 - accuracy: 0.9566\n",
      "Epoch 59/100\n",
      "5/5 [==============================] - 1s 215ms/step - loss: 0.9430 - accuracy: 0.9635\n",
      "Epoch 60/100\n",
      "5/5 [==============================] - 1s 227ms/step - loss: 0.9384 - accuracy: 0.9670\n",
      "Epoch 61/100\n",
      "5/5 [==============================] - 1s 227ms/step - loss: 0.9320 - accuracy: 0.9735\n",
      "Epoch 62/100\n",
      "5/5 [==============================] - 1s 225ms/step - loss: 0.9354 - accuracy: 0.9652\n",
      "Epoch 63/100\n",
      "5/5 [==============================] - 1s 218ms/step - loss: 0.9296 - accuracy: 0.9769\n",
      "Epoch 64/100\n",
      "5/5 [==============================] - 1s 222ms/step - loss: 0.9318 - accuracy: 0.9708\n",
      "Epoch 65/100\n",
      "5/5 [==============================] - 1s 215ms/step - loss: 0.9271 - accuracy: 0.9842\n",
      "Epoch 66/100\n",
      "5/5 [==============================] - 1s 219ms/step - loss: 0.9289 - accuracy: 0.9751\n",
      "Epoch 67/100\n",
      "5/5 [==============================] - 1s 217ms/step - loss: 0.9258 - accuracy: 0.9807\n",
      "Epoch 68/100\n",
      "5/5 [==============================] - 1s 219ms/step - loss: 0.9254 - accuracy: 0.9863\n",
      "Epoch 69/100\n",
      "5/5 [==============================] - 1s 216ms/step - loss: 0.9265 - accuracy: 0.9828\n",
      "Epoch 70/100\n",
      "5/5 [==============================] - 1s 223ms/step - loss: 0.9177 - accuracy: 0.9906\n",
      "Epoch 71/100\n",
      "5/5 [==============================] - 1s 217ms/step - loss: 0.9167 - accuracy: 0.9906\n",
      "Epoch 72/100\n",
      "5/5 [==============================] - 1s 224ms/step - loss: 0.9203 - accuracy: 0.9889\n",
      "Epoch 73/100\n",
      "5/5 [==============================] - 1s 217ms/step - loss: 0.9203 - accuracy: 0.9880\n",
      "Epoch 74/100\n",
      "5/5 [==============================] - 1s 221ms/step - loss: 0.9176 - accuracy: 0.9880\n",
      "Epoch 75/100\n",
      "5/5 [==============================] - 1s 219ms/step - loss: 0.9248 - accuracy: 0.9828\n",
      "Epoch 76/100\n",
      "5/5 [==============================] - 1s 223ms/step - loss: 0.9223 - accuracy: 0.9841\n",
      "Epoch 77/100\n",
      "5/5 [==============================] - 1s 218ms/step - loss: 0.9222 - accuracy: 0.9824\n",
      "Epoch 78/100\n",
      "5/5 [==============================] - 1s 222ms/step - loss: 0.9270 - accuracy: 0.9785\n",
      "Epoch 79/100\n",
      "5/5 [==============================] - 1s 227ms/step - loss: 0.9332 - accuracy: 0.9732\n",
      "Epoch 80/100\n",
      "5/5 [==============================] - 1s 218ms/step - loss: 0.9323 - accuracy: 0.9732\n",
      "Epoch 81/100\n",
      "5/5 [==============================] - 1s 224ms/step - loss: 0.9153 - accuracy: 0.9923\n",
      "Epoch 82/100\n",
      "5/5 [==============================] - 1s 221ms/step - loss: 0.9121 - accuracy: 0.9936\n",
      "Epoch 83/100\n",
      "5/5 [==============================] - 1s 218ms/step - loss: 0.9220 - accuracy: 0.9828\n",
      "Epoch 84/100\n",
      "5/5 [==============================] - 1s 219ms/step - loss: 0.9167 - accuracy: 0.9889\n",
      "Epoch 85/100\n",
      "5/5 [==============================] - 1s 221ms/step - loss: 0.9315 - accuracy: 0.9732\n",
      "Epoch 86/100\n",
      "5/5 [==============================] - 1s 221ms/step - loss: 0.9119 - accuracy: 0.9936\n",
      "Epoch 87/100\n",
      "5/5 [==============================] - 1s 221ms/step - loss: 0.9152 - accuracy: 0.9906\n",
      "Epoch 88/100\n",
      "5/5 [==============================] - 1s 226ms/step - loss: 0.9218 - accuracy: 0.9837\n",
      "Epoch 89/100\n",
      "5/5 [==============================] - 1s 219ms/step - loss: 0.9168 - accuracy: 0.9889\n",
      "Epoch 90/100\n",
      "5/5 [==============================] - 1s 216ms/step - loss: 0.9167 - accuracy: 0.9889\n",
      "Epoch 91/100\n",
      "5/5 [==============================] - 1s 221ms/step - loss: 0.9148 - accuracy: 0.9906\n",
      "Epoch 92/100\n",
      "5/5 [==============================] - 1s 221ms/step - loss: 0.9243 - accuracy: 0.9811\n",
      "Epoch 93/100\n",
      "5/5 [==============================] - 1s 220ms/step - loss: 0.9320 - accuracy: 0.9732\n",
      "Epoch 94/100\n",
      "5/5 [==============================] - 1s 219ms/step - loss: 0.9224 - accuracy: 0.9828\n",
      "Epoch 95/100\n",
      "5/5 [==============================] - 1s 220ms/step - loss: 0.9322 - accuracy: 0.9732\n",
      "Epoch 96/100\n",
      "5/5 [==============================] - 1s 219ms/step - loss: 0.9321 - accuracy: 0.9732\n",
      "Epoch 97/100\n",
      "5/5 [==============================] - 1s 224ms/step - loss: 0.9173 - accuracy: 0.9880\n",
      "Epoch 98/100\n",
      "5/5 [==============================] - 1s 219ms/step - loss: 0.9270 - accuracy: 0.9785\n",
      "Epoch 99/100\n",
      "5/5 [==============================] - 1s 222ms/step - loss: 0.9129 - accuracy: 0.9923\n",
      "Epoch 100/100\n",
      "5/5 [==============================] - 1s 219ms/step - loss: 0.9219 - accuracy: 0.9837\n"
     ]
    },
    {
     "data": {
      "text/plain": [
       "<keras.callbacks.History at 0x7efd3231fc10>"
      ]
     },
     "execution_count": 12,
     "metadata": {
      "tags": []
     },
     "output_type": "execute_result"
    }
   ],
   "source": [
    "model = sentiment_analysis((maxLen,), word_to_vec_map_, word_to_index_)\n",
    "model.summary()\n",
    "model.compile(loss='categorical_crossentropy', optimizer='adam', metrics=['accuracy'])\n",
    "\n",
    "X_train_indices = sentences_to_indices(X_train, word_to_index_, maxLen)\n",
    "Y_train_oh = convert_to_one_hot(Y_train, 5)\n",
    "\n",
    "model.fit(X_train_indices, Y_train_oh, epochs=100, batch_size=32, shuffle=True)"
   ]
  },
  {
   "cell_type": "markdown",
   "metadata": {
    "id": "4JPcTqVhAgsX"
   },
   "source": [
    "#### Тестирање на моделот со test податоците"
   ]
  },
  {
   "cell_type": "code",
   "execution_count": 13,
   "metadata": {
    "colab": {
     "base_uri": "https://localhost:8080/"
    },
    "id": "z-0mnqnT_5Ww",
    "outputId": "f9dd5d0b-e270-4f54-d89a-63230c5193ba"
   },
   "outputs": [
    {
     "name": "stdout",
     "output_type": "stream",
     "text": [
      "2/2 [==============================] - 1s 12ms/step - loss: 1.1112 - accuracy: 0.7857\n",
      "\n",
      "Accuracy  0.7857142686843872\n"
     ]
    }
   ],
   "source": [
    "X_test_indices = sentences_to_indices(X_test, word_to_index_, max_len=maxLen)\n",
    "Y_test_oh = convert_to_one_hot(Y_test, 5)\n",
    "\n",
    "loss, acc = model.evaluate(X_test_indices, Y_test_oh)\n",
    "print()\n",
    "print(\"Accuracy \", acc)"
   ]
  },
  {
   "cell_type": "markdown",
   "metadata": {
    "id": "l1DPMvPO7tNj"
   },
   "source": [
    "#### Преглед на влезовите кои се грешно предвидени и дополнителни метрики за евалуација"
   ]
  },
  {
   "cell_type": "code",
   "execution_count": 14,
   "metadata": {
    "colab": {
     "base_uri": "https://localhost:8080/"
    },
    "id": "2aj86ce1oNuZ",
    "outputId": "8d192c97-f1b3-4b27-f659-310d5039e38c"
   },
   "outputs": [
    {
     "name": "stdout",
     "output_type": "stream",
     "text": [
      "Input: he got a very nice raise\n",
      "Expected class: 2\n",
      "Predicted class: 0\n",
      "\n",
      "Input: he is a good friend\n",
      "Expected class: 2\n",
      "Predicted class: 0\n",
      "\n",
      "Input: This girl is messing with me\n",
      "Expected class: 3\n",
      "Predicted class: 0\n",
      "\n",
      "Input: work is horrible\n",
      "Expected class: 3\n",
      "Predicted class: 2\n",
      "\n",
      "Input: any suggestions for dinner\n",
      "Expected class: 4\n",
      "Predicted class: 2\n",
      "\n",
      "Input: you brighten my day\n",
      "Expected class: 2\n",
      "Predicted class: 0\n",
      "\n",
      "Input: she is a bully\n",
      "Expected class: 3\n",
      "Predicted class: 0\n",
      "\n",
      "Input: My life is so boring\n",
      "Expected class: 3\n",
      "Predicted class: 0\n",
      "\n",
      "Input: will you be my valentine\n",
      "Expected class: 2\n",
      "Predicted class: 0\n",
      "\n",
      "Input: What you did was awesome\n",
      "Expected class: 2\n",
      "Predicted class: 3\n",
      "\n",
      "Input: go away\n",
      "Expected class: 3\n",
      "Predicted class: 1\n",
      "\n",
      "Input: I did not have breakfast\n",
      "Expected class: 4\n",
      "Predicted class: 0\n",
      "\n"
     ]
    }
   ],
   "source": [
    "y_test_oh = np.eye(5)[Y_test.reshape(-1)]\n",
    "X_test_indices = sentences_to_indices(X_test, word_to_index_, maxLen)\n",
    "pred = model.predict(X_test_indices)\n",
    "\n",
    "actual = []\n",
    "predicted = []\n",
    "\n",
    "for i in range(len(X_test)):\n",
    "    x = X_test_indices\n",
    "    num = np.argmax(pred[i])\n",
    "\n",
    "    actual.append(Y_test[i])\n",
    "    predicted.append(num)\n",
    "\n",
    "    if num != Y_test[i]:\n",
    "        print('Input: ' + str(X_test[i]))\n",
    "        print('Expected class: ' + str(Y_test[i]))\n",
    "        print('Predicted class: ' + str(num) + '\\n')\n",
    "\n",
    "precision = precision_score(actual, predicted, average='macro')\n",
    "recall = recall_score(actual, predicted, average='macro')\n",
    "f1_score = f1_score(actual, predicted, average='macro')\n",
    "loss = log_loss(actual, pred, eps=1e-15)\n",
    "matrix = classification_report(actual, predicted, labels=[0, 1, 2, 3, 4])"
   ]
  },
  {
   "cell_type": "markdown",
   "metadata": {
    "id": "vyV_vNZ5PpaQ"
   },
   "source": [
    "#### Тестирање на моделот со влезови од корисник"
   ]
  },
  {
   "cell_type": "code",
   "execution_count": 15,
   "metadata": {
    "colab": {
     "base_uri": "https://localhost:8080/"
    },
    "id": "Fv1e3n5WPqB4",
    "outputId": "103b9a7f-fe93-4768-b4ea-79049db57905"
   },
   "outputs": [
    {
     "name": "stdout",
     "output_type": "stream",
     "text": [
      "Input: very happy\n",
      "Predicted class: 2\n",
      "\n"
     ]
    }
   ],
   "source": [
    "x_test = np.array(['very happy'])\n",
    "X_test_indices = sentences_to_indices(x_test, word_to_index_, maxLen)\n",
    "print('Input: ' + x_test[0])\n",
    "print('Predicted class: ' + str(np.argmax(model.predict(X_test_indices))) + '\\n')"
   ]
  },
  {
   "cell_type": "code",
   "execution_count": 16,
   "metadata": {
    "colab": {
     "base_uri": "https://localhost:8080/"
    },
    "id": "4MPvk4NyX_-8",
    "outputId": "9ad80339-7cbd-4683-b20a-b651bbd5c76c"
   },
   "outputs": [
    {
     "name": "stdout",
     "output_type": "stream",
     "text": [
      "Input: very sad\n",
      "Predicted class: 2\n",
      "\n"
     ]
    }
   ],
   "source": [
    "x_test = np.array(['very sad'])\n",
    "X_test_indices = sentences_to_indices(x_test, word_to_index_, maxLen)\n",
    "print('Input: ' + x_test[0])\n",
    "print('Predicted class: ' + str(np.argmax(model.predict(X_test_indices))) + '\\n')"
   ]
  },
  {
   "cell_type": "code",
   "execution_count": 17,
   "metadata": {
    "colab": {
     "base_uri": "https://localhost:8080/"
    },
    "id": "2VWMmOOMhbsv",
    "outputId": "4bc48ff3-d165-4f65-fd45-eb7dde269a5d"
   },
   "outputs": [
    {
     "name": "stdout",
     "output_type": "stream",
     "text": [
      "Input: i am starving\n",
      "Predicted class: 4\n",
      "\n"
     ]
    }
   ],
   "source": [
    "x_test = np.array(['i am starving'])\n",
    "X_test_indices = sentences_to_indices(x_test, word_to_index_, maxLen)\n",
    "print('Input: ' + x_test[0])\n",
    "print('Predicted class: ' + str(np.argmax(model.predict(X_test_indices))) + '\\n')"
   ]
  },
  {
   "cell_type": "code",
   "execution_count": 18,
   "metadata": {
    "colab": {
     "base_uri": "https://localhost:8080/"
    },
    "id": "--XHyS-HiwAR",
    "outputId": "59c9b237-d604-4375-c576-7bb23434fcd2"
   },
   "outputs": [
    {
     "name": "stdout",
     "output_type": "stream",
     "text": [
      "Input: I have met the love of my life\n",
      "Predicted class: 2\n",
      "\n"
     ]
    }
   ],
   "source": [
    "x_test = np.array(['I have met the love of my life'])\n",
    "X_test_indices = sentences_to_indices(x_test, word_to_index_, maxLen)\n",
    "print('Input: ' + x_test[0])\n",
    "print('Predicted class: ' + str(np.argmax(model.predict(X_test_indices))) + '\\n')"
   ]
  },
  {
   "cell_type": "markdown",
   "metadata": {
    "id": "mv7YmEv70eg0"
   },
   "source": [
    "#### Приказ на мерките за успешност на моделот"
   ]
  },
  {
   "cell_type": "code",
   "execution_count": 19,
   "metadata": {
    "colab": {
     "base_uri": "https://localhost:8080/"
    },
    "id": "UtmkZ3_Y0lhA",
    "outputId": "f80f8e30-df39-4957-c72c-1fb597548bbc"
   },
   "outputs": [
    {
     "name": "stdout",
     "output_type": "stream",
     "text": [
      "Accuracy: 0.7857142686843872\n"
     ]
    }
   ],
   "source": [
    "print('Accuracy: {0}'.format(str(acc)))"
   ]
  },
  {
   "cell_type": "code",
   "execution_count": 20,
   "metadata": {
    "colab": {
     "base_uri": "https://localhost:8080/"
    },
    "id": "XG20SokF0s3j",
    "outputId": "c63fd960-5872-48e3-f957-21f7dca7c382"
   },
   "outputs": [
    {
     "name": "stdout",
     "output_type": "stream",
     "text": [
      "Log loss: 1.1112045869231224\n"
     ]
    }
   ],
   "source": [
    "print('Log loss: {0}'.format(loss))"
   ]
  },
  {
   "cell_type": "code",
   "execution_count": 21,
   "metadata": {
    "colab": {
     "base_uri": "https://localhost:8080/"
    },
    "id": "XpgvVOnS2L6k",
    "outputId": "a80bc32e-ca5b-4183-90c9-a9936b89ec65"
   },
   "outputs": [
    {
     "name": "stdout",
     "output_type": "stream",
     "text": [
      "Precision: 0.8277777777777778\n"
     ]
    }
   ],
   "source": [
    "print('Precision: {0}'.format(precision))"
   ]
  },
  {
   "cell_type": "code",
   "execution_count": 22,
   "metadata": {
    "colab": {
     "base_uri": "https://localhost:8080/"
    },
    "id": "QIVQf9uU3AE8",
    "outputId": "6a498ab0-ffb3-41b1-e0b4-424be81def73"
   },
   "outputs": [
    {
     "name": "stdout",
     "output_type": "stream",
     "text": [
      "Recall: 0.8248015873015874\n"
     ]
    }
   ],
   "source": [
    "print('Recall: {0}'.format(recall))"
   ]
  },
  {
   "cell_type": "code",
   "execution_count": 23,
   "metadata": {
    "colab": {
     "base_uri": "https://localhost:8080/"
    },
    "id": "mpE7P4v73EKj",
    "outputId": "860767cb-acf4-403b-df19-c8046ab10637"
   },
   "outputs": [
    {
     "name": "stdout",
     "output_type": "stream",
     "text": [
      "F1 score: 0.7968933027756556\n"
     ]
    }
   ],
   "source": [
    "print('F1 score: {0}'.format(f1_score))"
   ]
  },
  {
   "cell_type": "code",
   "execution_count": 24,
   "metadata": {
    "colab": {
     "base_uri": "https://localhost:8080/"
    },
    "id": "y4KuKrS01tb1",
    "outputId": "7eb785c9-73c7-4fcc-d574-c82754ae6191"
   },
   "outputs": [
    {
     "name": "stdout",
     "output_type": "stream",
     "text": [
      "Classification report: \n",
      "              precision    recall  f1-score   support\n",
      "\n",
      "           0       0.47      1.00      0.64         7\n",
      "           1       0.89      1.00      0.94         8\n",
      "           2       0.87      0.72      0.79        18\n",
      "           3       0.92      0.69      0.79        16\n",
      "           4       1.00      0.71      0.83         7\n",
      "\n",
      "    accuracy                           0.79        56\n",
      "   macro avg       0.83      0.82      0.80        56\n",
      "weighted avg       0.85      0.79      0.80        56\n",
      "\n"
     ]
    }
   ],
   "source": [
    "print('Classification report: \\n{0}'.format(matrix))"
   ]
  }
 ],
 "metadata": {
  "colab": {
   "collapsed_sections": [
    "xBj5aWGiu6_l",
    "hpsI7BGbqcdF",
    "cUyUkoFOqiJy",
    "qhq0VFhiwnLR",
    "4PlJnLBy4CSM",
    "8bExuG7-2htJ",
    "2KZmxp1w4Q5Y",
    "CXvyQLHL2Evi",
    "CsD4Sovc46uL",
    "o7GFsn4n6jqU",
    "8hr-CMTV6lza",
    "5Lbykyvx6nrH",
    "2Q2kXbBw664E",
    "pWM3y3237p-o",
    "4JPcTqVhAgsX",
    "l1DPMvPO7tNj"
   ],
   "name": "is-code.ipynb",
   "provenance": []
  },
  "kernelspec": {
   "display_name": "Python 3",
   "name": "python3"
  },
  "language_info": {
   "codemirror_mode": {
    "name": "ipython",
    "version": 3
   },
   "file_extension": ".py",
   "mimetype": "text/x-python",
   "name": "python",
   "nbconvert_exporter": "python",
   "pygments_lexer": "ipython3",
   "version": "3.9.5"
  }
 },
 "nbformat": 4,
 "nbformat_minor": 0
}