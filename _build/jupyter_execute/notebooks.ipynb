{
 "cells": [
  {
   "cell_type": "markdown",
   "metadata": {
    "id": "tRdpRtTSe3EH"
   },
   "source": [
    "### [Линк](https://colab.research.google.com/drive/1mguVQuMEn2mIfISPCf4I9P6rvjNAK2ub?usp=sharing) до самиот Notebook"
   ]
  },
  {
   "cell_type": "markdown",
   "metadata": {
    "id": "xBj5aWGiu6_l"
   },
   "source": [
    "### Вовед"
   ]
  },
  {
   "cell_type": "markdown",
   "metadata": {
    "id": "hpsI7BGbqcdF"
   },
   "source": [
    "#### Import на библиотеките кои се користат во кодот"
   ]
  },
  {
   "cell_type": "code",
   "execution_count": 1,
   "metadata": {
    "id": "h7vYNpukGweH"
   },
   "outputs": [],
   "source": [
    "from keras.models import Model\n",
    "from keras.layers import Dense, Input, Dropout, LSTM, Activation\n",
    "from keras.layers.embeddings import Embedding\n",
    "from sklearn.metrics import classification_report, f1_score, log_loss, precision_score, recall_score\n",
    "\n",
    "import csv\n",
    "import matplotlib.pyplot as plt\n",
    "import numpy as np\n",
    "import pandas as pd\n",
    "\n",
    "np.random.seed(1)"
   ]
  },
  {
   "cell_type": "markdown",
   "metadata": {
    "id": "cUyUkoFOqiJy"
   },
   "source": [
    "#### Симнување на glove векторите за репрезентација на зборови"
   ]
  },
  {
   "cell_type": "code",
   "execution_count": 2,
   "metadata": {
    "colab": {
     "base_uri": "https://localhost:8080/"
    },
    "id": "-dknM0a2mUvr",
    "outputId": "b22ee1dd-b0d1-47c6-feee-982766945f9c"
   },
   "outputs": [
    {
     "name": "stdout",
     "output_type": "stream",
     "text": [
      "--2021-06-08 18:56:00--  http://nlp.stanford.edu/data/glove.6B.zip\r\n",
      "Resolving nlp.stanford.edu (nlp.stanford.edu)... 171.64.67.140\r\n",
      "Connecting to nlp.stanford.edu (nlp.stanford.edu)|171.64.67.140|:80... "
     ]
    },
    {
     "name": "stdout",
     "output_type": "stream",
     "text": [
      "connected.\r\n",
      "HTTP request sent, awaiting response... "
     ]
    },
    {
     "name": "stdout",
     "output_type": "stream",
     "text": [
      "302 Found\r\n",
      "Location: https://nlp.stanford.edu/data/glove.6B.zip [following]\r\n",
      "--2021-06-08 18:56:01--  https://nlp.stanford.edu/data/glove.6B.zip\r\n"
     ]
    },
    {
     "name": "stdout",
     "output_type": "stream",
     "text": [
      "Loaded CA certificate '/etc/ssl/certs/ca-certificates.crt'\r\n",
      "Connecting to nlp.stanford.edu (nlp.stanford.edu)|171.64.67.140|:443... "
     ]
    },
    {
     "name": "stdout",
     "output_type": "stream",
     "text": [
      "connected.\r\n"
     ]
    },
    {
     "name": "stdout",
     "output_type": "stream",
     "text": [
      "HTTP request sent, awaiting response... "
     ]
    },
    {
     "name": "stdout",
     "output_type": "stream",
     "text": [
      "301 Moved Permanently\r\n",
      "Location: http://downloads.cs.stanford.edu/nlp/data/glove.6B.zip [following]\r\n",
      "--2021-06-08 18:56:02--  http://downloads.cs.stanford.edu/nlp/data/glove.6B.zip\r\n",
      "Resolving downloads.cs.stanford.edu (downloads.cs.stanford.edu)... "
     ]
    },
    {
     "name": "stdout",
     "output_type": "stream",
     "text": [
      "171.64.64.22\r\n",
      "Connecting to downloads.cs.stanford.edu (downloads.cs.stanford.edu)|171.64.64.22|:80... "
     ]
    },
    {
     "name": "stdout",
     "output_type": "stream",
     "text": [
      "connected.\r\n",
      "HTTP request sent, awaiting response... "
     ]
    },
    {
     "name": "stdout",
     "output_type": "stream",
     "text": [
      "200 OK\r\n",
      "Length: 862182613 (822M) [application/zip]\r\n",
      "Saving to: 'glove.6B.zip.2'\r\n",
      "\r\n",
      "\r",
      "glove.6B.zip.2        0%[                    ]       0  --.-KB/s               "
     ]
    },
    {
     "name": "stdout",
     "output_type": "stream",
     "text": [
      "\r",
      "glove.6B.zip.2        0%[                    ]  50.16K   131KB/s               "
     ]
    },
    {
     "name": "stdout",
     "output_type": "stream",
     "text": [
      "\r",
      "glove.6B.zip.2        0%[                    ] 114.28K   196KB/s               "
     ]
    },
    {
     "name": "stdout",
     "output_type": "stream",
     "text": [
      "\r",
      "glove.6B.zip.2        0%[                    ] 217.02K   201KB/s               "
     ]
    },
    {
     "name": "stdout",
     "output_type": "stream",
     "text": [
      "\r",
      "glove.6B.zip.2        0%[                    ] 547.91K   426KB/s               "
     ]
    },
    {
     "name": "stdout",
     "output_type": "stream",
     "text": [
      "\r",
      "glove.6B.zip.2        0%[                    ] 714.77K   480KB/s               "
     ]
    },
    {
     "name": "stdout",
     "output_type": "stream",
     "text": [
      "\r",
      "glove.6B.zip.2        0%[                    ] 878.80K   518KB/s               "
     ]
    },
    {
     "name": "stdout",
     "output_type": "stream",
     "text": [
      "\r",
      "glove.6B.zip.2        0%[                    ]   1.04M   562KB/s               "
     ]
    },
    {
     "name": "stdout",
     "output_type": "stream",
     "text": [
      "\r",
      "glove.6B.zip.2        0%[                    ]   1.25M   608KB/s               "
     ]
    },
    {
     "name": "stdout",
     "output_type": "stream",
     "text": [
      "\r",
      "glove.6B.zip.2        0%[                    ]   1.40M   623KB/s               "
     ]
    },
    {
     "name": "stdout",
     "output_type": "stream",
     "text": [
      "\r",
      "glove.6B.zip.2        0%[                    ]   1.60M   651KB/s               "
     ]
    },
    {
     "name": "stdout",
     "output_type": "stream",
     "text": [
      "\r",
      "glove.6B.zip.2        0%[                    ]   1.82M   685KB/s               "
     ]
    },
    {
     "name": "stdout",
     "output_type": "stream",
     "text": [
      "\r",
      "glove.6B.zip.2        0%[                    ]   2.01M   704KB/s               "
     ]
    },
    {
     "name": "stdout",
     "output_type": "stream",
     "text": [
      "\r",
      "glove.6B.zip.2        0%[                    ]   2.12M   696KB/s    eta 20m 7s "
     ]
    },
    {
     "name": "stdout",
     "output_type": "stream",
     "text": [
      "\r",
      "glove.6B.zip.2        0%[                    ]   2.30M   695KB/s    eta 20m 7s "
     ]
    },
    {
     "name": "stdout",
     "output_type": "stream",
     "text": [
      "\r",
      "glove.6B.zip.2        0%[                    ]   2.31M   657KB/s    eta 20m 7s "
     ]
    },
    {
     "name": "stdout",
     "output_type": "stream",
     "text": [
      "\r",
      "glove.6B.zip.2        0%[                    ]   2.60M   698KB/s    eta 20m 7s "
     ]
    },
    {
     "name": "stdout",
     "output_type": "stream",
     "text": [
      "\r",
      "glove.6B.zip.2        0%[                    ]   2.75M   703KB/s    eta 20m 7s "
     ]
    },
    {
     "name": "stdout",
     "output_type": "stream",
     "text": [
      "\r",
      "glove.6B.zip.2        0%[                    ]   2.94M   715KB/s    eta 19m 33s"
     ]
    },
    {
     "name": "stdout",
     "output_type": "stream",
     "text": [
      "\r",
      "glove.6B.zip.2        0%[                    ]   3.11M   721KB/s    eta 19m 33s"
     ]
    },
    {
     "name": "stdout",
     "output_type": "stream",
     "text": [
      "\r",
      "glove.6B.zip.2        0%[                    ]   3.28M   755KB/s    eta 19m 33s"
     ]
    },
    {
     "name": "stdout",
     "output_type": "stream",
     "text": [
      "\r",
      "glove.6B.zip.2        0%[                    ]   3.48M   792KB/s    eta 19m 33s"
     ]
    },
    {
     "name": "stdout",
     "output_type": "stream",
     "text": [
      "\r",
      "glove.6B.zip.2        0%[                    ]   3.54M   760KB/s    eta 20m 7s "
     ]
    },
    {
     "name": "stdout",
     "output_type": "stream",
     "text": [
      "\r",
      "glove.6B.zip.2        0%[                    ]   3.81M   846KB/s    eta 20m 7s "
     ]
    },
    {
     "name": "stdout",
     "output_type": "stream",
     "text": [
      "\r",
      "glove.6B.zip.2        0%[                    ]   3.94M   809KB/s    eta 20m 7s "
     ]
    },
    {
     "name": "stdout",
     "output_type": "stream",
     "text": [
      "\r",
      "glove.6B.zip.2        0%[                    ]   4.11M   808KB/s    eta 20m 7s "
     ]
    },
    {
     "name": "stdout",
     "output_type": "stream",
     "text": [
      "\r",
      "glove.6B.zip.2        0%[                    ]   4.24M   802KB/s    eta 20m 7s "
     ]
    },
    {
     "name": "stdout",
     "output_type": "stream",
     "text": [
      "\r",
      "glove.6B.zip.2        0%[                    ]   4.38M   796KB/s    eta 19m 29s"
     ]
    },
    {
     "name": "stdout",
     "output_type": "stream",
     "text": [
      "\r",
      "glove.6B.zip.2        0%[                    ]   4.54M   787KB/s    eta 19m 29s"
     ]
    },
    {
     "name": "stdout",
     "output_type": "stream",
     "text": [
      "\r",
      "glove.6B.zip.2        0%[                    ]   4.71M   782KB/s    eta 19m 29s"
     ]
    },
    {
     "name": "stdout",
     "output_type": "stream",
     "text": [
      "\r",
      "glove.6B.zip.2        0%[                    ]   4.84M   767KB/s    eta 19m 29s"
     ]
    },
    {
     "name": "stdout",
     "output_type": "stream",
     "text": [
      "\r",
      "glove.6B.zip.2        0%[                    ]   4.94M   707KB/s    eta 20m 1s "
     ]
    },
    {
     "name": "stdout",
     "output_type": "stream",
     "text": [
      "\r",
      "glove.6B.zip.2        0%[                    ]   5.17M   723KB/s    eta 20m 1s "
     ]
    },
    {
     "name": "stdout",
     "output_type": "stream",
     "text": [
      "\r",
      "glove.6B.zip.2        0%[                    ]   5.29M   711KB/s    eta 20m 1s "
     ]
    },
    {
     "name": "stdout",
     "output_type": "stream",
     "text": [
      "\r",
      "glove.6B.zip.2        0%[                    ]   5.40M   694KB/s    eta 20m 1s "
     ]
    },
    {
     "name": "stdout",
     "output_type": "stream",
     "text": [
      "\r",
      "glove.6B.zip.2        0%[                    ]   5.51M   680KB/s    eta 20m 1s "
     ]
    },
    {
     "name": "stdout",
     "output_type": "stream",
     "text": [
      "\r",
      "glove.6B.zip.2        0%[                    ]   5.63M   672KB/s    eta 20m 12s"
     ]
    },
    {
     "name": "stdout",
     "output_type": "stream",
     "text": [
      "\r",
      "glove.6B.zip.2        0%[                    ]   5.76M   662KB/s    eta 20m 12s"
     ]
    },
    {
     "name": "stdout",
     "output_type": "stream",
     "text": [
      "\r",
      "glove.6B.zip.2        0%[                    ]   5.89M   655KB/s    eta 20m 12s"
     ]
    },
    {
     "name": "stdout",
     "output_type": "stream",
     "text": [
      "\r",
      "glove.6B.zip.2        0%[                    ]   6.00M   641KB/s    eta 20m 12s"
     ]
    },
    {
     "name": "stdout",
     "output_type": "stream",
     "text": [
      "\r",
      "glove.6B.zip.2        0%[                    ]   6.14M   670KB/s    eta 20m 12s"
     ]
    },
    {
     "name": "stdout",
     "output_type": "stream",
     "text": [
      "\r",
      "glove.6B.zip.2        0%[                    ]   6.27M   637KB/s    eta 20m 22s"
     ]
    },
    {
     "name": "stdout",
     "output_type": "stream",
     "text": [
      "\r",
      "glove.6B.zip.2        0%[                    ]   6.37M   628KB/s    eta 20m 22s"
     ]
    },
    {
     "name": "stdout",
     "output_type": "stream",
     "text": [
      "\r",
      "glove.6B.zip.2        0%[                    ]   6.51M   632KB/s    eta 20m 22s"
     ]
    },
    {
     "name": "stdout",
     "output_type": "stream",
     "text": [
      "\r",
      "glove.6B.zip.2        0%[                    ]   6.60M   618KB/s    eta 20m 22s"
     ]
    },
    {
     "name": "stdout",
     "output_type": "stream",
     "text": [
      "\r",
      "glove.6B.zip.2        0%[                    ]   6.76M   618KB/s    eta 20m 22s"
     ]
    },
    {
     "name": "stdout",
     "output_type": "stream",
     "text": [
      "\r",
      "glove.6B.zip.2        0%[                    ]   6.87M   609KB/s    eta 20m 37s"
     ]
    },
    {
     "name": "stdout",
     "output_type": "stream",
     "text": [
      "\r",
      "glove.6B.zip.2        0%[                    ]   6.99M   595KB/s    eta 20m 37s"
     ]
    },
    {
     "name": "stdout",
     "output_type": "stream",
     "text": [
      "\r",
      "glove.6B.zip.2        0%[                    ]   7.11M   617KB/s    eta 20m 37s"
     ]
    },
    {
     "name": "stdout",
     "output_type": "stream",
     "text": [
      "\r",
      "glove.6B.zip.2        0%[                    ]   7.24M   592KB/s    eta 20m 37s"
     ]
    },
    {
     "name": "stdout",
     "output_type": "stream",
     "text": [
      "\r",
      "glove.6B.zip.2        0%[                    ]   7.37M   601KB/s    eta 20m 37s"
     ]
    },
    {
     "name": "stdout",
     "output_type": "stream",
     "text": [
      "\r",
      "glove.6B.zip.2        0%[                    ]   7.47M   596KB/s    eta 20m 53s"
     ]
    },
    {
     "name": "stdout",
     "output_type": "stream",
     "text": [
      "\r",
      "glove.6B.zip.2        0%[                    ]   7.60M   599KB/s    eta 20m 53s"
     ]
    },
    {
     "name": "stdout",
     "output_type": "stream",
     "text": [
      "\r",
      "glove.6B.zip.2        0%[                    ]   7.71M   601KB/s    eta 20m 53s"
     ]
    },
    {
     "name": "stdout",
     "output_type": "stream",
     "text": [
      "\r",
      "glove.6B.zip.2        0%[                    ]   7.84M   603KB/s    eta 20m 53s"
     ]
    },
    {
     "name": "stdout",
     "output_type": "stream",
     "text": [
      "\r",
      "glove.6B.zip.2        0%[                    ]   7.93M   578KB/s    eta 20m 53s"
     ]
    },
    {
     "name": "stdout",
     "output_type": "stream",
     "text": [
      "\r",
      "glove.6B.zip.2        0%[                    ]   8.07M   579KB/s    eta 21m 16s"
     ]
    },
    {
     "name": "stdout",
     "output_type": "stream",
     "text": [
      "\r",
      "glove.6B.zip.2        0%[                    ]   8.20M   580KB/s    eta 21m 16s"
     ]
    },
    {
     "name": "stdout",
     "output_type": "stream",
     "text": [
      "\r",
      "glove.6B.zip.2        1%[                    ]   8.34M   585KB/s    eta 21m 16s"
     ]
    },
    {
     "name": "stdout",
     "output_type": "stream",
     "text": [
      "\r",
      "glove.6B.zip.2        1%[                    ]   8.48M   590KB/s    eta 21m 16s"
     ]
    },
    {
     "name": "stdout",
     "output_type": "stream",
     "text": [
      "\r",
      "glove.6B.zip.2        1%[                    ]   8.62M   594KB/s    eta 21m 16s"
     ]
    },
    {
     "name": "stdout",
     "output_type": "stream",
     "text": [
      "\r",
      "glove.6B.zip.2        1%[                    ]   8.78M   599KB/s    eta 21m 8s "
     ]
    },
    {
     "name": "stdout",
     "output_type": "stream",
     "text": [
      "\r",
      "glove.6B.zip.2        1%[                    ]   8.91M   604KB/s    eta 21m 8s "
     ]
    },
    {
     "name": "stdout",
     "output_type": "stream",
     "text": [
      "\r",
      "glove.6B.zip.2        1%[                    ]   9.07M   606KB/s    eta 21m 8s "
     ]
    },
    {
     "name": "stdout",
     "output_type": "stream",
     "text": [
      "\r",
      "glove.6B.zip.2        1%[                    ]   9.25M   617KB/s    eta 21m 8s "
     ]
    },
    {
     "name": "stdout",
     "output_type": "stream",
     "text": [
      "\r",
      "glove.6B.zip.2        1%[                    ]   9.44M   632KB/s    eta 21m 8s "
     ]
    },
    {
     "name": "stdout",
     "output_type": "stream",
     "text": [
      "\r",
      "glove.6B.zip.2        1%[                    ]   9.63M   652KB/s    eta 20m 50s"
     ]
    },
    {
     "name": "stdout",
     "output_type": "stream",
     "text": [
      "\r",
      "glove.6B.zip.2        1%[                    ]   9.79M   656KB/s    eta 20m 50s"
     ]
    },
    {
     "name": "stdout",
     "output_type": "stream",
     "text": [
      "\r",
      "glove.6B.zip.2        1%[                    ]   9.96M   667KB/s    eta 20m 50s"
     ]
    },
    {
     "name": "stdout",
     "output_type": "stream",
     "text": [
      "\r",
      "glove.6B.zip.2        1%[                    ]  10.15M   682KB/s    eta 20m 50s"
     ]
    },
    {
     "name": "stdout",
     "output_type": "stream",
     "text": [
      "\r",
      "glove.6B.zip.2        1%[                    ]  10.34M   694KB/s    eta 20m 50s"
     ]
    },
    {
     "name": "stdout",
     "output_type": "stream",
     "text": [
      "\r",
      "glove.6B.zip.2        1%[                    ]  10.57M   724KB/s    eta 20m 24s"
     ]
    },
    {
     "name": "stdout",
     "output_type": "stream",
     "text": [
      "\r",
      "glove.6B.zip.2        1%[                    ]  10.76M   741KB/s    eta 20m 24s"
     ]
    },
    {
     "name": "stdout",
     "output_type": "stream",
     "text": [
      "\r",
      "glove.6B.zip.2        1%[                    ]  10.98M   796KB/s    eta 20m 24s"
     ]
    },
    {
     "name": "stdout",
     "output_type": "stream",
     "text": [
      "\r",
      "glove.6B.zip.2        1%[                    ]  11.18M   817KB/s    eta 20m 24s"
     ]
    },
    {
     "name": "stdout",
     "output_type": "stream",
     "text": [
      "\r",
      "glove.6B.zip.2        1%[                    ]  11.42M   847KB/s    eta 20m 24s"
     ]
    },
    {
     "name": "stdout",
     "output_type": "stream",
     "text": [
      "\r",
      "glove.6B.zip.2        1%[                    ]  11.66M   875KB/s    eta 19m 39s"
     ]
    },
    {
     "name": "stdout",
     "output_type": "stream",
     "text": [
      "\r",
      "glove.6B.zip.2        1%[                    ]  11.86M   866KB/s    eta 19m 39s"
     ]
    },
    {
     "name": "stdout",
     "output_type": "stream",
     "text": [
      "\r",
      "glove.6B.zip.2        1%[                    ]  12.30M   945KB/s    eta 19m 39s"
     ]
    },
    {
     "name": "stdout",
     "output_type": "stream",
     "text": [
      "\r",
      "glove.6B.zip.2        1%[                    ]  12.53M   968KB/s    eta 19m 39s"
     ]
    },
    {
     "name": "stdout",
     "output_type": "stream",
     "text": [
      "\r",
      "glove.6B.zip.2        1%[                    ]  12.72M   979KB/s    eta 19m 2s "
     ]
    },
    {
     "name": "stdout",
     "output_type": "stream",
     "text": [
      "\r",
      "glove.6B.zip.2        1%[                    ]  12.91M   989KB/s    eta 19m 2s "
     ]
    },
    {
     "name": "stdout",
     "output_type": "stream",
     "text": [
      "\r",
      "glove.6B.zip.2        1%[                    ]  13.08M  1003KB/s    eta 19m 2s "
     ]
    },
    {
     "name": "stdout",
     "output_type": "stream",
     "text": [
      "\r",
      "glove.6B.zip.2        1%[                    ]  13.31M  1024KB/s    eta 19m 2s "
     ]
    },
    {
     "name": "stdout",
     "output_type": "stream",
     "text": [
      "\r",
      "glove.6B.zip.2        1%[                    ]  13.49M  1.00MB/s    eta 19m 2s "
     ]
    },
    {
     "name": "stdout",
     "output_type": "stream",
     "text": [
      "\r",
      "glove.6B.zip.2        1%[                    ]  13.73M  1.03MB/s    eta 18m 38s"
     ]
    },
    {
     "name": "stdout",
     "output_type": "stream",
     "text": [
      "\r",
      "glove.6B.zip.2        1%[                    ]  13.90M  1004KB/s    eta 18m 38s"
     ]
    },
    {
     "name": "stdout",
     "output_type": "stream",
     "text": [
      "\r",
      "glove.6B.zip.2        1%[                    ]  14.29M  1.03MB/s    eta 18m 38s"
     ]
    },
    {
     "name": "stdout",
     "output_type": "stream",
     "text": [
      "\r",
      "glove.6B.zip.2        1%[                    ]  14.46M  1.02MB/s    eta 18m 38s"
     ]
    },
    {
     "name": "stdout",
     "output_type": "stream",
     "text": [
      "\r",
      "glove.6B.zip.2        1%[                    ]  14.64M  1.02MB/s    eta 18m 38s"
     ]
    },
    {
     "name": "stdout",
     "output_type": "stream",
     "text": [
      "\r",
      "glove.6B.zip.2        1%[                    ]  14.82M  1017KB/s    eta 18m 21s"
     ]
    },
    {
     "name": "stdout",
     "output_type": "stream",
     "text": [
      "\r",
      "glove.6B.zip.2        1%[                    ]  15.03M  1004KB/s    eta 18m 21s"
     ]
    },
    {
     "name": "stdout",
     "output_type": "stream",
     "text": [
      "\r",
      "glove.6B.zip.2        1%[                    ]  15.21M   975KB/s    eta 18m 21s"
     ]
    },
    {
     "name": "stdout",
     "output_type": "stream",
     "text": [
      "\r",
      "glove.6B.zip.2        1%[                    ]  15.41M  1.01MB/s    eta 18m 21s"
     ]
    },
    {
     "name": "stdout",
     "output_type": "stream",
     "text": [
      "\r",
      "glove.6B.zip.2        1%[                    ]  15.62M   968KB/s    eta 18m 21s"
     ]
    },
    {
     "name": "stdout",
     "output_type": "stream",
     "text": [
      "\r",
      "glove.6B.zip.2        1%[                    ]  15.82M   956KB/s    eta 18m 4s "
     ]
    },
    {
     "name": "stdout",
     "output_type": "stream",
     "text": [
      "\r",
      "glove.6B.zip.2        1%[                    ]  16.04M   957KB/s    eta 18m 4s "
     ]
    },
    {
     "name": "stdout",
     "output_type": "stream",
     "text": [
      "\r",
      "glove.6B.zip.2        1%[                    ]  16.23M   967KB/s    eta 18m 4s "
     ]
    },
    {
     "name": "stdout",
     "output_type": "stream",
     "text": [
      "\r",
      "glove.6B.zip.2        1%[                    ]  16.36M   956KB/s    eta 18m 4s "
     ]
    },
    {
     "name": "stdout",
     "output_type": "stream",
     "text": [
      "\r",
      "glove.6B.zip.2        2%[                    ]  16.55M   921KB/s    eta 18m 4s "
     ]
    },
    {
     "name": "stdout",
     "output_type": "stream",
     "text": [
      "\r",
      "glove.6B.zip.2        2%[                    ]  16.65M   828KB/s    eta 18m 18s"
     ]
    },
    {
     "name": "stdout",
     "output_type": "stream",
     "text": [
      "\r",
      "glove.6B.zip.2        2%[                    ]  16.97M   850KB/s    eta 18m 18s"
     ]
    },
    {
     "name": "stdout",
     "output_type": "stream",
     "text": [
      "\r",
      "glove.6B.zip.2        2%[                    ]  17.13M   884KB/s    eta 18m 18s"
     ]
    },
    {
     "name": "stdout",
     "output_type": "stream",
     "text": [
      "\r",
      "glove.6B.zip.2        2%[                    ]  17.29M   820KB/s    eta 18m 18s"
     ]
    },
    {
     "name": "stdout",
     "output_type": "stream",
     "text": [
      "\r",
      "glove.6B.zip.2        2%[                    ]  17.44M   818KB/s    eta 18m 18s"
     ]
    },
    {
     "name": "stdout",
     "output_type": "stream",
     "text": [
      "\r",
      "glove.6B.zip.2        2%[                    ]  17.61M   810KB/s    eta 18m 6s "
     ]
    },
    {
     "name": "stdout",
     "output_type": "stream",
     "text": [
      "\r",
      "glove.6B.zip.2        2%[                    ]  17.69M   757KB/s    eta 18m 6s "
     ]
    },
    {
     "name": "stdout",
     "output_type": "stream",
     "text": [
      "\r",
      "glove.6B.zip.2        2%[                    ]  17.85M   756KB/s    eta 18m 6s "
     ]
    },
    {
     "name": "stdout",
     "output_type": "stream",
     "text": [
      "\r",
      "glove.6B.zip.2        2%[                    ]  18.04M   745KB/s    eta 18m 6s "
     ]
    },
    {
     "name": "stdout",
     "output_type": "stream",
     "text": [
      "\r",
      "glove.6B.zip.2        2%[                    ]  18.05M   683KB/s    eta 18m 25s"
     ]
    },
    {
     "name": "stdout",
     "output_type": "stream",
     "text": [
      "\r",
      "glove.6B.zip.2        2%[                    ]  18.25M   675KB/s    eta 18m 25s"
     ]
    },
    {
     "name": "stdout",
     "output_type": "stream",
     "text": [
      "\r",
      "glove.6B.zip.2        2%[                    ]  18.34M   658KB/s    eta 18m 25s"
     ]
    },
    {
     "name": "stdout",
     "output_type": "stream",
     "text": [
      "\r",
      "glove.6B.zip.2        2%[                    ]  18.43M   641KB/s    eta 18m 25s"
     ]
    },
    {
     "name": "stdout",
     "output_type": "stream",
     "text": [
      "\r",
      "glove.6B.zip.2        2%[                    ]  18.54M   619KB/s    eta 18m 25s"
     ]
    },
    {
     "name": "stdout",
     "output_type": "stream",
     "text": [
      "\r",
      "glove.6B.zip.2        2%[                    ]  18.64M   572KB/s    eta 18m 34s"
     ]
    },
    {
     "name": "stdout",
     "output_type": "stream",
     "text": [
      "\r",
      "glove.6B.zip.2        2%[                    ]  18.73M   572KB/s    eta 18m 34s"
     ]
    },
    {
     "name": "stdout",
     "output_type": "stream",
     "text": [
      "\r",
      "glove.6B.zip.2        2%[                    ]  18.83M   545KB/s    eta 18m 34s"
     ]
    },
    {
     "name": "stdout",
     "output_type": "stream",
     "text": [
      "\r",
      "glove.6B.zip.2        2%[                    ]  18.88M   584KB/s    eta 18m 34s"
     ]
    },
    {
     "name": "stdout",
     "output_type": "stream",
     "text": [
      "\r",
      "glove.6B.zip.2        2%[                    ]  18.94M   506KB/s    eta 18m 34s"
     ]
    },
    {
     "name": "stdout",
     "output_type": "stream",
     "text": [
      "\r",
      "glove.6B.zip.2        2%[                    ]  19.04M   432KB/s    eta 19m 15s"
     ]
    },
    {
     "name": "stdout",
     "output_type": "stream",
     "text": [
      "\r",
      "glove.6B.zip.2        2%[                    ]  19.18M   420KB/s    eta 19m 15s"
     ]
    },
    {
     "name": "stdout",
     "output_type": "stream",
     "text": [
      "^C\r\n"
     ]
    },
    {
     "name": "stdout",
     "output_type": "stream",
     "text": [
      "fish: Unknown command: unzip\r\n",
      "fish: \r\n",
      "unzip glove*.zip\r\n",
      "^\r\n"
     ]
    }
   ],
   "source": [
    "!wget http://nlp.stanford.edu/data/glove.6B.zip\n",
    "!unzip glove*.zip"
   ]
  },
  {
   "cell_type": "markdown",
   "metadata": {
    "id": "qhq0VFhiwnLR"
   },
   "source": [
    "### Помошни функции"
   ]
  },
  {
   "cell_type": "markdown",
   "metadata": {
    "id": "4PlJnLBy4CSM"
   },
   "source": [
    "#### Исчитување на glove фајлот со вредности"
   ]
  },
  {
   "cell_type": "code",
   "execution_count": null,
   "metadata": {
    "id": "-qKz7uWfIjdx"
   },
   "outputs": [],
   "source": [
    "def read_glove_vecs(glove_file):\n",
    "    with open(glove_file, 'r', encoding=\"utf8\") as f:\n",
    "        words = set()\n",
    "        word_to_vec_map = {}\n",
    "        for line in f:\n",
    "            line = line.strip().split()\n",
    "            curr_word = line[0]\n",
    "            words.add(curr_word)\n",
    "            word_to_vec_map[curr_word] = np.array(line[1:], dtype=np.float64)\n",
    "\n",
    "        i = 1\n",
    "        words_to_index = {}\n",
    "        index_to_words = {}\n",
    "        for w in sorted(words):\n",
    "            words_to_index[w] = i\n",
    "            index_to_words[i] = w\n",
    "            i = i + 1\n",
    "            \n",
    "    return words_to_index, index_to_words, word_to_vec_map"
   ]
  },
  {
   "cell_type": "markdown",
   "metadata": {
    "id": "8bExuG7-2htJ"
   },
   "source": [
    "##### Softmax функцијата"
   ]
  },
  {
   "cell_type": "code",
   "execution_count": null,
   "metadata": {
    "id": "2jFMvyQJIo1L"
   },
   "outputs": [],
   "source": [
    "def softmax(x):\n",
    "    e_x = np.exp(x - np.max(x))\n",
    "    \n",
    "    return e_x / e_x.sum()"
   ]
  },
  {
   "cell_type": "markdown",
   "metadata": {
    "id": "2KZmxp1w4Q5Y"
   },
   "source": [
    "##### Читање на соодветните вредности од CSV train и test датотеките"
   ]
  },
  {
   "cell_type": "code",
   "execution_count": null,
   "metadata": {
    "id": "Z8J8vGNxIr23"
   },
   "outputs": [],
   "source": [
    "def read_csv(filename):\n",
    "    phrase = []\n",
    "    emoji_ = []\n",
    "\n",
    "    with open(filename) as csvDataFile:\n",
    "        csv_reader = csv.reader(csvDataFile)\n",
    "\n",
    "        for row in csv_reader:\n",
    "            phrase.append(row[0])\n",
    "            emoji_.append(row[1])\n",
    "\n",
    "    x = np.asarray(phrase)\n",
    "    y = np.asarray(emoji_, dtype=int)\n",
    "\n",
    "    return x, y\n"
   ]
  },
  {
   "cell_type": "markdown",
   "metadata": {
    "id": "CXvyQLHL2Evi"
   },
   "source": [
    "##### Излезите(бројки) ги претвора во one-hot вектори"
   ]
  },
  {
   "cell_type": "code",
   "execution_count": null,
   "metadata": {
    "id": "6l1ElPjaIzcP"
   },
   "outputs": [],
   "source": [
    "def convert_to_one_hot(y, c):\n",
    "    y = np.eye(c)[y.reshape(-1)]\n",
    "    \n",
    "    return y"
   ]
  },
  {
   "cell_type": "markdown",
   "metadata": {
    "id": "CsD4Sovc46uL"
   },
   "source": [
    "##### Предвидување на излезите при дадени елементи како влез"
   ]
  },
  {
   "cell_type": "code",
   "execution_count": null,
   "metadata": {
    "id": "UFMS7-IGJBrM"
   },
   "outputs": [],
   "source": [
    "def predict(X, Y, W, b, word_to_vec_map):\n",
    "    m = X.shape[0]\n",
    "    pred = np.zeros((m, 1))\n",
    "\n",
    "    for j in range(m):\n",
    "        words = X[j].lower().split()\n",
    "\n",
    "        avg = np.zeros((50,))\n",
    "        for w in words:\n",
    "            avg += word_to_vec_map[w]\n",
    "        avg = avg / len(words)\n",
    "\n",
    "        z = np.dot(W, avg) + b\n",
    "        a = softmax(z)\n",
    "        pred[j] = np.argmax(a)\n",
    "\n",
    "    print(\"Accuracy: \" + str(np.mean((pred[:] == Y.reshape(Y.shape[0], 1)[:]))))\n",
    "\n",
    "    return pred"
   ]
  },
  {
   "cell_type": "markdown",
   "metadata": {
    "id": "o7GFsn4n6jqU"
   },
   "source": [
    "##### Претворање на реченици дадени како влез во матрици од вредности"
   ]
  },
  {
   "cell_type": "code",
   "execution_count": null,
   "metadata": {
    "id": "sM3SlQUdKKKk"
   },
   "outputs": [],
   "source": [
    "def sentences_to_indices(X, word_to_index, max_len):\n",
    "    m = X.shape[0] \n",
    "    x_indices = np.zeros((m, max_len))\n",
    "\n",
    "    for i in range(m):\n",
    "        sentence_words = (X[i].lower()).split()\n",
    "        j = 0\n",
    "    \n",
    "        for w in sentence_words:\n",
    "            # i-тата вредност е редниот број на реченицата, j-тата е редниот\n",
    "            # број на зборот во неа. вредноста која се поставува е таа на \n",
    "            # соодветниот збор\n",
    "            x_indices[i, j] = word_to_index[w]\n",
    "            j = j + 1\n",
    "    \n",
    "    return x_indices"
   ]
  },
  {
   "cell_type": "markdown",
   "metadata": {
    "id": "8hr-CMTV6lza"
   },
   "source": [
    "##### Креирање на веќе истрениран Embedding слој со помош на glove векторите"
   ]
  },
  {
   "cell_type": "code",
   "execution_count": null,
   "metadata": {
    "id": "IR60_ZQIKWCc"
   },
   "outputs": [],
   "source": [
    "def pretrained_embedding_layer(word_to_vec_map, word_to_index):\n",
    "    vocab_len = len(word_to_index) + 1\n",
    "    emb_dim = word_to_vec_map[\"cucumber\"].shape[0]\n",
    "    emb_matrix = np.zeros((vocab_len, emb_dim))\n",
    "\n",
    "    for word, index in word_to_index.items():\n",
    "        emb_matrix[index, :] = word_to_vec_map[word]\n",
    "\n",
    "    embedding_layer = Embedding(vocab_len, emb_dim)\n",
    "    embedding_layer.build((None,))\n",
    "    embedding_layer.set_weights([emb_matrix])\n",
    "\n",
    "    return embedding_layer"
   ]
  },
  {
   "cell_type": "markdown",
   "metadata": {
    "id": "5Lbykyvx6nrH"
   },
   "source": [
    "##### Креирање на модел со соодветни предефинирани вредности"
   ]
  },
  {
   "cell_type": "code",
   "execution_count": null,
   "metadata": {
    "id": "2UH6KMEoKW6m"
   },
   "outputs": [],
   "source": [
    "def sentiment_analysis(input_shape, word_to_vec_map, word_to_index):\n",
    "    sentence_indices = Input(shape=input_shape, dtype=np.int32)\n",
    "    embedding_layer = pretrained_embedding_layer(word_to_vec_map, word_to_index)\n",
    "    embeddings = embedding_layer(sentence_indices)\n",
    "\n",
    "    # LSTM слој со 128-димензионален hidden state\n",
    "    X = LSTM(128, return_sequences=True)(embeddings)\n",
    "    \n",
    "    # Веројатност на зачувување од 0.5\n",
    "    X = Dropout(0.5)(X)\n",
    "    \n",
    "    # Уште еден LSTM слој со 128-димензионален hidden state\n",
    "    X = LSTM(128)(X)\n",
    "\n",
    "    X = Dropout(0.5)(X)\n",
    "    X = Dense(5, activation='softmax')(X)\n",
    "    X = Activation('softmax')(X)\n",
    "\n",
    "    model = Model(sentence_indices, X)\n",
    "\n",
    "    return model"
   ]
  },
  {
   "cell_type": "markdown",
   "metadata": {
    "id": "nDFhT4GJwtws"
   },
   "source": [
    "# Main дел"
   ]
  },
  {
   "cell_type": "markdown",
   "metadata": {
    "id": "2Q2kXbBw664E"
   },
   "source": [
    "##### Читање на train и test податоците, пренос на излезите како one-hot вектори, читање на векторите за репрезентација на зборови"
   ]
  },
  {
   "cell_type": "code",
   "execution_count": null,
   "metadata": {
    "id": "akJgOxOwrVm0"
   },
   "outputs": [],
   "source": [
    "X_train, Y_train = read_csv('train_set.csv')\n",
    "X_test, Y_test = read_csv('test_set.csv')\n",
    "\n",
    "maxLen = len(max(X_train, key=len).split())\n",
    "\n",
    "Y_oh_train = convert_to_one_hot(Y_train, 5)\n",
    "Y_oh_test = convert_to_one_hot(Y_test, 5)\n",
    "\n",
    "word_to_index_, index_to_word, word_to_vec_map_ = read_glove_vecs('glove.6B.50d.txt')"
   ]
  },
  {
   "cell_type": "markdown",
   "metadata": {
    "id": "pWM3y3237p-o"
   },
   "source": [
    "##### Креирање и тренирање на моделот"
   ]
  },
  {
   "cell_type": "code",
   "execution_count": null,
   "metadata": {
    "colab": {
     "base_uri": "https://localhost:8080/"
    },
    "id": "GEvEG5U-KZAz",
    "outputId": "870d6c07-7f2b-4ad1-894c-d8d71ef2d3f4"
   },
   "outputs": [
    {
     "name": "stdout",
     "output_type": "stream",
     "text": [
      "Model: \"model\"\n",
      "_________________________________________________________________\n",
      "Layer (type)                 Output Shape              Param #   \n",
      "=================================================================\n",
      "input_1 (InputLayer)         [(None, 10)]              0         \n",
      "_________________________________________________________________\n",
      "embedding (Embedding)        (None, 10, 50)            20000050  \n",
      "_________________________________________________________________\n",
      "lstm (LSTM)                  (None, 10, 128)           91648     \n",
      "_________________________________________________________________\n",
      "dropout (Dropout)            (None, 10, 128)           0         \n",
      "_________________________________________________________________\n",
      "lstm_1 (LSTM)                (None, 128)               131584    \n",
      "_________________________________________________________________\n",
      "dropout_1 (Dropout)          (None, 128)               0         \n",
      "_________________________________________________________________\n",
      "dense (Dense)                (None, 5)                 645       \n",
      "_________________________________________________________________\n",
      "activation (Activation)      (None, 5)                 0         \n",
      "=================================================================\n",
      "Total params: 20,223,927\n",
      "Trainable params: 20,223,927\n",
      "Non-trainable params: 0\n",
      "_________________________________________________________________\n",
      "Epoch 1/100\n",
      "5/5 [==============================] - 21s 272ms/step - loss: 1.6061 - accuracy: 0.2728\n",
      "Epoch 2/100\n",
      "5/5 [==============================] - 1s 238ms/step - loss: 1.5952 - accuracy: 0.2424\n",
      "Epoch 3/100\n",
      "5/5 [==============================] - 1s 239ms/step - loss: 1.5661 - accuracy: 0.2821\n",
      "Epoch 4/100\n",
      "5/5 [==============================] - 1s 242ms/step - loss: 1.5472 - accuracy: 0.2956\n",
      "Epoch 5/100\n",
      "5/5 [==============================] - 1s 237ms/step - loss: 1.5189 - accuracy: 0.3261\n",
      "Epoch 6/100\n",
      "5/5 [==============================] - 1s 234ms/step - loss: 1.4951 - accuracy: 0.5563\n",
      "Epoch 7/100\n",
      "5/5 [==============================] - 1s 233ms/step - loss: 1.4835 - accuracy: 0.5625\n",
      "Epoch 8/100\n",
      "5/5 [==============================] - 1s 238ms/step - loss: 1.3809 - accuracy: 0.6539\n",
      "Epoch 9/100\n",
      "5/5 [==============================] - 1s 240ms/step - loss: 1.3345 - accuracy: 0.6549\n",
      "Epoch 10/100\n",
      "5/5 [==============================] - 1s 234ms/step - loss: 1.2729 - accuracy: 0.6551\n",
      "Epoch 11/100\n",
      "5/5 [==============================] - 1s 229ms/step - loss: 1.1999 - accuracy: 0.7318\n",
      "Epoch 12/100\n",
      "5/5 [==============================] - 1s 239ms/step - loss: 1.1691 - accuracy: 0.7776\n",
      "Epoch 13/100\n",
      "5/5 [==============================] - 1s 241ms/step - loss: 1.1644 - accuracy: 0.7775\n",
      "Epoch 14/100\n",
      "5/5 [==============================] - 1s 245ms/step - loss: 1.1074 - accuracy: 0.8059\n",
      "Epoch 15/100\n",
      "5/5 [==============================] - 1s 234ms/step - loss: 1.0865 - accuracy: 0.8437\n",
      "Epoch 16/100\n",
      "5/5 [==============================] - 1s 235ms/step - loss: 1.0571 - accuracy: 0.8628\n",
      "Epoch 17/100\n",
      "5/5 [==============================] - 1s 238ms/step - loss: 1.0498 - accuracy: 0.8823\n",
      "Epoch 18/100\n",
      "5/5 [==============================] - 1s 244ms/step - loss: 0.9934 - accuracy: 0.9337\n",
      "Epoch 19/100\n",
      "5/5 [==============================] - 1s 236ms/step - loss: 1.0008 - accuracy: 0.9149\n",
      "Epoch 20/100\n",
      "5/5 [==============================] - 1s 234ms/step - loss: 0.9849 - accuracy: 0.9266\n",
      "Epoch 21/100\n",
      "5/5 [==============================] - 1s 237ms/step - loss: 0.9725 - accuracy: 0.9519\n",
      "Epoch 22/100\n",
      "5/5 [==============================] - 1s 240ms/step - loss: 0.9700 - accuracy: 0.9412\n",
      "Epoch 23/100\n",
      "5/5 [==============================] - 1s 238ms/step - loss: 0.9801 - accuracy: 0.9439\n",
      "Epoch 24/100\n",
      "5/5 [==============================] - 1s 227ms/step - loss: 1.0582 - accuracy: 0.8471\n",
      "Epoch 25/100\n",
      "5/5 [==============================] - 1s 235ms/step - loss: 1.0434 - accuracy: 0.8594\n",
      "Epoch 26/100\n",
      "5/5 [==============================] - 1s 232ms/step - loss: 1.0118 - accuracy: 0.9062\n",
      "Epoch 27/100\n",
      "5/5 [==============================] - 1s 231ms/step - loss: 1.0515 - accuracy: 0.8589\n",
      "Epoch 28/100\n",
      "5/5 [==============================] - 1s 237ms/step - loss: 0.9676 - accuracy: 0.9425\n",
      "Epoch 29/100\n",
      "5/5 [==============================] - 1s 232ms/step - loss: 0.9737 - accuracy: 0.9392\n",
      "Epoch 30/100\n",
      "5/5 [==============================] - 1s 233ms/step - loss: 0.9906 - accuracy: 0.9202\n",
      "Epoch 31/100\n",
      "5/5 [==============================] - 1s 239ms/step - loss: 0.9909 - accuracy: 0.9149\n",
      "Epoch 32/100\n",
      "5/5 [==============================] - 1s 240ms/step - loss: 0.9792 - accuracy: 0.9312\n",
      "Epoch 33/100\n",
      "5/5 [==============================] - 1s 230ms/step - loss: 0.9593 - accuracy: 0.9503\n",
      "Epoch 34/100\n",
      "5/5 [==============================] - 1s 238ms/step - loss: 0.9853 - accuracy: 0.9248\n",
      "Epoch 35/100\n",
      "5/5 [==============================] - 1s 235ms/step - loss: 0.9583 - accuracy: 0.9533\n",
      "Epoch 36/100\n",
      "5/5 [==============================] - 1s 232ms/step - loss: 0.9465 - accuracy: 0.9659\n",
      "Epoch 37/100\n",
      "5/5 [==============================] - 1s 226ms/step - loss: 0.9469 - accuracy: 0.9652\n",
      "Epoch 38/100\n",
      "5/5 [==============================] - 1s 237ms/step - loss: 0.9420 - accuracy: 0.9670\n",
      "Epoch 39/100\n",
      "5/5 [==============================] - 1s 234ms/step - loss: 0.9368 - accuracy: 0.9734\n",
      "Epoch 40/100\n",
      "5/5 [==============================] - 1s 231ms/step - loss: 0.9342 - accuracy: 0.9734\n",
      "Epoch 41/100\n",
      "5/5 [==============================] - 1s 234ms/step - loss: 0.9312 - accuracy: 0.9760\n",
      "Epoch 42/100\n",
      "5/5 [==============================] - 1s 229ms/step - loss: 0.9417 - accuracy: 0.9639\n",
      "Epoch 43/100\n",
      "5/5 [==============================] - 1s 232ms/step - loss: 0.9427 - accuracy: 0.9621\n",
      "Epoch 44/100\n",
      "5/5 [==============================] - 1s 236ms/step - loss: 0.9287 - accuracy: 0.9769\n",
      "Epoch 45/100\n",
      "5/5 [==============================] - 1s 233ms/step - loss: 0.9259 - accuracy: 0.9799\n",
      "Epoch 46/100\n",
      "5/5 [==============================] - 1s 234ms/step - loss: 0.9429 - accuracy: 0.9621\n",
      "Epoch 47/100\n",
      "5/5 [==============================] - 1s 234ms/step - loss: 0.9405 - accuracy: 0.9647\n",
      "Epoch 48/100\n",
      "5/5 [==============================] - 1s 232ms/step - loss: 0.9426 - accuracy: 0.9613\n",
      "Epoch 49/100\n",
      "5/5 [==============================] - 1s 238ms/step - loss: 0.9343 - accuracy: 0.9704\n",
      "Epoch 50/100\n",
      "5/5 [==============================] - 1s 234ms/step - loss: 0.9272 - accuracy: 0.9786\n",
      "Epoch 51/100\n",
      "5/5 [==============================] - 1s 231ms/step - loss: 0.9421 - accuracy: 0.9609\n",
      "Epoch 52/100\n",
      "5/5 [==============================] - 1s 236ms/step - loss: 0.9471 - accuracy: 0.9560\n",
      "Epoch 53/100\n",
      "5/5 [==============================] - 1s 233ms/step - loss: 0.9422 - accuracy: 0.9613\n",
      "Epoch 54/100\n",
      "5/5 [==============================] - 1s 235ms/step - loss: 0.9428 - accuracy: 0.9595\n",
      "Epoch 55/100\n",
      "5/5 [==============================] - 1s 239ms/step - loss: 0.9325 - accuracy: 0.9785\n",
      "Epoch 56/100\n",
      "5/5 [==============================] - 1s 235ms/step - loss: 0.9187 - accuracy: 0.9889\n",
      "Epoch 57/100\n",
      "5/5 [==============================] - 1s 237ms/step - loss: 0.9252 - accuracy: 0.9837\n",
      "Epoch 58/100\n",
      "5/5 [==============================] - 1s 233ms/step - loss: 0.9270 - accuracy: 0.9785\n",
      "Epoch 59/100\n",
      "5/5 [==============================] - 1s 237ms/step - loss: 0.9249 - accuracy: 0.9811\n",
      "Epoch 60/100\n",
      "5/5 [==============================] - 1s 234ms/step - loss: 0.9331 - accuracy: 0.9732\n",
      "Epoch 61/100\n",
      "5/5 [==============================] - 1s 242ms/step - loss: 0.9251 - accuracy: 0.9811\n",
      "Epoch 62/100\n",
      "5/5 [==============================] - 1s 235ms/step - loss: 0.9193 - accuracy: 0.9863\n",
      "Epoch 63/100\n",
      "5/5 [==============================] - 1s 238ms/step - loss: 0.9217 - accuracy: 0.9837\n",
      "Epoch 64/100\n",
      "5/5 [==============================] - 1s 239ms/step - loss: 0.9145 - accuracy: 0.9906\n",
      "Epoch 65/100\n",
      "5/5 [==============================] - 1s 236ms/step - loss: 0.9227 - accuracy: 0.9828\n",
      "Epoch 66/100\n",
      "5/5 [==============================] - 1s 232ms/step - loss: 0.9169 - accuracy: 0.9880\n",
      "Epoch 67/100\n",
      "5/5 [==============================] - 1s 238ms/step - loss: 0.9207 - accuracy: 0.9837\n",
      "Epoch 68/100\n",
      "5/5 [==============================] - 1s 235ms/step - loss: 0.9164 - accuracy: 0.9880\n",
      "Epoch 69/100\n",
      "5/5 [==============================] - 1s 242ms/step - loss: 0.9218 - accuracy: 0.9828\n",
      "Epoch 70/100\n",
      "5/5 [==============================] - 1s 236ms/step - loss: 0.9179 - accuracy: 0.9866\n",
      "Epoch 71/100\n",
      "5/5 [==============================] - 1s 232ms/step - loss: 0.9082 - accuracy: 0.9975\n",
      "Epoch 72/100\n",
      "5/5 [==============================] - 1s 238ms/step - loss: 0.9126 - accuracy: 0.9944\n",
      "Epoch 73/100\n",
      "5/5 [==============================] - 1s 232ms/step - loss: 0.9195 - accuracy: 0.9866\n",
      "Epoch 74/100\n",
      "5/5 [==============================] - 1s 229ms/step - loss: 0.9121 - accuracy: 0.9944\n",
      "Epoch 75/100\n",
      "5/5 [==============================] - 1s 233ms/step - loss: 0.9163 - accuracy: 0.9906\n",
      "Epoch 76/100\n",
      "5/5 [==============================] - 1s 242ms/step - loss: 0.9336 - accuracy: 0.9785\n",
      "Epoch 77/100\n",
      "5/5 [==============================] - 1s 233ms/step - loss: 0.9120 - accuracy: 0.9944\n",
      "Epoch 78/100\n",
      "5/5 [==============================] - 1s 234ms/step - loss: 0.9235 - accuracy: 0.9824\n",
      "Epoch 79/100\n",
      "5/5 [==============================] - 1s 233ms/step - loss: 0.9113 - accuracy: 0.9962\n",
      "Epoch 80/100\n",
      "5/5 [==============================] - 1s 235ms/step - loss: 0.9102 - accuracy: 0.9962\n",
      "Epoch 81/100\n",
      "5/5 [==============================] - 1s 239ms/step - loss: 0.9119 - accuracy: 0.9944\n",
      "Epoch 82/100\n",
      "5/5 [==============================] - 1s 233ms/step - loss: 0.9088 - accuracy: 0.9975\n",
      "Epoch 83/100\n",
      "5/5 [==============================] - 1s 242ms/step - loss: 0.9185 - accuracy: 0.9866\n",
      "Epoch 84/100\n",
      "5/5 [==============================] - 1s 240ms/step - loss: 0.9134 - accuracy: 0.9918\n",
      "Epoch 85/100\n",
      "5/5 [==============================] - 1s 241ms/step - loss: 0.9133 - accuracy: 0.9918\n",
      "Epoch 86/100\n",
      "5/5 [==============================] - 1s 241ms/step - loss: 0.9092 - accuracy: 0.9962\n",
      "Epoch 87/100\n",
      "5/5 [==============================] - 1s 243ms/step - loss: 0.9106 - accuracy: 0.9944\n",
      "Epoch 88/100\n",
      "5/5 [==============================] - 1s 241ms/step - loss: 0.9129 - accuracy: 0.9918\n",
      "Epoch 89/100\n",
      "5/5 [==============================] - 1s 231ms/step - loss: 0.9087 - accuracy: 0.9962\n",
      "Epoch 90/100\n",
      "5/5 [==============================] - 1s 235ms/step - loss: 0.9132 - accuracy: 0.9918\n",
      "Epoch 91/100\n",
      "5/5 [==============================] - 1s 240ms/step - loss: 0.9090 - accuracy: 0.9962\n",
      "Epoch 92/100\n",
      "5/5 [==============================] - 1s 240ms/step - loss: 0.9079 - accuracy: 0.9975\n",
      "Epoch 93/100\n",
      "5/5 [==============================] - 1s 229ms/step - loss: 0.9133 - accuracy: 0.9918\n",
      "Epoch 94/100\n",
      "5/5 [==============================] - 1s 236ms/step - loss: 0.9187 - accuracy: 0.9866\n",
      "Epoch 95/100\n",
      "5/5 [==============================] - 1s 234ms/step - loss: 0.9185 - accuracy: 0.9866\n",
      "Epoch 96/100\n",
      "5/5 [==============================] - 1s 228ms/step - loss: 0.9106 - accuracy: 0.9944\n",
      "Epoch 97/100\n",
      "5/5 [==============================] - 1s 239ms/step - loss: 0.9108 - accuracy: 0.9944\n",
      "Epoch 98/100\n",
      "5/5 [==============================] - 1s 235ms/step - loss: 0.9088 - accuracy: 0.9962\n",
      "Epoch 99/100\n",
      "5/5 [==============================] - 1s 233ms/step - loss: 0.9089 - accuracy: 0.9962\n",
      "Epoch 100/100\n",
      "5/5 [==============================] - 1s 232ms/step - loss: 0.9107 - accuracy: 0.9944\n"
     ]
    },
    {
     "data": {
      "text/plain": [
       "<keras.callbacks.History at 0x7f31f862e1d0>"
      ]
     },
     "execution_count": 12,
     "metadata": {
      "tags": []
     },
     "output_type": "execute_result"
    }
   ],
   "source": [
    "model = sentiment_analysis((maxLen,), word_to_vec_map_, word_to_index_)\n",
    "model.summary()\n",
    "model.compile(loss='categorical_crossentropy', optimizer='adam', metrics=['accuracy'])\n",
    "\n",
    "X_train_indices = sentences_to_indices(X_train, word_to_index_, maxLen)\n",
    "Y_train_oh = convert_to_one_hot(Y_train, 5)\n",
    "\n",
    "model.fit(X_train_indices, Y_train_oh, epochs=100, batch_size=32, shuffle=True)"
   ]
  },
  {
   "cell_type": "markdown",
   "metadata": {
    "id": "4JPcTqVhAgsX"
   },
   "source": [
    "##### Тестирање на моделот со test податоците"
   ]
  },
  {
   "cell_type": "code",
   "execution_count": null,
   "metadata": {
    "colab": {
     "base_uri": "https://localhost:8080/"
    },
    "id": "z-0mnqnT_5Ww",
    "outputId": "a68903e1-bb14-426d-9e23-efff6aaa4e37"
   },
   "outputs": [
    {
     "name": "stdout",
     "output_type": "stream",
     "text": [
      "2/2 [==============================] - 1s 13ms/step - loss: 1.0379 - accuracy: 0.8750\n",
      "\n",
      "Accuracy  0.875\n"
     ]
    }
   ],
   "source": [
    "X_test_indices = sentences_to_indices(X_test, word_to_index_, max_len=maxLen)\n",
    "Y_test_oh = convert_to_one_hot(Y_test, 5)\n",
    "\n",
    "loss, acc = model.evaluate(X_test_indices, Y_test_oh)\n",
    "print()\n",
    "print(\"Accuracy \", acc)"
   ]
  },
  {
   "cell_type": "markdown",
   "metadata": {
    "id": "l1DPMvPO7tNj"
   },
   "source": [
    "##### Преглед на влезовите кои се грешно предвидени и дополнителни метрики за евалуација"
   ]
  },
  {
   "cell_type": "code",
   "execution_count": null,
   "metadata": {
    "colab": {
     "base_uri": "https://localhost:8080/"
    },
    "id": "2aj86ce1oNuZ",
    "outputId": "16ff9593-6918-487b-be6a-469d6be4fd2c"
   },
   "outputs": [
    {
     "name": "stdout",
     "output_type": "stream",
     "text": [
      "Input: This girl is messing with me\n",
      "Expected class: 3\n",
      "Predicted class: 0\n",
      "\n",
      "Input: work is horrible\n",
      "Expected class: 3\n",
      "Predicted class: 2\n",
      "\n",
      "Input: you brighten my day\n",
      "Expected class: 2\n",
      "Predicted class: 3\n",
      "\n",
      "Input: she is a bully\n",
      "Expected class: 3\n",
      "Predicted class: 0\n",
      "\n",
      "Input: will you be my valentine\n",
      "Expected class: 2\n",
      "Predicted class: 3\n",
      "\n",
      "Input: I do not want to joke\n",
      "Expected class: 3\n",
      "Predicted class: 0\n",
      "\n",
      "Input: go away\n",
      "Expected class: 3\n",
      "Predicted class: 1\n",
      "\n"
     ]
    }
   ],
   "source": [
    "y_test_oh = np.eye(5)[Y_test.reshape(-1)]\n",
    "X_test_indices = sentences_to_indices(X_test, word_to_index_, maxLen)\n",
    "pred = model.predict(X_test_indices)\n",
    "\n",
    "actual = []\n",
    "predicted = []\n",
    "\n",
    "for i in range(len(X_test)):\n",
    "    x = X_test_indices\n",
    "    num = np.argmax(pred[i])\n",
    "\n",
    "    actual.append(Y_test[i])\n",
    "    predicted.append(num)\n",
    "\n",
    "    if num != Y_test[i]:\n",
    "        print('Input: ' + str(X_test[i]))\n",
    "        print('Expected class: ' + str(Y_test[i]))\n",
    "        print('Predicted class: ' + str(num) + '\\n')\n",
    "\n",
    "precision = precision_score(actual, predicted, average='macro')\n",
    "recall = recall_score(actual, predicted, average='macro')\n",
    "f1_score = f1_score(actual, predicted, average='macro')\n",
    "loss = log_loss(actual, pred, eps=1e-15)\n",
    "matrix = classification_report(actual, predicted, labels=[0, 1, 2, 3, 4])"
   ]
  },
  {
   "cell_type": "markdown",
   "metadata": {
    "id": "vyV_vNZ5PpaQ"
   },
   "source": [
    "##### Тестирање на моделот со влезови од корисник"
   ]
  },
  {
   "cell_type": "code",
   "execution_count": null,
   "metadata": {
    "colab": {
     "base_uri": "https://localhost:8080/"
    },
    "id": "Fv1e3n5WPqB4",
    "outputId": "f1d6f3e3-fabd-4141-d60c-0213e2e56df1"
   },
   "outputs": [
    {
     "name": "stdout",
     "output_type": "stream",
     "text": [
      "Input: very happy\n",
      "Predicted class: 2\n",
      "\n"
     ]
    }
   ],
   "source": [
    "x_test = np.array(['very happy'])\n",
    "X_test_indices = sentences_to_indices(x_test, word_to_index_, maxLen)\n",
    "print('Input: ' + x_test[0])\n",
    "print('Predicted class: ' + str(np.argmax(model.predict(X_test_indices))) + '\\n')"
   ]
  },
  {
   "cell_type": "code",
   "execution_count": null,
   "metadata": {
    "colab": {
     "base_uri": "https://localhost:8080/"
    },
    "id": "4MPvk4NyX_-8",
    "outputId": "658a436a-3113-4b01-9912-14d2dfd67556"
   },
   "outputs": [
    {
     "name": "stdout",
     "output_type": "stream",
     "text": [
      "Input: very sad\n",
      "Predicted class: 3\n",
      "\n"
     ]
    }
   ],
   "source": [
    "x_test = np.array(['very sad'])\n",
    "X_test_indices = sentences_to_indices(x_test, word_to_index_, maxLen)\n",
    "print('Input: ' + x_test[0])\n",
    "print('Predicted class: ' + str(np.argmax(model.predict(X_test_indices))) + '\\n')"
   ]
  },
  {
   "cell_type": "code",
   "execution_count": null,
   "metadata": {
    "colab": {
     "base_uri": "https://localhost:8080/"
    },
    "id": "2VWMmOOMhbsv",
    "outputId": "94e7950e-a179-4c7a-a62c-7803b33e311a"
   },
   "outputs": [
    {
     "name": "stdout",
     "output_type": "stream",
     "text": [
      "Input: i am starving\n",
      "Predicted class: 4\n",
      "\n"
     ]
    }
   ],
   "source": [
    "x_test = np.array(['i am starving'])\n",
    "X_test_indices = sentences_to_indices(x_test, word_to_index_, maxLen)\n",
    "print('Input: ' + x_test[0])\n",
    "print('Predicted class: ' + str(np.argmax(model.predict(X_test_indices))) + '\\n')"
   ]
  },
  {
   "cell_type": "code",
   "execution_count": null,
   "metadata": {
    "colab": {
     "base_uri": "https://localhost:8080/"
    },
    "id": "--XHyS-HiwAR",
    "outputId": "8ec94eec-271c-4ed3-f0fe-2471f956b8d1"
   },
   "outputs": [
    {
     "name": "stdout",
     "output_type": "stream",
     "text": [
      "Input: I have met the love of my life\n",
      "Predicted class: 0\n",
      "\n"
     ]
    }
   ],
   "source": [
    "x_test = np.array(['I have met the love of my life'])\n",
    "X_test_indices = sentences_to_indices(x_test, word_to_index_, maxLen)\n",
    "print('Input: ' + x_test[0])\n",
    "print('Predicted class: ' + str(np.argmax(model.predict(X_test_indices))) + '\\n')"
   ]
  },
  {
   "cell_type": "markdown",
   "metadata": {
    "id": "mv7YmEv70eg0"
   },
   "source": [
    "##### Приказ на мерките за успешност на моделот"
   ]
  },
  {
   "cell_type": "code",
   "execution_count": null,
   "metadata": {
    "colab": {
     "base_uri": "https://localhost:8080/"
    },
    "id": "UtmkZ3_Y0lhA",
    "outputId": "1da6fece-8864-470f-b0d2-147c8b87bc44"
   },
   "outputs": [
    {
     "name": "stdout",
     "output_type": "stream",
     "text": [
      "Accuracy: 0.875\n"
     ]
    }
   ],
   "source": [
    "print('Accuracy: {0}'.format(str(acc)))"
   ]
  },
  {
   "cell_type": "code",
   "execution_count": null,
   "metadata": {
    "colab": {
     "base_uri": "https://localhost:8080/"
    },
    "id": "XG20SokF0s3j",
    "outputId": "500723d8-829b-4d63-eff2-edffc76fc8d2"
   },
   "outputs": [
    {
     "name": "stdout",
     "output_type": "stream",
     "text": [
      "Log loss: 1.0379356060709273\n"
     ]
    }
   ],
   "source": [
    "print('Log loss: {0}'.format(loss))"
   ]
  },
  {
   "cell_type": "code",
   "execution_count": null,
   "metadata": {
    "colab": {
     "base_uri": "https://localhost:8080/"
    },
    "id": "XpgvVOnS2L6k",
    "outputId": "3c94e4b6-c197-4bf7-f0ee-6ef0059adbff"
   },
   "outputs": [
    {
     "name": "stdout",
     "output_type": "stream",
     "text": [
      "Precision: 0.8752438411261941\n"
     ]
    }
   ],
   "source": [
    "print('Precision: {0}'.format(precision))"
   ]
  },
  {
   "cell_type": "code",
   "execution_count": null,
   "metadata": {
    "colab": {
     "base_uri": "https://localhost:8080/"
    },
    "id": "QIVQf9uU3AE8",
    "outputId": "ade75cec-aadc-44fa-d94d-d25913aab45e"
   },
   "outputs": [
    {
     "name": "stdout",
     "output_type": "stream",
     "text": [
      "Recall: 0.9152777777777779\n"
     ]
    }
   ],
   "source": [
    "print('Recall: {0}'.format(recall))"
   ]
  },
  {
   "cell_type": "code",
   "execution_count": null,
   "metadata": {
    "colab": {
     "base_uri": "https://localhost:8080/"
    },
    "id": "mpE7P4v73EKj",
    "outputId": "2b0ee398-28e6-42c7-e836-c18f816e69c9"
   },
   "outputs": [
    {
     "name": "stdout",
     "output_type": "stream",
     "text": [
      "F1 score: 0.8875224572587654\n"
     ]
    }
   ],
   "source": [
    "print('F1 score: {0}'.format(f1_score))"
   ]
  },
  {
   "cell_type": "code",
   "execution_count": null,
   "metadata": {
    "colab": {
     "base_uri": "https://localhost:8080/"
    },
    "id": "y4KuKrS01tb1",
    "outputId": "9c9ae9f3-6cb1-476f-b897-09899a80be1b"
   },
   "outputs": [
    {
     "name": "stdout",
     "output_type": "stream",
     "text": [
      "Classification report: \n",
      "              precision    recall  f1-score   support\n",
      "\n",
      "           0       0.70      1.00      0.82         7\n",
      "           1       0.89      1.00      0.94         8\n",
      "           2       0.94      0.89      0.91        18\n",
      "           3       0.85      0.69      0.76        16\n",
      "           4       1.00      1.00      1.00         7\n",
      "\n",
      "    accuracy                           0.88        56\n",
      "   macro avg       0.88      0.92      0.89        56\n",
      "weighted avg       0.88      0.88      0.87        56\n",
      "\n"
     ]
    }
   ],
   "source": [
    "print('Classification report: \\n{0}'.format(matrix))"
   ]
  }
 ],
 "metadata": {
  "colab": {
   "collapsed_sections": [
    "xBj5aWGiu6_l",
    "hpsI7BGbqcdF",
    "cUyUkoFOqiJy",
    "qhq0VFhiwnLR",
    "4PlJnLBy4CSM",
    "8bExuG7-2htJ",
    "2KZmxp1w4Q5Y",
    "CXvyQLHL2Evi",
    "CsD4Sovc46uL",
    "o7GFsn4n6jqU",
    "8hr-CMTV6lza",
    "5Lbykyvx6nrH",
    "2Q2kXbBw664E",
    "pWM3y3237p-o",
    "4JPcTqVhAgsX",
    "l1DPMvPO7tNj",
    "vyV_vNZ5PpaQ"
   ],
   "name": "is-code.ipynb",
   "provenance": [],
   "toc_visible": true
  },
  "kernelspec": {
   "display_name": "IS",
   "language": "python",
   "name": "is"
  },
  "language_info": {
   "codemirror_mode": {
    "name": "ipython",
    "version": 3
   },
   "file_extension": ".py",
   "mimetype": "text/x-python",
   "name": "python",
   "nbconvert_exporter": "python",
   "pygments_lexer": "ipython3",
   "version": "3.9.5"
  }
 },
 "nbformat": 4,
 "nbformat_minor": 1
}