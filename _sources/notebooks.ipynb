{
 "cells": [
  {
   "cell_type": "markdown",
   "metadata": {
    "id": "tRdpRtTSe3EH"
   },
   "source": [
    "### [Линк](https://colab.research.google.com/drive/1mguVQuMEn2mIfISPCf4I9P6rvjNAK2ub?usp=sharing) до самиот Notebook"
   ]
  },
  {
   "cell_type": "markdown",
   "metadata": {
    "id": "xBj5aWGiu6_l"
   },
   "source": [
    "### Вовед"
   ]
  },
  {
   "cell_type": "markdown",
   "metadata": {
    "id": "hpsI7BGbqcdF"
   },
   "source": [
    "#### Import на библиотеките кои се користат во кодот"
   ]
  },
  {
   "cell_type": "code",
   "execution_count": 4,
   "metadata": {
    "id": "h7vYNpukGweH"
   },
   "outputs": [],
   "source": [
    "from keras.models import Model\n",
    "from keras.layers import Dense, Input, Dropout, LSTM, Activation\n",
    "from keras.layers.embeddings import Embedding\n",
    "from sklearn.metrics import classification_report, f1_score, log_loss, precision_score, recall_score\n",
    "\n",
    "import csv\n",
    "import matplotlib.pyplot as plt\n",
    "import numpy as np\n",
    "import pandas as pd\n",
    "import zipfile\n",
    "\n",
    "np.random.seed(1)"
   ]
  },
  {
   "cell_type": "markdown",
   "metadata": {
    "id": "cUyUkoFOqiJy"
   },
   "source": [
    "#### Симнување на glove векторите за репрезентација на зборови"
   ]
  },
  {
   "cell_type": "code",
   "execution_count": null,
   "metadata": {
    "colab": {
     "base_uri": "https://localhost:8080/"
    },
    "id": "-dknM0a2mUvr",
    "outputId": "b22ee1dd-b0d1-47c6-feee-982766945f9c",
    "scrolled": true
   },
   "outputs": [],
   "source": [
    "!wget http://nlp.stanford.edu/data/glove.6B.zip\n",
    "\n",
    "with zipfile.ZipFile(\"glove.6B.zip\",\"r\") as zip_ref:\n",
    "    zip_ref.extractall(\".\")"
   ]
  },
  {
   "cell_type": "markdown",
   "metadata": {
    "id": "qhq0VFhiwnLR"
   },
   "source": [
    "### Помошни функции"
   ]
  },
  {
   "cell_type": "markdown",
   "metadata": {
    "id": "4PlJnLBy4CSM"
   },
   "source": [
    "#### Исчитување на glove фајлот со вредности"
   ]
  },
  {
   "cell_type": "code",
   "execution_count": 6,
   "metadata": {
    "id": "-qKz7uWfIjdx"
   },
   "outputs": [],
   "source": [
    "def read_glove_vecs(glove_file):\n",
    "    with open(glove_file, 'r', encoding=\"utf8\") as f:\n",
    "        words = set()\n",
    "        word_to_vec_map = {}\n",
    "        for line in f:\n",
    "            line = line.strip().split()\n",
    "            curr_word = line[0]\n",
    "            words.add(curr_word)\n",
    "            word_to_vec_map[curr_word] = np.array(line[1:], dtype=np.float64)\n",
    "\n",
    "        i = 1\n",
    "        words_to_index = {}\n",
    "        index_to_words = {}\n",
    "        for w in sorted(words):\n",
    "            words_to_index[w] = i\n",
    "            index_to_words[i] = w\n",
    "            i = i + 1\n",
    "            \n",
    "    return words_to_index, index_to_words, word_to_vec_map"
   ]
  },
  {
   "cell_type": "markdown",
   "metadata": {
    "id": "8bExuG7-2htJ"
   },
   "source": [
    "##### Softmax функцијата"
   ]
  },
  {
   "cell_type": "code",
   "execution_count": 7,
   "metadata": {
    "id": "2jFMvyQJIo1L"
   },
   "outputs": [],
   "source": [
    "def softmax(x):\n",
    "    e_x = np.exp(x - np.max(x))\n",
    "    \n",
    "    return e_x / e_x.sum()"
   ]
  },
  {
   "cell_type": "markdown",
   "metadata": {
    "id": "2KZmxp1w4Q5Y"
   },
   "source": [
    "##### Читање на соодветните вредности од CSV train и test датотеките"
   ]
  },
  {
   "cell_type": "code",
   "execution_count": 8,
   "metadata": {
    "id": "Z8J8vGNxIr23"
   },
   "outputs": [],
   "source": [
    "def read_csv(filename):\n",
    "    phrase = []\n",
    "    emoji_ = []\n",
    "\n",
    "    with open(filename) as csvDataFile:\n",
    "        csv_reader = csv.reader(csvDataFile)\n",
    "\n",
    "        for row in csv_reader:\n",
    "            phrase.append(row[0])\n",
    "            emoji_.append(row[1])\n",
    "\n",
    "    x = np.asarray(phrase)\n",
    "    y = np.asarray(emoji_, dtype=int)\n",
    "\n",
    "    return x, y\n"
   ]
  },
  {
   "cell_type": "markdown",
   "metadata": {
    "id": "CXvyQLHL2Evi"
   },
   "source": [
    "##### Излезите(бројки) ги претвора во one-hot вектори"
   ]
  },
  {
   "cell_type": "code",
   "execution_count": 9,
   "metadata": {
    "id": "6l1ElPjaIzcP"
   },
   "outputs": [],
   "source": [
    "def convert_to_one_hot(y, c):\n",
    "    y = np.eye(c)[y.reshape(-1)]\n",
    "    \n",
    "    return y"
   ]
  },
  {
   "cell_type": "markdown",
   "metadata": {
    "id": "CsD4Sovc46uL"
   },
   "source": [
    "##### Предвидување на излезите при дадени елементи како влез"
   ]
  },
  {
   "cell_type": "code",
   "execution_count": 10,
   "metadata": {
    "id": "UFMS7-IGJBrM"
   },
   "outputs": [],
   "source": [
    "def predict(X, Y, W, b, word_to_vec_map):\n",
    "    m = X.shape[0]\n",
    "    pred = np.zeros((m, 1))\n",
    "\n",
    "    for j in range(m):\n",
    "        words = X[j].lower().split()\n",
    "\n",
    "        avg = np.zeros((50,))\n",
    "        for w in words:\n",
    "            avg += word_to_vec_map[w]\n",
    "        avg = avg / len(words)\n",
    "\n",
    "        z = np.dot(W, avg) + b\n",
    "        a = softmax(z)\n",
    "        pred[j] = np.argmax(a)\n",
    "\n",
    "    print(\"Accuracy: \" + str(np.mean((pred[:] == Y.reshape(Y.shape[0], 1)[:]))))\n",
    "\n",
    "    return pred"
   ]
  },
  {
   "cell_type": "markdown",
   "metadata": {
    "id": "o7GFsn4n6jqU"
   },
   "source": [
    "##### Претворање на реченици дадени како влез во матрици од вредности"
   ]
  },
  {
   "cell_type": "code",
   "execution_count": 11,
   "metadata": {
    "id": "sM3SlQUdKKKk"
   },
   "outputs": [],
   "source": [
    "def sentences_to_indices(X, word_to_index, max_len):\n",
    "    m = X.shape[0] \n",
    "    x_indices = np.zeros((m, max_len))\n",
    "\n",
    "    for i in range(m):\n",
    "        sentence_words = (X[i].lower()).split()\n",
    "        j = 0\n",
    "    \n",
    "        for w in sentence_words:\n",
    "            # i-тата вредност е редниот број на реченицата, j-тата е редниот\n",
    "            # број на зборот во неа. вредноста која се поставува е таа на \n",
    "            # соодветниот збор\n",
    "            x_indices[i, j] = word_to_index[w]\n",
    "            j = j + 1\n",
    "    \n",
    "    return x_indices"
   ]
  },
  {
   "cell_type": "markdown",
   "metadata": {
    "id": "8hr-CMTV6lza"
   },
   "source": [
    "##### Креирање на веќе истрениран Embedding слој со помош на glove векторите"
   ]
  },
  {
   "cell_type": "code",
   "execution_count": 12,
   "metadata": {
    "id": "IR60_ZQIKWCc"
   },
   "outputs": [],
   "source": [
    "def pretrained_embedding_layer(word_to_vec_map, word_to_index):\n",
    "    vocab_len = len(word_to_index) + 1\n",
    "    emb_dim = word_to_vec_map[\"cucumber\"].shape[0]\n",
    "    emb_matrix = np.zeros((vocab_len, emb_dim))\n",
    "\n",
    "    for word, index in word_to_index.items():\n",
    "        emb_matrix[index, :] = word_to_vec_map[word]\n",
    "\n",
    "    embedding_layer = Embedding(vocab_len, emb_dim)\n",
    "    embedding_layer.build((None,))\n",
    "    embedding_layer.set_weights([emb_matrix])\n",
    "\n",
    "    return embedding_layer"
   ]
  },
  {
   "cell_type": "markdown",
   "metadata": {
    "id": "5Lbykyvx6nrH"
   },
   "source": [
    "##### Креирање на модел со соодветни предефинирани вредности"
   ]
  },
  {
   "cell_type": "code",
   "execution_count": 13,
   "metadata": {
    "id": "2UH6KMEoKW6m"
   },
   "outputs": [],
   "source": [
    "def sentiment_analysis(input_shape, word_to_vec_map, word_to_index):\n",
    "    sentence_indices = Input(shape=input_shape, dtype=np.int32)\n",
    "    embedding_layer = pretrained_embedding_layer(word_to_vec_map, word_to_index)\n",
    "    embeddings = embedding_layer(sentence_indices)\n",
    "\n",
    "    # LSTM слој со 128-димензионален hidden state\n",
    "    X = LSTM(128, return_sequences=True)(embeddings)\n",
    "    \n",
    "    # Веројатност на зачувување од 0.5\n",
    "    X = Dropout(0.5)(X)\n",
    "    \n",
    "    # Уште еден LSTM слој со 128-димензионален hidden state\n",
    "    X = LSTM(128)(X)\n",
    "\n",
    "    X = Dropout(0.5)(X)\n",
    "    X = Dense(5, activation='softmax')(X)\n",
    "    X = Activation('softmax')(X)\n",
    "\n",
    "    model = Model(sentence_indices, X)\n",
    "\n",
    "    return model"
   ]
  },
  {
   "cell_type": "markdown",
   "metadata": {
    "id": "nDFhT4GJwtws"
   },
   "source": [
    "# Main дел"
   ]
  },
  {
   "cell_type": "markdown",
   "metadata": {
    "id": "2Q2kXbBw664E"
   },
   "source": [
    "##### Читање на train и test податоците, пренос на излезите како one-hot вектори, читање на векторите за репрезентација на зборови"
   ]
  },
  {
   "cell_type": "code",
   "execution_count": 14,
   "metadata": {
    "id": "akJgOxOwrVm0"
   },
   "outputs": [],
   "source": [
    "X_train, Y_train = read_csv('train_set.csv')\n",
    "X_test, Y_test = read_csv('test_set.csv')\n",
    "\n",
    "maxLen = len(max(X_train, key=len).split())\n",
    "\n",
    "Y_oh_train = convert_to_one_hot(Y_train, 5)\n",
    "Y_oh_test = convert_to_one_hot(Y_test, 5)\n",
    "\n",
    "word_to_index_, index_to_word, word_to_vec_map_ = read_glove_vecs('glove.6B.50d.txt')"
   ]
  },
  {
   "cell_type": "markdown",
   "metadata": {
    "id": "pWM3y3237p-o"
   },
   "source": [
    "##### Креирање и тренирање на моделот"
   ]
  },
  {
   "cell_type": "code",
   "execution_count": 15,
   "metadata": {
    "colab": {
     "base_uri": "https://localhost:8080/"
    },
    "id": "GEvEG5U-KZAz",
    "outputId": "870d6c07-7f2b-4ad1-894c-d8d71ef2d3f4"
   },
   "outputs": [
    {
     "name": "stdout",
     "output_type": "stream",
     "text": [
      "Model: \"model\"\n",
      "_________________________________________________________________\n",
      "Layer (type)                 Output Shape              Param #   \n",
      "=================================================================\n",
      "input_1 (InputLayer)         [(None, 10)]              0         \n",
      "_________________________________________________________________\n",
      "embedding (Embedding)        (None, 10, 50)            20000050  \n",
      "_________________________________________________________________\n",
      "lstm (LSTM)                  (None, 10, 128)           91648     \n",
      "_________________________________________________________________\n",
      "dropout (Dropout)            (None, 10, 128)           0         \n",
      "_________________________________________________________________\n",
      "lstm_1 (LSTM)                (None, 128)               131584    \n",
      "_________________________________________________________________\n",
      "dropout_1 (Dropout)          (None, 128)               0         \n",
      "_________________________________________________________________\n",
      "dense (Dense)                (None, 5)                 645       \n",
      "_________________________________________________________________\n",
      "activation (Activation)      (None, 5)                 0         \n",
      "=================================================================\n",
      "Total params: 20,223,927\n",
      "Trainable params: 20,223,927\n",
      "Non-trainable params: 0\n",
      "_________________________________________________________________\n",
      "Epoch 1/100\n",
      "5/5 [==============================] - 22s 250ms/step - loss: 1.6106 - accuracy: 0.1661\n",
      "Epoch 2/100\n",
      "5/5 [==============================] - 1s 253ms/step - loss: 1.5805 - accuracy: 0.3077\n",
      "Epoch 3/100\n",
      "5/5 [==============================] - 1s 291ms/step - loss: 1.5590 - accuracy: 0.3394\n",
      "Epoch 4/100\n",
      "5/5 [==============================] - 1s 262ms/step - loss: 1.5537 - accuracy: 0.3011\n",
      "Epoch 5/100\n",
      "5/5 [==============================] - 2s 301ms/step - loss: 1.5278 - accuracy: 0.3882\n",
      "Epoch 6/100\n",
      "5/5 [==============================] - 1s 260ms/step - loss: 1.5208 - accuracy: 0.3507\n",
      "Epoch 7/100\n",
      "5/5 [==============================] - 1s 301ms/step - loss: 1.4531 - accuracy: 0.4456\n",
      "Epoch 8/100\n",
      "5/5 [==============================] - 1s 272ms/step - loss: 1.4214 - accuracy: 0.5230\n",
      "Epoch 9/100\n",
      "5/5 [==============================] - 2s 311ms/step - loss: 1.3497 - accuracy: 0.5813\n",
      "Epoch 10/100\n",
      "5/5 [==============================] - 1s 282ms/step - loss: 1.2985 - accuracy: 0.6758\n",
      "Epoch 11/100\n",
      "5/5 [==============================] - 1s 269ms/step - loss: 1.2545 - accuracy: 0.6303\n",
      "Epoch 12/100\n",
      "5/5 [==============================] - 1s 262ms/step - loss: 1.2518 - accuracy: 0.6680\n",
      "Epoch 13/100\n",
      "5/5 [==============================] - 1s 272ms/step - loss: 1.2642 - accuracy: 0.6502\n",
      "Epoch 14/100\n",
      "5/5 [==============================] - 1s 285ms/step - loss: 1.1848 - accuracy: 0.7510\n",
      "Epoch 15/100\n",
      "5/5 [==============================] - 1s 267ms/step - loss: 1.1812 - accuracy: 0.7055\n",
      "Epoch 16/100\n",
      "5/5 [==============================] - 1s 272ms/step - loss: 1.1052 - accuracy: 0.8387\n",
      "Epoch 17/100\n",
      "5/5 [==============================] - 1s 310ms/step - loss: 1.1229 - accuracy: 0.7762\n",
      "Epoch 18/100\n",
      "5/5 [==============================] - 1s 264ms/step - loss: 1.0919 - accuracy: 0.8267\n",
      "Epoch 19/100\n",
      "5/5 [==============================] - 2s 306ms/step - loss: 1.0535 - accuracy: 0.8685\n",
      "Epoch 20/100\n",
      "5/5 [==============================] - 1s 258ms/step - loss: 1.0297 - accuracy: 0.8935\n",
      "Epoch 21/100\n",
      "5/5 [==============================] - 2s 306ms/step - loss: 0.9983 - accuracy: 0.9249\n",
      "Epoch 22/100\n",
      "5/5 [==============================] - 1s 274ms/step - loss: 1.0080 - accuracy: 0.9167\n",
      "Epoch 23/100\n",
      "5/5 [==============================] - 2s 309ms/step - loss: 1.0281 - accuracy: 0.8716\n",
      "Epoch 24/100\n",
      "5/5 [==============================] - 1s 309ms/step - loss: 1.0175 - accuracy: 0.8768\n",
      "Epoch 25/100\n",
      "5/5 [==============================] - 1s 276ms/step - loss: 1.0512 - accuracy: 0.8532\n",
      "Epoch 26/100\n",
      "5/5 [==============================] - 1s 283ms/step - loss: 0.9771 - accuracy: 0.9339\n",
      "Epoch 27/100\n",
      "5/5 [==============================] - 1s 264ms/step - loss: 1.0103 - accuracy: 0.9091\n",
      "Epoch 28/100\n",
      "5/5 [==============================] - 1s 275ms/step - loss: 0.9570 - accuracy: 0.9557\n",
      "Epoch 29/100\n",
      "5/5 [==============================] - 2s 298ms/step - loss: 0.9835 - accuracy: 0.9404\n",
      "Epoch 30/100\n",
      "5/5 [==============================] - 1s 298ms/step - loss: 0.9609 - accuracy: 0.9491\n",
      "Epoch 31/100\n",
      "5/5 [==============================] - 2s 333ms/step - loss: 0.9667 - accuracy: 0.9374\n",
      "Epoch 32/100\n",
      "5/5 [==============================] - 1s 299ms/step - loss: 0.9477 - accuracy: 0.9647\n",
      "Epoch 33/100\n",
      "5/5 [==============================] - 1s 263ms/step - loss: 0.9510 - accuracy: 0.9541\n",
      "Epoch 34/100\n",
      "5/5 [==============================] - 2s 299ms/step - loss: 0.9561 - accuracy: 0.9577\n",
      "Epoch 35/100\n",
      "5/5 [==============================] - 1s 297ms/step - loss: 0.9448 - accuracy: 0.9631\n",
      "Epoch 36/100\n",
      "5/5 [==============================] - 1s 278ms/step - loss: 0.9447 - accuracy: 0.9675\n",
      "Epoch 37/100\n",
      "5/5 [==============================] - 1s 306ms/step - loss: 0.9208 - accuracy: 0.9962\n",
      "Epoch 38/100\n",
      "5/5 [==============================] - 1s 293ms/step - loss: 0.9288 - accuracy: 0.9812\n",
      "Epoch 39/100\n",
      "5/5 [==============================] - 2s 344ms/step - loss: 0.9283 - accuracy: 0.9746\n",
      "Epoch 40/100\n",
      "5/5 [==============================] - 1s 285ms/step - loss: 0.9248 - accuracy: 0.9889\n",
      "Epoch 41/100\n",
      "5/5 [==============================] - 1s 288ms/step - loss: 0.9164 - accuracy: 0.9906\n",
      "Epoch 42/100\n",
      "5/5 [==============================] - 1s 283ms/step - loss: 0.9137 - accuracy: 0.9944\n",
      "Epoch 43/100\n",
      "5/5 [==============================] - 2s 317ms/step - loss: 0.9138 - accuracy: 0.9944\n",
      "Epoch 44/100\n",
      "5/5 [==============================] - 1s 277ms/step - loss: 0.9146 - accuracy: 0.9918\n",
      "Epoch 45/100\n",
      "5/5 [==============================] - 1s 268ms/step - loss: 0.9143 - accuracy: 0.9918\n",
      "Epoch 46/100\n",
      "5/5 [==============================] - 1s 271ms/step - loss: 0.9100 - accuracy: 0.9962\n",
      "Epoch 47/100\n",
      "5/5 [==============================] - 2s 318ms/step - loss: 0.9188 - accuracy: 0.9866\n",
      "Epoch 48/100\n",
      "5/5 [==============================] - 2s 322ms/step - loss: 0.9111 - accuracy: 0.9944\n",
      "Epoch 49/100\n",
      "5/5 [==============================] - 1s 291ms/step - loss: 0.9187 - accuracy: 0.9866\n",
      "Epoch 50/100\n",
      "5/5 [==============================] - 2s 315ms/step - loss: 0.9191 - accuracy: 0.9866\n",
      "Epoch 51/100\n",
      "5/5 [==============================] - 1s 300ms/step - loss: 0.9126 - accuracy: 0.9906\n",
      "Epoch 52/100\n",
      "5/5 [==============================] - 1s 276ms/step - loss: 0.9133 - accuracy: 0.9923\n",
      "Epoch 53/100\n",
      "5/5 [==============================] - 1s 284ms/step - loss: 0.9190 - accuracy: 0.9866\n",
      "Epoch 54/100\n",
      "5/5 [==============================] - 2s 314ms/step - loss: 0.9161 - accuracy: 0.9906\n",
      "Epoch 55/100\n",
      "5/5 [==============================] - 2s 358ms/step - loss: 0.9179 - accuracy: 0.9863\n",
      "Epoch 56/100\n",
      "5/5 [==============================] - 2s 302ms/step - loss: 0.9110 - accuracy: 0.9944\n",
      "Epoch 57/100\n",
      "5/5 [==============================] - 2s 282ms/step - loss: 0.9146 - accuracy: 0.9918\n",
      "Epoch 58/100\n",
      "5/5 [==============================] - 2s 341ms/step - loss: 0.9103 - accuracy: 0.9962\n",
      "Epoch 59/100\n",
      "5/5 [==============================] - 2s 305ms/step - loss: 0.9094 - accuracy: 0.9962\n",
      "Epoch 60/100\n",
      "5/5 [==============================] - 1s 309ms/step - loss: 0.9181 - accuracy: 0.9866\n",
      "Epoch 61/100\n",
      "5/5 [==============================] - 1s 271ms/step - loss: 0.9091 - accuracy: 0.9962\n",
      "Epoch 62/100\n",
      "5/5 [==============================] - 2s 268ms/step - loss: 0.9094 - accuracy: 0.9962\n",
      "Epoch 63/100\n",
      "5/5 [==============================] - 1s 284ms/step - loss: 0.9138 - accuracy: 0.9918\n",
      "Epoch 64/100\n",
      "5/5 [==============================] - 1s 294ms/step - loss: 0.9111 - accuracy: 0.9944\n",
      "Epoch 65/100\n",
      "5/5 [==============================] - 2s 288ms/step - loss: 0.9139 - accuracy: 0.9918\n",
      "Epoch 66/100\n",
      "5/5 [==============================] - 1s 282ms/step - loss: 0.9094 - accuracy: 0.9962\n",
      "Epoch 67/100\n",
      "5/5 [==============================] - 1s 261ms/step - loss: 0.9133 - accuracy: 0.9918\n",
      "Epoch 68/100\n"
     ]
    },
    {
     "name": "stdout",
     "output_type": "stream",
     "text": [
      "5/5 [==============================] - 1s 293ms/step - loss: 0.9092 - accuracy: 0.9962\n",
      "Epoch 69/100\n",
      "5/5 [==============================] - 2s 305ms/step - loss: 0.9093 - accuracy: 0.9962\n",
      "Epoch 70/100\n",
      "5/5 [==============================] - 1s 264ms/step - loss: 0.9091 - accuracy: 0.9962\n",
      "Epoch 71/100\n",
      "5/5 [==============================] - 2s 327ms/step - loss: 0.9106 - accuracy: 0.9944\n",
      "Epoch 72/100\n",
      "5/5 [==============================] - 1s 279ms/step - loss: 0.9135 - accuracy: 0.9918\n",
      "Epoch 73/100\n",
      "5/5 [==============================] - 2s 305ms/step - loss: 0.9106 - accuracy: 0.9944\n",
      "Epoch 74/100\n",
      "5/5 [==============================] - 2s 301ms/step - loss: 0.9088 - accuracy: 0.9962\n",
      "Epoch 75/100\n",
      "5/5 [==============================] - 1s 268ms/step - loss: 0.9108 - accuracy: 0.9944\n",
      "Epoch 76/100\n",
      "5/5 [==============================] - 1s 266ms/step - loss: 0.9181 - accuracy: 0.9866\n",
      "Epoch 77/100\n",
      "5/5 [==============================] - 1s 297ms/step - loss: 0.9134 - accuracy: 0.9918\n",
      "Epoch 78/100\n",
      "5/5 [==============================] - 1s 265ms/step - loss: 0.9133 - accuracy: 0.9918\n",
      "Epoch 79/100\n",
      "5/5 [==============================] - 1s 294ms/step - loss: 0.9110 - accuracy: 0.9944\n",
      "Epoch 80/100\n",
      "5/5 [==============================] - 2s 346ms/step - loss: 0.9181 - accuracy: 0.9866\n",
      "Epoch 81/100\n",
      "5/5 [==============================] - 1s 280ms/step - loss: 0.9128 - accuracy: 0.9918\n",
      "Epoch 82/100\n",
      "5/5 [==============================] - 1s 260ms/step - loss: 0.9106 - accuracy: 0.9944\n",
      "Epoch 83/100\n",
      "5/5 [==============================] - 2s 307ms/step - loss: 0.9130 - accuracy: 0.9918\n",
      "Epoch 84/100\n",
      "5/5 [==============================] - 1s 285ms/step - loss: 0.9133 - accuracy: 0.9918\n",
      "Epoch 85/100\n",
      "5/5 [==============================] - 2s 297ms/step - loss: 0.9088 - accuracy: 0.9962\n",
      "Epoch 86/100\n",
      "5/5 [==============================] - 1s 303ms/step - loss: 0.9128 - accuracy: 0.9918\n",
      "Epoch 87/100\n",
      "5/5 [==============================] - 1s 274ms/step - loss: 0.9130 - accuracy: 0.9918\n",
      "Epoch 88/100\n",
      "5/5 [==============================] - 1s 269ms/step - loss: 0.9076 - accuracy: 0.9975\n",
      "Epoch 89/100\n",
      "5/5 [==============================] - 1s 277ms/step - loss: 0.9108 - accuracy: 0.9944\n",
      "Epoch 90/100\n",
      "5/5 [==============================] - 1s 253ms/step - loss: 0.9096 - accuracy: 0.9975\n",
      "Epoch 91/100\n",
      "5/5 [==============================] - 1s 303ms/step - loss: 0.9137 - accuracy: 0.9923\n",
      "Epoch 92/100\n",
      "5/5 [==============================] - 2s 301ms/step - loss: 0.9529 - accuracy: 0.9478\n",
      "Epoch 93/100\n",
      "5/5 [==============================] - 2s 333ms/step - loss: 0.9485 - accuracy: 0.9569\n",
      "Epoch 94/100\n",
      "5/5 [==============================] - 1s 268ms/step - loss: 0.9316 - accuracy: 0.9732\n",
      "Epoch 95/100\n",
      "5/5 [==============================] - 2s 338ms/step - loss: 0.9140 - accuracy: 0.9918\n",
      "Epoch 96/100\n",
      "5/5 [==============================] - 1s 277ms/step - loss: 0.9167 - accuracy: 0.9918\n",
      "Epoch 97/100\n",
      "5/5 [==============================] - 1s 292ms/step - loss: 0.9164 - accuracy: 0.9880\n",
      "Epoch 98/100\n",
      "5/5 [==============================] - 1s 278ms/step - loss: 0.9109 - accuracy: 0.9944\n",
      "Epoch 99/100\n",
      "5/5 [==============================] - 2s 332ms/step - loss: 0.9186 - accuracy: 0.9866\n",
      "Epoch 100/100\n",
      "5/5 [==============================] - 1s 296ms/step - loss: 0.9094 - accuracy: 0.9962\n"
     ]
    },
    {
     "data": {
      "text/plain": [
       "<keras.callbacks.History at 0x7f592dc79cd0>"
      ]
     },
     "execution_count": 15,
     "metadata": {},
     "output_type": "execute_result"
    }
   ],
   "source": [
    "model = sentiment_analysis((maxLen,), word_to_vec_map_, word_to_index_)\n",
    "model.summary()\n",
    "model.compile(loss='categorical_crossentropy', optimizer='adam', metrics=['accuracy'])\n",
    "\n",
    "X_train_indices = sentences_to_indices(X_train, word_to_index_, maxLen)\n",
    "Y_train_oh = convert_to_one_hot(Y_train, 5)\n",
    "\n",
    "model.fit(X_train_indices, Y_train_oh, epochs=100, batch_size=32, shuffle=True)"
   ]
  },
  {
   "cell_type": "markdown",
   "metadata": {
    "id": "4JPcTqVhAgsX"
   },
   "source": [
    "##### Тестирање на моделот со test податоците"
   ]
  },
  {
   "cell_type": "code",
   "execution_count": 16,
   "metadata": {
    "colab": {
     "base_uri": "https://localhost:8080/"
    },
    "id": "z-0mnqnT_5Ww",
    "outputId": "a68903e1-bb14-426d-9e23-efff6aaa4e37"
   },
   "outputs": [
    {
     "name": "stdout",
     "output_type": "stream",
     "text": [
      "2/2 [==============================] - 1s 6ms/step - loss: 1.1768 - accuracy: 0.7321\n",
      "\n",
      "Accuracy  0.7321428656578064\n"
     ]
    }
   ],
   "source": [
    "X_test_indices = sentences_to_indices(X_test, word_to_index_, max_len=maxLen)\n",
    "Y_test_oh = convert_to_one_hot(Y_test, 5)\n",
    "\n",
    "loss, acc = model.evaluate(X_test_indices, Y_test_oh)\n",
    "print()\n",
    "print(\"Accuracy \", acc)"
   ]
  },
  {
   "cell_type": "markdown",
   "metadata": {
    "id": "l1DPMvPO7tNj"
   },
   "source": [
    "##### Преглед на влезовите кои се грешно предвидени и дополнителни метрики за евалуација"
   ]
  },
  {
   "cell_type": "code",
   "execution_count": 17,
   "metadata": {
    "colab": {
     "base_uri": "https://localhost:8080/"
    },
    "id": "2aj86ce1oNuZ",
    "outputId": "16ff9593-6918-487b-be6a-469d6be4fd2c"
   },
   "outputs": [
    {
     "name": "stdout",
     "output_type": "stream",
     "text": [
      "Input: he got a very nice raise\n",
      "Expected class: 2\n",
      "Predicted class: 0\n",
      "\n",
      "Input: she got me a nice present\n",
      "Expected class: 2\n",
      "Predicted class: 0\n",
      "\n",
      "Input: he is a good friend\n",
      "Expected class: 2\n",
      "Predicted class: 0\n",
      "\n",
      "Input: I am upset\n",
      "Expected class: 3\n",
      "Predicted class: 1\n",
      "\n",
      "Input: work is hard\n",
      "Expected class: 3\n",
      "Predicted class: 2\n",
      "\n",
      "Input: This girl is messing with me\n",
      "Expected class: 3\n",
      "Predicted class: 0\n",
      "\n",
      "Input: any suggestions for dinner\n",
      "Expected class: 4\n",
      "Predicted class: 2\n",
      "\n",
      "Input: you brighten my day\n",
      "Expected class: 2\n",
      "Predicted class: 0\n",
      "\n",
      "Input: she is a bully\n",
      "Expected class: 3\n",
      "Predicted class: 0\n",
      "\n",
      "Input: I am upset\n",
      "Expected class: 3\n",
      "Predicted class: 1\n",
      "\n",
      "Input: My life is so boring\n",
      "Expected class: 3\n",
      "Predicted class: 0\n",
      "\n",
      "Input: will you be my valentine\n",
      "Expected class: 2\n",
      "Predicted class: 0\n",
      "\n",
      "Input: What you did was awesome\n",
      "Expected class: 2\n",
      "Predicted class: 0\n",
      "\n",
      "Input: I do not want to joke\n",
      "Expected class: 3\n",
      "Predicted class: 0\n",
      "\n",
      "Input: go away\n",
      "Expected class: 3\n",
      "Predicted class: 1\n",
      "\n"
     ]
    }
   ],
   "source": [
    "y_test_oh = np.eye(5)[Y_test.reshape(-1)]\n",
    "X_test_indices = sentences_to_indices(X_test, word_to_index_, maxLen)\n",
    "pred = model.predict(X_test_indices)\n",
    "\n",
    "actual = []\n",
    "predicted = []\n",
    "\n",
    "for i in range(len(X_test)):\n",
    "    x = X_test_indices\n",
    "    num = np.argmax(pred[i])\n",
    "\n",
    "    actual.append(Y_test[i])\n",
    "    predicted.append(num)\n",
    "\n",
    "    if num != Y_test[i]:\n",
    "        print('Input: ' + str(X_test[i]))\n",
    "        print('Expected class: ' + str(Y_test[i]))\n",
    "        print('Predicted class: ' + str(num) + '\\n')\n",
    "\n",
    "precision = precision_score(actual, predicted, average='macro')\n",
    "recall = recall_score(actual, predicted, average='macro')\n",
    "f1_score = f1_score(actual, predicted, average='macro')\n",
    "loss = log_loss(actual, pred, eps=1e-15)\n",
    "matrix = classification_report(actual, predicted, labels=[0, 1, 2, 3, 4])"
   ]
  },
  {
   "cell_type": "markdown",
   "metadata": {
    "id": "vyV_vNZ5PpaQ"
   },
   "source": [
    "##### Тестирање на моделот со влезови од корисник"
   ]
  },
  {
   "cell_type": "code",
   "execution_count": 18,
   "metadata": {
    "colab": {
     "base_uri": "https://localhost:8080/"
    },
    "id": "Fv1e3n5WPqB4",
    "outputId": "f1d6f3e3-fabd-4141-d60c-0213e2e56df1"
   },
   "outputs": [
    {
     "name": "stdout",
     "output_type": "stream",
     "text": [
      "Input: very happy\n",
      "Predicted class: 2\n",
      "\n"
     ]
    }
   ],
   "source": [
    "x_test = np.array(['very happy'])\n",
    "X_test_indices = sentences_to_indices(x_test, word_to_index_, maxLen)\n",
    "print('Input: ' + x_test[0])\n",
    "print('Predicted class: ' + str(np.argmax(model.predict(X_test_indices))) + '\\n')"
   ]
  },
  {
   "cell_type": "code",
   "execution_count": 19,
   "metadata": {
    "colab": {
     "base_uri": "https://localhost:8080/"
    },
    "id": "4MPvk4NyX_-8",
    "outputId": "658a436a-3113-4b01-9912-14d2dfd67556"
   },
   "outputs": [
    {
     "name": "stdout",
     "output_type": "stream",
     "text": [
      "Input: very sad\n",
      "Predicted class: 2\n",
      "\n"
     ]
    }
   ],
   "source": [
    "x_test = np.array(['very sad'])\n",
    "X_test_indices = sentences_to_indices(x_test, word_to_index_, maxLen)\n",
    "print('Input: ' + x_test[0])\n",
    "print('Predicted class: ' + str(np.argmax(model.predict(X_test_indices))) + '\\n')"
   ]
  },
  {
   "cell_type": "code",
   "execution_count": 20,
   "metadata": {
    "colab": {
     "base_uri": "https://localhost:8080/"
    },
    "id": "2VWMmOOMhbsv",
    "outputId": "94e7950e-a179-4c7a-a62c-7803b33e311a"
   },
   "outputs": [
    {
     "name": "stdout",
     "output_type": "stream",
     "text": [
      "Input: i am starving\n",
      "Predicted class: 4\n",
      "\n"
     ]
    }
   ],
   "source": [
    "x_test = np.array(['i am starving'])\n",
    "X_test_indices = sentences_to_indices(x_test, word_to_index_, maxLen)\n",
    "print('Input: ' + x_test[0])\n",
    "print('Predicted class: ' + str(np.argmax(model.predict(X_test_indices))) + '\\n')"
   ]
  },
  {
   "cell_type": "code",
   "execution_count": 21,
   "metadata": {
    "colab": {
     "base_uri": "https://localhost:8080/"
    },
    "id": "--XHyS-HiwAR",
    "outputId": "8ec94eec-271c-4ed3-f0fe-2471f956b8d1"
   },
   "outputs": [
    {
     "name": "stdout",
     "output_type": "stream",
     "text": [
      "Input: I have met the love of my life\n",
      "Predicted class: 0\n",
      "\n"
     ]
    }
   ],
   "source": [
    "x_test = np.array(['I have met the love of my life'])\n",
    "X_test_indices = sentences_to_indices(x_test, word_to_index_, maxLen)\n",
    "print('Input: ' + x_test[0])\n",
    "print('Predicted class: ' + str(np.argmax(model.predict(X_test_indices))) + '\\n')"
   ]
  },
  {
   "cell_type": "markdown",
   "metadata": {
    "id": "mv7YmEv70eg0"
   },
   "source": [
    "##### Приказ на мерките за успешност на моделот"
   ]
  },
  {
   "cell_type": "code",
   "execution_count": 22,
   "metadata": {
    "colab": {
     "base_uri": "https://localhost:8080/"
    },
    "id": "UtmkZ3_Y0lhA",
    "outputId": "1da6fece-8864-470f-b0d2-147c8b87bc44"
   },
   "outputs": [
    {
     "name": "stdout",
     "output_type": "stream",
     "text": [
      "Accuracy: 0.7321428656578064\n"
     ]
    }
   ],
   "source": [
    "print('Accuracy: {0}'.format(str(acc)))"
   ]
  },
  {
   "cell_type": "code",
   "execution_count": 23,
   "metadata": {
    "colab": {
     "base_uri": "https://localhost:8080/"
    },
    "id": "XG20SokF0s3j",
    "outputId": "500723d8-829b-4d63-eff2-edffc76fc8d2"
   },
   "outputs": [
    {
     "name": "stdout",
     "output_type": "stream",
     "text": [
      "Log loss: 1.176811202296189\n"
     ]
    }
   ],
   "source": [
    "print('Log loss: {0}'.format(loss))"
   ]
  },
  {
   "cell_type": "code",
   "execution_count": 24,
   "metadata": {
    "colab": {
     "base_uri": "https://localhost:8080/"
    },
    "id": "XpgvVOnS2L6k",
    "outputId": "3c94e4b6-c197-4bf7-f0ee-6ef0059adbff"
   },
   "outputs": [
    {
     "name": "stdout",
     "output_type": "stream",
     "text": [
      "Precision: 0.7992360580595875\n"
     ]
    }
   ],
   "source": [
    "print('Precision: {0}'.format(precision))"
   ]
  },
  {
   "cell_type": "code",
   "execution_count": 25,
   "metadata": {
    "colab": {
     "base_uri": "https://localhost:8080/"
    },
    "id": "QIVQf9uU3AE8",
    "outputId": "ade75cec-aadc-44fa-d94d-d25913aab45e"
   },
   "outputs": [
    {
     "name": "stdout",
     "output_type": "stream",
     "text": [
      "Recall: 0.8047619047619048\n"
     ]
    }
   ],
   "source": [
    "print('Recall: {0}'.format(recall))"
   ]
  },
  {
   "cell_type": "code",
   "execution_count": 26,
   "metadata": {
    "colab": {
     "base_uri": "https://localhost:8080/"
    },
    "id": "mpE7P4v73EKj",
    "outputId": "2b0ee398-28e6-42c7-e836-c18f816e69c9"
   },
   "outputs": [
    {
     "name": "stdout",
     "output_type": "stream",
     "text": [
      "F1 score: 0.7530364372469636\n"
     ]
    }
   ],
   "source": [
    "print('F1 score: {0}'.format(f1_score))"
   ]
  },
  {
   "cell_type": "code",
   "execution_count": 27,
   "metadata": {
    "colab": {
     "base_uri": "https://localhost:8080/"
    },
    "id": "y4KuKrS01tb1",
    "outputId": "9c9ae9f3-6cb1-476f-b897-09899a80be1b"
   },
   "outputs": [
    {
     "name": "stdout",
     "output_type": "stream",
     "text": [
      "Classification report: \n",
      "              precision    recall  f1-score   support\n",
      "\n",
      "           0       0.41      1.00      0.58         7\n",
      "           1       0.73      1.00      0.84         8\n",
      "           2       0.86      0.67      0.75        18\n",
      "           3       1.00      0.50      0.67        16\n",
      "           4       1.00      0.86      0.92         7\n",
      "\n",
      "    accuracy                           0.73        56\n",
      "   macro avg       0.80      0.80      0.75        56\n",
      "weighted avg       0.84      0.73      0.74        56\n",
      "\n"
     ]
    }
   ],
   "source": [
    "print('Classification report: \\n{0}'.format(matrix))"
   ]
  }
 ],
 "metadata": {
  "colab": {
   "collapsed_sections": [
    "xBj5aWGiu6_l",
    "hpsI7BGbqcdF",
    "cUyUkoFOqiJy",
    "qhq0VFhiwnLR",
    "4PlJnLBy4CSM",
    "8bExuG7-2htJ",
    "2KZmxp1w4Q5Y",
    "CXvyQLHL2Evi",
    "CsD4Sovc46uL",
    "o7GFsn4n6jqU",
    "8hr-CMTV6lza",
    "5Lbykyvx6nrH",
    "2Q2kXbBw664E",
    "pWM3y3237p-o",
    "4JPcTqVhAgsX",
    "l1DPMvPO7tNj",
    "vyV_vNZ5PpaQ"
   ],
   "name": "is-code.ipynb",
   "provenance": [],
   "toc_visible": true
  },
  "kernelspec": {
   "display_name": "IS",
   "language": "python",
   "name": "is"
  },
  "language_info": {
   "codemirror_mode": {
    "name": "ipython",
    "version": 3
   },
   "file_extension": ".py",
   "mimetype": "text/x-python",
   "name": "python",
   "nbconvert_exporter": "python",
   "pygments_lexer": "ipython3",
   "version": "3.9.5"
  }
 },
 "nbformat": 4,
 "nbformat_minor": 1
}
